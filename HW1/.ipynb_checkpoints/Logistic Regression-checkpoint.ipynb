{
 "cells": [
  {
   "cell_type": "code",
   "execution_count": 261,
   "metadata": {},
   "outputs": [],
   "source": [
    "from sklearn.metrics import f1_score\n",
    "import pandas as pd\n",
    "import numpy as np\n",
    "import re\n",
    "from collections import Counter\n",
    "from collections import defaultdict\n",
    "import copy\n",
    "\n",
    "from scipy.sparse import csr_matrix\n",
    "from sklearn.naive_bayes import BernoulliNB\n",
    "\n",
    "from  math import exp\n",
    "import random\n",
    "\n",
    "\n",
    "\n",
    "\n",
    "\n",
    "\n",
    "\n",
    "\n"
   ]
  },
  {
   "cell_type": "code",
   "execution_count": null,
   "metadata": {},
   "outputs": [],
   "source": [
    "df1 = pd.read_csv(\"train.csv\")\n",
    "df2 = df1[df1.Insult == 0]\n",
    "df3 = df1[df1.Insult == 1]\n",
    "df0 = df1\n",
    "\n",
    "lst_of_0_token = tokenize(df2.Comment)\n",
    "counter_0 = Counter(lst_of_0_token)\n",
    "\n",
    "lst_of_1_token = tokenize(df3.Comment)\n",
    "counter_1 = Counter(lst_of_1_token)\n",
    "\n",
    "lst_of_all_token = tokenize(df1.Comment)\n",
    "counter_all = Counter(lst_of_all_token)\n",
    "\n",
    "\n"
   ]
  },
  {
   "cell_type": "code",
   "execution_count": 345,
   "metadata": {},
   "outputs": [
    {
     "name": "stdout",
     "output_type": "stream",
     "text": [
      "24882\n"
     ]
    }
   ],
   "source": [
    "print(len(counter_all))"
   ]
  },
  {
   "cell_type": "code",
   "execution_count": 269,
   "metadata": {},
   "outputs": [],
   "source": [
    "\n",
    "\n",
    "#     print(text)\n",
    "def tokenize(dataframe):\n",
    "    lst_of_token = []\n",
    "    for i in dataframe:\n",
    "        opt = i.lower()\n",
    "        opt = opt.replace('\"', '',1)\n",
    "        opt = opt.replace('\"',' ', -1)\n",
    "        text = opt.split()\n",
    "        lst_of_token += text\n",
    "    return lst_of_token\n",
    "# # print(type(text))\n",
    "# # all_df = df1\n",
    "# lst_of_all_token = tokenize(all_df.Comment[:5])\n",
    "# # df2 = df1[df1.Insult == 1]\n",
    "# lst_of_1_token = tokenize(df2.Comment[:5])\n",
    "    \n",
    "# print(lst_of_1_token)\n",
    "def tokenstring(i):\n",
    "    lst_of_token = []\n",
    "    opt = i.lower()\n",
    "    opt = opt.replace('\"', '',1)\n",
    "    opt = opt.replace('\"',' ', -1)\n",
    "    text = opt.split()\n",
    "    lst_of_token += text\n",
    "    return lst_of_token\n",
    "\n"
   ]
  },
  {
   "cell_type": "code",
   "execution_count": 270,
   "metadata": {},
   "outputs": [],
   "source": [
    "def sigmoid(X):\n",
    "    \n",
    "    result = 1 / (1+ math.exp(-X))\n",
    "    return result\n"
   ]
  },
  {
   "cell_type": "code",
   "execution_count": 309,
   "metadata": {},
   "outputs": [],
   "source": [
    "all_dict = counter_all\n",
    "all_dict = dict.fromkeys(all_dict,0)\n",
    "# print(all_dict)\n",
    "all_dict['BIAS'] = 1"
   ]
  },
  {
   "cell_type": "code",
   "execution_count": 310,
   "metadata": {},
   "outputs": [],
   "source": [
    "\n",
    "def make_comment_dict_lst():\n",
    "    lst_of_comment_dict = []\n",
    "    for i in df1.Comment:\n",
    "        lst_of_comment = tokenstring(i)\n",
    "        count_comment = Counter(lst_of_comment)\n",
    "        count_comment['BIAS'] = 1\n",
    "        lst_of_comment_dict.append(count_comment)\n",
    "#     print(lst_of_comment_dict[:1])\n",
    "    return lst_of_comment_dict"
   ]
  },
  {
   "cell_type": "code",
   "execution_count": 273,
   "metadata": {},
   "outputs": [],
   "source": [
    "comment_dict_lst = make_comment_dict_lst()"
   ]
  },
  {
   "cell_type": "code",
   "execution_count": 274,
   "metadata": {},
   "outputs": [
    {
     "data": {
      "text/plain": [
       "array([0., 0., 0., ..., 0., 0., 0.])"
      ]
     },
     "execution_count": 274,
     "metadata": {},
     "output_type": "execute_result"
    }
   ],
   "source": [
    "b = np.zeros(len(all_dict))\n",
    "# sparse_b = csr_matrix(b)\n",
    "default_b = b.T\n",
    "default_b"
   ]
  },
  {
   "cell_type": "code",
   "execution_count": 275,
   "metadata": {},
   "outputs": [],
   "source": [
    "\n",
    "def make_row_matrix(lst):\n",
    "\n",
    "    row_array_dict = {}\n",
    "    n = 0\n",
    "    for i in lst:\n",
    "        new_array_list = []\n",
    "        all_dict = counter_all\n",
    "        all_dict = dict.fromkeys(all_dict,0)\n",
    "        all_dict['BIAS'] = 1\n",
    "        for word in dict(i):\n",
    "    #         print(word)\n",
    "            all_dict[word] = i[word]\n",
    "        new_array = np.array(list(all_dict.values()))\n",
    "    #     print(new_array)\n",
    "        sparse_matrix = csr_matrix(new_array)\n",
    "    #     print(sparse_matrix)\n",
    "        row_array_dict[n] = sparse_matrix\n",
    "        n += 1\n",
    "#         print(array_dict)\n",
    "    return row_array_dict\n"
   ]
  },
  {
   "cell_type": "code",
   "execution_count": 276,
   "metadata": {},
   "outputs": [],
   "source": [
    "row_array_dict = make_row_matrix(comment_dict_lst)\n"
   ]
  },
  {
   "cell_type": "code",
   "execution_count": 265,
   "metadata": {},
   "outputs": [
    {
     "name": "stdout",
     "output_type": "stream",
     "text": [
      "{0: <1x6 sparse matrix of type '<class 'numpy.int64'>'\n",
      "\twith 5 stored elements in Compressed Sparse Row format>, 1: <1x6 sparse matrix of type '<class 'numpy.int64'>'\n",
      "\twith 4 stored elements in Compressed Sparse Row format>}\n"
     ]
    }
   ],
   "source": [
    "# print(row_array_dict)"
   ]
  },
  {
   "cell_type": "code",
   "execution_count": 277,
   "metadata": {},
   "outputs": [
    {
     "name": "stdout",
     "output_type": "stream",
     "text": [
      "{0: <1x24883 sparse matrix of type '<class 'numpy.int64'>'\n",
      "\twith 5 stored elements in Compressed Sparse Row format>}\n"
     ]
    }
   ],
   "source": [
    "test_dict = {}\n",
    "test_dict[0] = row_array_dict[0]\n",
    "print(test_dict)"
   ]
  },
  {
   "cell_type": "code",
   "execution_count": 278,
   "metadata": {},
   "outputs": [],
   "source": [
    "def make_X_dict(array_dict, b):\n",
    "    X_dict = {}\n",
    "    n = 0\n",
    "    for array in array_dict.values():\n",
    "        sumxb = array.dot(b)\n",
    "        X_dict[n]  =sumxb\n",
    "        n+=1\n",
    "    return X_dict\n",
    "\n",
    "    "
   ]
  },
  {
   "cell_type": "code",
   "execution_count": 279,
   "metadata": {},
   "outputs": [],
   "source": [
    "x_test = make_X_dict(test_dict,default_b)"
   ]
  },
  {
   "cell_type": "code",
   "execution_count": 280,
   "metadata": {},
   "outputs": [],
   "source": [
    "def make_true_value():\n",
    "    true_lst = []\n",
    "    for row in df1.Insult:\n",
    "        true_lst.append(row)\n",
    "    return true_lst\n"
   ]
  },
  {
   "cell_type": "code",
   "execution_count": 281,
   "metadata": {},
   "outputs": [],
   "source": [
    "true = make_true_value()"
   ]
  },
  {
   "cell_type": "code",
   "execution_count": 359,
   "metadata": {},
   "outputs": [],
   "source": [
    "def Likelihood(array, index, test_b):\n",
    "    sumxb = array.dot(test_b)\n",
    "#     print(type(sumxb))\n",
    "    sig  = sigmoid(sumxb)\n",
    "#     diff = true[index] - sig\n",
    "    return sig\n",
    "\n"
   ]
  },
  {
   "cell_type": "code",
   "execution_count": 365,
   "metadata": {},
   "outputs": [
    {
     "name": "stdout",
     "output_type": "stream",
     "text": [
      "0.7342285279959463\n"
     ]
    }
   ],
   "source": [
    "def FindF1(beta):\n",
    "    index = 0\n",
    "    pro = []\n",
    "    for i in row_array_dict.values():\n",
    "        sig = Likelihood(i,index, beta)\n",
    "        if sig > 0.5:\n",
    "            pro.append(1)\n",
    "        else:\n",
    "            pro.append(0)\n",
    "    f1 = f1_score(true, pro, average='micro')\n",
    "            \n",
    "    \n",
    "    \n",
    "    \n",
    "    \n",
    "    return f1\n",
    "\n",
    "# print(FindF1(default_b))\n",
    "    "
   ]
  },
  {
   "cell_type": "code",
   "execution_count": 366,
   "metadata": {},
   "outputs": [],
   "source": [
    "def descent(alpha):\n",
    "    b = np.zeros((len(all_dict),1))\n",
    "    round_num = 0\n",
    "    F1 = 0\n",
    "    while round_num < 89:\n",
    "#         i = numpy.random.random_integers(len(df1.Comment)-1)\n",
    "        print(\"round\", round_num)\n",
    "        for loop in range(len(df1.Comment)):\n",
    "#             print(\"loop\", i)\n",
    "            i = numpy.random.random_integers(len(df1.Comment)-1)\n",
    "            like = Likelihood(row_array_dict[i], i, b)\n",
    "\n",
    "#             print(like)\n",
    "            ara = alpha *(true[i] - like)*(row_array_dict[i].T)\n",
    "#             print(ara)\n",
    "    #         print(type(b))\n",
    "            b = b + ara\n",
    "        F1 = FindF1(b)\n",
    "        print(F1)\n",
    "        round_num += 1\n",
    "    #         print(b)\n",
    "#             if abs(FindF1(b) - F1 ) > 0.1:\n",
    "#                 F1 = FindF1(b)\n",
    "#                 print(F1)\n",
    "    return b,F1"
   ]
  },
  {
   "cell_type": "code",
   "execution_count": 367,
   "metadata": {
    "collapsed": true
   },
   "outputs": [
    {
     "name": "stdout",
     "output_type": "stream",
     "text": [
      "round 0\n"
     ]
    },
    {
     "name": "stderr",
     "output_type": "stream",
     "text": [
      "/anaconda3/lib/python3.6/site-packages/ipykernel_launcher.py:10: DeprecationWarning: This function is deprecated. Please call randint(1, 3946 + 1) instead\n",
      "  # Remove the CWD from sys.path while we load stuff.\n"
     ]
    },
    {
     "name": "stdout",
     "output_type": "stream",
     "text": [
      "0.7626045097542438\n",
      "round 1\n",
      "0.7957942741322523\n",
      "round 2\n",
      "0.8267038256903978\n",
      "round 3\n",
      "0.8355713199898658\n",
      "round 4\n",
      "0.8459589561692423\n",
      "round 5\n",
      "0.8563465923486191\n",
      "round 6\n",
      "0.8614137319483152\n",
      "round 7\n",
      "0.8728147960476311\n",
      "round 8\n",
      "0.8697745122878136\n",
      "round 9\n",
      "0.8834557892069926\n",
      "round 10\n",
      "0.8837091461869775\n",
      "round 11\n",
      "0.8834557892069926\n",
      "round 12\n",
      "0.8900430706865974\n",
      "round 13\n",
      "0.8989105649860654\n",
      "round 14\n",
      "0.9044844185457309\n",
      "round 15\n",
      "0.8999239929060046\n",
      "round 16\n",
      "0.9136052698251836\n",
      "round 17\n",
      "0.9128451988852293\n",
      "round 18\n",
      "0.9153787686850773\n",
      "round 19\n",
      "0.9143653407651381\n",
      "round 20\n",
      "0.9184190524448949\n",
      "round 21\n",
      "0.925766404864454\n",
      "round 22\n",
      "0.9288066886242716\n",
      "round 23\n",
      "0.9288066886242716\n",
      "round 24\n",
      "0.9250063339244996\n",
      "round 25\n",
      "0.9321003293640739\n",
      "round 26\n",
      "0.9331137572840131\n",
      "round 27\n",
      "0.9305801874841652\n",
      "round 28\n",
      "0.9348872561439068\n",
      "round 29\n",
      "0.9351406131238915\n",
      "round 30\n",
      "0.939701038763618\n",
      "round 31\n",
      "0.9462883202432227\n",
      "round 32\n",
      "0.9460349632632379\n",
      "round 33\n",
      "0.9493286040030403\n",
      "round 34\n",
      "0.9445148213833291\n",
      "round 35\n",
      "0.9462883202432227\n",
      "round 36\n",
      "0.9498353179630099\n",
      "round 37\n",
      "0.952115530782873\n",
      "round 38\n",
      "0.9470483911831771\n",
      "round 39\n",
      "0.9498353179630099\n",
      "round 40\n",
      "0.9531289587028122\n",
      "round 41\n",
      "0.9543957436027363\n",
      "round 42\n",
      "0.9579427413225235\n",
      "round 43\n",
      "0.9523688877628579\n",
      "round 44\n",
      "0.9576893843425386\n",
      "round 45\n",
      "0.9556625285026602\n",
      "round 46\n",
      "0.960983025082341\n",
      "round 47\n",
      "0.9592095262224475\n",
      "round 48\n",
      "0.9549024575627059\n",
      "round 49\n",
      "0.960983025082341\n",
      "round 50\n",
      "0.963516594882189\n",
      "round 51\n",
      "0.9564225994426147\n",
      "round 52\n",
      "0.9652900937420826\n",
      "round 53\n",
      "0.9690904484418545\n",
      "round 54\n",
      "0.9680770205219154\n",
      "round 55\n",
      "0.9668102356219914\n",
      "round 56\n",
      "0.9668102356219914\n",
      "round 57\n",
      "0.967316949581961\n",
      "round 58\n",
      "0.9670635926019762\n",
      "round 59\n",
      "0.964783379782113\n",
      "round 60\n",
      "0.9703572333417786\n",
      "round 61\n",
      "0.9711173042817328\n",
      "round 62\n",
      "0.9711173042817328\n",
      "round 63\n",
      "0.9703572333417786\n",
      "round 64\n",
      "0.9690904484418545\n",
      "round 65\n",
      "0.9708639473017482\n",
      "round 66\n",
      "0.9718773752216874\n",
      "round 67\n",
      "0.9713706612617178\n",
      "round 68\n",
      "0.9711173042817328\n",
      "round 69\n",
      "0.9728908031416266\n",
      "round 70\n"
     ]
    },
    {
     "ename": "KeyboardInterrupt",
     "evalue": "",
     "output_type": "error",
     "traceback": [
      "\u001b[0;31m---------------------------------------------------------------------------\u001b[0m",
      "\u001b[0;31mKeyboardInterrupt\u001b[0m                         Traceback (most recent call last)",
      "\u001b[0;32m<ipython-input-367-4c8902080bd0>\u001b[0m in \u001b[0;36m<module>\u001b[0;34m()\u001b[0m\n\u001b[0;32m----> 1\u001b[0;31m \u001b[0mdescent\u001b[0m\u001b[0;34m(\u001b[0m\u001b[0;36m0.01\u001b[0m\u001b[0;34m)\u001b[0m\u001b[0;34m\u001b[0m\u001b[0m\n\u001b[0m",
      "\u001b[0;32m<ipython-input-366-9ff4cf4799b2>\u001b[0m in \u001b[0;36mdescent\u001b[0;34m(alpha)\u001b[0m\n\u001b[1;32m     12\u001b[0m \u001b[0;34m\u001b[0m\u001b[0m\n\u001b[1;32m     13\u001b[0m \u001b[0;31m#             print(like)\u001b[0m\u001b[0;34m\u001b[0m\u001b[0;34m\u001b[0m\u001b[0m\n\u001b[0;32m---> 14\u001b[0;31m             \u001b[0mara\u001b[0m \u001b[0;34m=\u001b[0m \u001b[0malpha\u001b[0m \u001b[0;34m*\u001b[0m\u001b[0;34m(\u001b[0m\u001b[0mtrue\u001b[0m\u001b[0;34m[\u001b[0m\u001b[0mi\u001b[0m\u001b[0;34m]\u001b[0m \u001b[0;34m-\u001b[0m \u001b[0mlike\u001b[0m\u001b[0;34m)\u001b[0m\u001b[0;34m*\u001b[0m\u001b[0;34m(\u001b[0m\u001b[0mrow_array_dict\u001b[0m\u001b[0;34m[\u001b[0m\u001b[0mi\u001b[0m\u001b[0;34m]\u001b[0m\u001b[0;34m.\u001b[0m\u001b[0mT\u001b[0m\u001b[0;34m)\u001b[0m\u001b[0;34m\u001b[0m\u001b[0m\n\u001b[0m\u001b[1;32m     15\u001b[0m \u001b[0;31m#             print(ara)\u001b[0m\u001b[0;34m\u001b[0m\u001b[0;34m\u001b[0m\u001b[0m\n\u001b[1;32m     16\u001b[0m     \u001b[0;31m#         print(type(b))\u001b[0m\u001b[0;34m\u001b[0m\u001b[0;34m\u001b[0m\u001b[0m\n",
      "\u001b[0;32m/anaconda3/lib/python3.6/site-packages/scipy/sparse/base.py\u001b[0m in \u001b[0;36m__getattr__\u001b[0;34m(self, attr)\u001b[0m\n\u001b[1;32m    674\u001b[0m             \u001b[0;32mreturn\u001b[0m \u001b[0mself\u001b[0m\u001b[0;34m.\u001b[0m\u001b[0mtoarray\u001b[0m\u001b[0;34m(\u001b[0m\u001b[0;34m)\u001b[0m\u001b[0;34m\u001b[0m\u001b[0m\n\u001b[1;32m    675\u001b[0m         \u001b[0;32melif\u001b[0m \u001b[0mattr\u001b[0m \u001b[0;34m==\u001b[0m \u001b[0;34m'T'\u001b[0m\u001b[0;34m:\u001b[0m\u001b[0;34m\u001b[0m\u001b[0m\n\u001b[0;32m--> 676\u001b[0;31m             \u001b[0;32mreturn\u001b[0m \u001b[0mself\u001b[0m\u001b[0;34m.\u001b[0m\u001b[0mtranspose\u001b[0m\u001b[0;34m(\u001b[0m\u001b[0;34m)\u001b[0m\u001b[0;34m\u001b[0m\u001b[0m\n\u001b[0m\u001b[1;32m    677\u001b[0m         \u001b[0;32melif\u001b[0m \u001b[0mattr\u001b[0m \u001b[0;34m==\u001b[0m \u001b[0;34m'H'\u001b[0m\u001b[0;34m:\u001b[0m\u001b[0;34m\u001b[0m\u001b[0m\n\u001b[1;32m    678\u001b[0m             \u001b[0;32mreturn\u001b[0m \u001b[0mself\u001b[0m\u001b[0;34m.\u001b[0m\u001b[0mgetH\u001b[0m\u001b[0;34m(\u001b[0m\u001b[0;34m)\u001b[0m\u001b[0;34m\u001b[0m\u001b[0m\n",
      "\u001b[0;32m/anaconda3/lib/python3.6/site-packages/scipy/sparse/csr.py\u001b[0m in \u001b[0;36mtranspose\u001b[0;34m(self, axes, copy)\u001b[0m\n\u001b[1;32m    139\u001b[0m         \u001b[0;32mfrom\u001b[0m \u001b[0;34m.\u001b[0m\u001b[0mcsc\u001b[0m \u001b[0;32mimport\u001b[0m \u001b[0mcsc_matrix\u001b[0m\u001b[0;34m\u001b[0m\u001b[0m\n\u001b[1;32m    140\u001b[0m         return csc_matrix((self.data, self.indices,\n\u001b[0;32m--> 141\u001b[0;31m                            self.indptr), shape=(N, M), copy=copy)\n\u001b[0m\u001b[1;32m    142\u001b[0m \u001b[0;34m\u001b[0m\u001b[0m\n\u001b[1;32m    143\u001b[0m     \u001b[0mtranspose\u001b[0m\u001b[0;34m.\u001b[0m\u001b[0m__doc__\u001b[0m \u001b[0;34m=\u001b[0m \u001b[0mspmatrix\u001b[0m\u001b[0;34m.\u001b[0m\u001b[0mtranspose\u001b[0m\u001b[0;34m.\u001b[0m\u001b[0m__doc__\u001b[0m\u001b[0;34m\u001b[0m\u001b[0m\n",
      "\u001b[0;32m/anaconda3/lib/python3.6/site-packages/scipy/sparse/compressed.py\u001b[0m in \u001b[0;36m__init__\u001b[0;34m(self, arg1, shape, dtype, copy)\u001b[0m\n\u001b[1;32m     96\u001b[0m             \u001b[0mself\u001b[0m\u001b[0;34m.\u001b[0m\u001b[0mdata\u001b[0m \u001b[0;34m=\u001b[0m \u001b[0mnp\u001b[0m\u001b[0;34m.\u001b[0m\u001b[0masarray\u001b[0m\u001b[0;34m(\u001b[0m\u001b[0mself\u001b[0m\u001b[0;34m.\u001b[0m\u001b[0mdata\u001b[0m\u001b[0;34m,\u001b[0m \u001b[0mdtype\u001b[0m\u001b[0;34m=\u001b[0m\u001b[0mdtype\u001b[0m\u001b[0;34m)\u001b[0m\u001b[0;34m\u001b[0m\u001b[0m\n\u001b[1;32m     97\u001b[0m \u001b[0;34m\u001b[0m\u001b[0m\n\u001b[0;32m---> 98\u001b[0;31m         \u001b[0mself\u001b[0m\u001b[0;34m.\u001b[0m\u001b[0mcheck_format\u001b[0m\u001b[0;34m(\u001b[0m\u001b[0mfull_check\u001b[0m\u001b[0;34m=\u001b[0m\u001b[0;32mFalse\u001b[0m\u001b[0;34m)\u001b[0m\u001b[0;34m\u001b[0m\u001b[0m\n\u001b[0m\u001b[1;32m     99\u001b[0m \u001b[0;34m\u001b[0m\u001b[0m\n\u001b[1;32m    100\u001b[0m     \u001b[0;32mdef\u001b[0m \u001b[0mgetnnz\u001b[0m\u001b[0;34m(\u001b[0m\u001b[0mself\u001b[0m\u001b[0;34m,\u001b[0m \u001b[0maxis\u001b[0m\u001b[0;34m=\u001b[0m\u001b[0;32mNone\u001b[0m\u001b[0;34m)\u001b[0m\u001b[0;34m:\u001b[0m\u001b[0;34m\u001b[0m\u001b[0m\n",
      "\u001b[0;32m/anaconda3/lib/python3.6/site-packages/scipy/sparse/compressed.py\u001b[0m in \u001b[0;36mcheck_format\u001b[0;34m(self, full_check)\u001b[0m\n\u001b[1;32m    160\u001b[0m             raise ValueError(\"index pointer size (%d) should be (%d)\" %\n\u001b[1;32m    161\u001b[0m                                 (len(self.indptr), major_dim + 1))\n\u001b[0;32m--> 162\u001b[0;31m         \u001b[0;32mif\u001b[0m \u001b[0;34m(\u001b[0m\u001b[0mself\u001b[0m\u001b[0;34m.\u001b[0m\u001b[0mindptr\u001b[0m\u001b[0;34m[\u001b[0m\u001b[0;36m0\u001b[0m\u001b[0;34m]\u001b[0m \u001b[0;34m!=\u001b[0m \u001b[0;36m0\u001b[0m\u001b[0;34m)\u001b[0m\u001b[0;34m:\u001b[0m\u001b[0;34m\u001b[0m\u001b[0m\n\u001b[0m\u001b[1;32m    163\u001b[0m             \u001b[0;32mraise\u001b[0m \u001b[0mValueError\u001b[0m\u001b[0;34m(\u001b[0m\u001b[0;34m\"index pointer should start with 0\"\u001b[0m\u001b[0;34m)\u001b[0m\u001b[0;34m\u001b[0m\u001b[0m\n\u001b[1;32m    164\u001b[0m \u001b[0;34m\u001b[0m\u001b[0m\n",
      "\u001b[0;31mKeyboardInterrupt\u001b[0m: "
     ]
    }
   ],
   "source": [
    "descent(0.01)"
   ]
  },
  {
   "cell_type": "code",
   "execution_count": 368,
   "metadata": {},
   "outputs": [],
   "source": [
    "dev_df = pd.read_csv('dev.csv')"
   ]
  },
  {
   "cell_type": "code",
   "execution_count": 369,
   "metadata": {},
   "outputs": [
    {
     "data": {
      "text/html": [
       "<div>\n",
       "<style scoped>\n",
       "    .dataframe tbody tr th:only-of-type {\n",
       "        vertical-align: middle;\n",
       "    }\n",
       "\n",
       "    .dataframe tbody tr th {\n",
       "        vertical-align: top;\n",
       "    }\n",
       "\n",
       "    .dataframe thead th {\n",
       "        text-align: right;\n",
       "    }\n",
       "</style>\n",
       "<table border=\"1\" class=\"dataframe\">\n",
       "  <thead>\n",
       "    <tr style=\"text-align: right;\">\n",
       "      <th></th>\n",
       "      <th>Insult</th>\n",
       "      <th>Comment</th>\n",
       "    </tr>\n",
       "  </thead>\n",
       "  <tbody>\n",
       "    <tr>\n",
       "      <th>0</th>\n",
       "      <td>0</td>\n",
       "      <td>\"like this if you are a tribe fan\"</td>\n",
       "    </tr>\n",
       "    <tr>\n",
       "      <th>1</th>\n",
       "      <td>1</td>\n",
       "      <td>\"you're idiot.......................\"</td>\n",
       "    </tr>\n",
       "    <tr>\n",
       "      <th>2</th>\n",
       "      <td>1</td>\n",
       "      <td>\"I am a woman Babs, and the only \"war on women...</td>\n",
       "    </tr>\n",
       "    <tr>\n",
       "      <th>3</th>\n",
       "      <td>1</td>\n",
       "      <td>\"WOW &amp; YOU BENEFITTED SO MANY WINS THIS YEAR F...</td>\n",
       "    </tr>\n",
       "    <tr>\n",
       "      <th>4</th>\n",
       "      <td>1</td>\n",
       "      <td>\"haha green me red you now loser whos winning ...</td>\n",
       "    </tr>\n",
       "  </tbody>\n",
       "</table>\n",
       "</div>"
      ],
      "text/plain": [
       "   Insult                                            Comment\n",
       "0       0                 \"like this if you are a tribe fan\"\n",
       "1       1              \"you're idiot.......................\"\n",
       "2       1  \"I am a woman Babs, and the only \"war on women...\n",
       "3       1  \"WOW & YOU BENEFITTED SO MANY WINS THIS YEAR F...\n",
       "4       1  \"haha green me red you now loser whos winning ..."
      ]
     },
     "execution_count": 369,
     "metadata": {},
     "output_type": "execute_result"
    }
   ],
   "source": [
    "dev_df.head()"
   ]
  },
  {
   "cell_type": "code",
   "execution_count": null,
   "metadata": {},
   "outputs": [],
   "source": []
  },
  {
   "cell_type": "code",
   "execution_count": null,
   "metadata": {},
   "outputs": [],
   "source": []
  },
  {
   "cell_type": "code",
   "execution_count": null,
   "metadata": {},
   "outputs": [],
   "source": []
  },
  {
   "cell_type": "code",
   "execution_count": null,
   "metadata": {},
   "outputs": [],
   "source": []
  },
  {
   "cell_type": "code",
   "execution_count": null,
   "metadata": {},
   "outputs": [],
   "source": []
  },
  {
   "cell_type": "code",
   "execution_count": null,
   "metadata": {},
   "outputs": [],
   "source": []
  },
  {
   "cell_type": "code",
   "execution_count": null,
   "metadata": {},
   "outputs": [],
   "source": []
  }
 ],
 "metadata": {
  "kernelspec": {
   "display_name": "Python 3",
   "language": "python",
   "name": "python3"
  },
  "language_info": {
   "codemirror_mode": {
    "name": "ipython",
    "version": 3
   },
   "file_extension": ".py",
   "mimetype": "text/x-python",
   "name": "python",
   "nbconvert_exporter": "python",
   "pygments_lexer": "ipython3",
   "version": "3.6.5"
  }
 },
 "nbformat": 4,
 "nbformat_minor": 2
}
