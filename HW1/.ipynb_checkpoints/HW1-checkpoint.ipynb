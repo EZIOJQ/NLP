{
 "cells": [
  {
   "cell_type": "code",
   "execution_count": 312,
   "metadata": {},
   "outputs": [],
   "source": [
    "from sklearn.metrics import f1_score\n",
    "import pandas as pd\n",
    "import numpy as np\n",
    "import re\n",
    "from collections import Counter\n",
    "from collections import defaultdict\n",
    "import copy\n",
    "import string"
   ]
  },
  {
   "cell_type": "code",
   "execution_count": 295,
   "metadata": {},
   "outputs": [],
   "source": [
    "df1 = pd.read_csv(\"train.csv\")\n",
    "test_data = pd.read_csv(\"test.csv\")"
   ]
  },
  {
   "cell_type": "code",
   "execution_count": 296,
   "metadata": {},
   "outputs": [
    {
     "data": {
      "text/html": [
       "<div>\n",
       "<style scoped>\n",
       "    .dataframe tbody tr th:only-of-type {\n",
       "        vertical-align: middle;\n",
       "    }\n",
       "\n",
       "    .dataframe tbody tr th {\n",
       "        vertical-align: top;\n",
       "    }\n",
       "\n",
       "    .dataframe thead th {\n",
       "        text-align: right;\n",
       "    }\n",
       "</style>\n",
       "<table border=\"1\" class=\"dataframe\">\n",
       "  <thead>\n",
       "    <tr style=\"text-align: right;\">\n",
       "      <th></th>\n",
       "      <th>Insult</th>\n",
       "      <th>Comment</th>\n",
       "    </tr>\n",
       "  </thead>\n",
       "  <tbody>\n",
       "    <tr>\n",
       "      <th>0</th>\n",
       "      <td>NaN</td>\n",
       "      <td>\"THE DRUDGE REPORT\\\\n\\\\n\\\\n\\\\nYou won't see th...</td>\n",
       "    </tr>\n",
       "    <tr>\n",
       "      <th>1</th>\n",
       "      <td>NaN</td>\n",
       "      <td>\"@ian21\\xa0\"Roger Clemens is the fucking man, ...</td>\n",
       "    </tr>\n",
       "    <tr>\n",
       "      <th>2</th>\n",
       "      <td>NaN</td>\n",
       "      <td>\"Agree with Alan you are an extremest idiot.  ...</td>\n",
       "    </tr>\n",
       "    <tr>\n",
       "      <th>3</th>\n",
       "      <td>NaN</td>\n",
       "      <td>\"Really?\\\\n\\\\nI see Marc Lamont Hill on variou...</td>\n",
       "    </tr>\n",
       "    <tr>\n",
       "      <th>4</th>\n",
       "      <td>NaN</td>\n",
       "      <td>\"Really suck isn't the word, when many of our ...</td>\n",
       "    </tr>\n",
       "  </tbody>\n",
       "</table>\n",
       "</div>"
      ],
      "text/plain": [
       "   Insult                                            Comment\n",
       "0     NaN  \"THE DRUDGE REPORT\\\\n\\\\n\\\\n\\\\nYou won't see th...\n",
       "1     NaN  \"@ian21\\xa0\"Roger Clemens is the fucking man, ...\n",
       "2     NaN  \"Agree with Alan you are an extremest idiot.  ...\n",
       "3     NaN  \"Really?\\\\n\\\\nI see Marc Lamont Hill on variou...\n",
       "4     NaN  \"Really suck isn't the word, when many of our ..."
      ]
     },
     "execution_count": 296,
     "metadata": {},
     "output_type": "execute_result"
    }
   ],
   "source": [
    "test_data.head()"
   ]
  },
  {
   "cell_type": "code",
   "execution_count": 40,
   "metadata": {},
   "outputs": [
    {
     "data": {
      "text/html": [
       "<div>\n",
       "<style scoped>\n",
       "    .dataframe tbody tr th:only-of-type {\n",
       "        vertical-align: middle;\n",
       "    }\n",
       "\n",
       "    .dataframe tbody tr th {\n",
       "        vertical-align: top;\n",
       "    }\n",
       "\n",
       "    .dataframe thead th {\n",
       "        text-align: right;\n",
       "    }\n",
       "</style>\n",
       "<table border=\"1\" class=\"dataframe\">\n",
       "  <thead>\n",
       "    <tr style=\"text-align: right;\">\n",
       "      <th></th>\n",
       "      <th>Insult</th>\n",
       "      <th>Comment</th>\n",
       "    </tr>\n",
       "  </thead>\n",
       "  <tbody>\n",
       "    <tr>\n",
       "      <th>0</th>\n",
       "      <td>1</td>\n",
       "      <td>\"You fuck your dad.\"</td>\n",
       "    </tr>\n",
       "    <tr>\n",
       "      <th>1</th>\n",
       "      <td>0</td>\n",
       "      <td>\"i really don't understand your point.\\xa0 It ...</td>\n",
       "    </tr>\n",
       "    <tr>\n",
       "      <th>2</th>\n",
       "      <td>0</td>\n",
       "      <td>\"A\\\\xc2\\\\xa0majority of Canadians can and has ...</td>\n",
       "    </tr>\n",
       "    <tr>\n",
       "      <th>3</th>\n",
       "      <td>0</td>\n",
       "      <td>\"listen if you dont wanna get married to a man...</td>\n",
       "    </tr>\n",
       "    <tr>\n",
       "      <th>4</th>\n",
       "      <td>0</td>\n",
       "      <td>\"C\\xe1c b\\u1ea1n xu\\u1ed1ng \\u0111\\u01b0\\u1edd...</td>\n",
       "    </tr>\n",
       "    <tr>\n",
       "      <th>5</th>\n",
       "      <td>0</td>\n",
       "      <td>\"@SDL OK, but I would hope they'd sign him to ...</td>\n",
       "    </tr>\n",
       "  </tbody>\n",
       "</table>\n",
       "</div>"
      ],
      "text/plain": [
       "   Insult                                            Comment\n",
       "0       1                               \"You fuck your dad.\"\n",
       "1       0  \"i really don't understand your point.\\xa0 It ...\n",
       "2       0  \"A\\\\xc2\\\\xa0majority of Canadians can and has ...\n",
       "3       0  \"listen if you dont wanna get married to a man...\n",
       "4       0  \"C\\xe1c b\\u1ea1n xu\\u1ed1ng \\u0111\\u01b0\\u1edd...\n",
       "5       0  \"@SDL OK, but I would hope they'd sign him to ..."
      ]
     },
     "execution_count": 40,
     "metadata": {},
     "output_type": "execute_result"
    }
   ],
   "source": [
    "df1.head(6)"
   ]
  },
  {
   "cell_type": "code",
   "execution_count": 253,
   "metadata": {
    "collapsed": true
   },
   "outputs": [
    {
     "name": "stdout",
     "output_type": "stream",
     "text": [
      "['you', 'fuck', 'your', 'dad.']\n",
      "['i', 'really', \"don't\", 'understand', 'your', 'point.\\\\xa0', 'it', 'seems', 'that', 'you', 'are', 'mixing', 'apples', 'and', 'oranges.']\n",
      "['a\\\\\\\\xc2\\\\\\\\xa0majority', 'of', 'canadians', 'can', 'and', 'has', 'been', 'wrong', 'before', 'now', 'and', 'will', 'be', 'again.\\\\\\\\n\\\\\\\\nunless', \"you're\", 'supportive', 'of', 'the', 'idea', 'that', 'nothing', 'is', 'full', 'proof', 'or', 'perfect', 'so', 'you', 'take', 'your', 'chances', 'and', 'if', 'we', 'should', 'inadvertently', 'kill', 'your', 'son', 'or', 'daughter', 'then', \"them's\", 'the', 'breaks', 'and', 'we', 'can', 'always', 'regard', 'you', 'as', 'collateral', 'damage', 'like', 'in', 'wartime', '-', 'and', 'sorry,', 'but\\\\\\\\xc2\\\\\\\\xa0the', 'cheques', 'in', 'the', 'mail.']\n",
      "['listen', 'if', 'you', 'dont', 'wanna', 'get', 'married', 'to', 'a', 'man', 'or', 'a', 'women', 'dont', 'do', 'it.', 'what', 'would', 'it', 'bother', 'you', 'if', 'gay', 'people', 'got', 'married', 'stay', 'in', 'your', 'lane', 'do', 'you', 'let', 'them', 'do', 'them.', 'and', 'your', 'god', 'is', 'so', 'nice', 'but', 'quick', 'to', 'judg', 'if', 'your', 'not', 'like', 'him,', 'thought', 'you', 'wasnt', 'suppose', 'to', 'judge', 'people.']\n",
      "['c\\\\xe1c', 'b\\\\u1ea1n', 'xu\\\\u1ed1ng', '\\\\u0111\\\\u01b0\\\\u1eddng', 'bi\\\\u1ec3u', 't\\\\xecnh', '2011', 'c\\\\xf3', '\\\\xf4n', 'ho\\\\xe0', 'kh\\\\xf4ng', '?', '\\\\nc\\\\xe1c', 'ng\\\\u01b0', 'd\\\\xe2n', 'ng\\\\u1ed3i', 'cu\\\\xed', '\\\\u0111\\\\u1ea7u', 'chi\\\\u1ee5', 'nh\\\\u1ee5c', 'c\\\\xf3', '\\\\xf4n', 'ho\\\\xe0', 'kh\\\\xf4ng', '?\\\\nc\\\\xe1c', 'n\\\\xf4ng', 'd\\\\xe2n', 'gi\\\\u1eef', '\\\\u0111\\\\u1ea5t', '\\\\u1edf', 'v\\\\u0103n', 'giang,', 'c\\\\u1ea7n', 'th\\\\u01a1', 'c\\\\xf3', '\\\\xf4n', 'ho\\\\xe0', 'kh\\\\xf4ng', '?\\\\n.................\\\\nr\\\\u1ed1t', 'cu\\\\u1ed9c', '\\\\u0111\\\\u01b0\\\\u1ee3c', 'g\\\\xec\\\\xa0', 'th\\\\xec', 'ch\\\\xfang', 'ta', '\\\\u0111\\\\xe3', 'bi\\\\u1ebft', '!\\\\nai', 'c\\\\u0169ng', 'y\\\\xeau', 'chu\\\\u1ed9ng', 'ho\\\\xe0', 'b\\\\xecnh,', 'nh\\\\u01b0ng', '\\\\u0111\\\\xf4i', 'khi', 'ho\\\\xe0', 'b\\\\xecnh', 'ch\\\\u1ec9', 'th\\\\u1eadt', 's\\\\u1ef1', '\\\\u0111\\\\u1ebfn', 'sau', 'chi\\\\u1ebfn', 'tranh', 'm\\\\xe0', 'th\\\\xf4i.\\\\nkh\\\\xf4ng', 'c\\\\xf2n', 'con', '\\\\u0111\\\\u01b0\\\\u1eddng', 'n\\\\xe0o', 'ch\\\\u1ecdn', 'kh\\\\xe1c', '\\\\u0111\\\\xe2u,', '\\\\u0111\\\\u1eebng', 'm\\\\u01a1', 'th\\\\xeam', 'n\\\\u01b0\\\\xe3.']\n",
      "['@sdl', 'ok,', 'but', 'i', 'would', 'hope', \"they'd\", 'sign', 'him', 'to', 'a', 'one-year', 'contract', 'to', 'start', 'with.', 'give', 'him', 'the', 'chance', 'to', 'be', 'reliable', 'and', 'productive,', 'but', 'give', 'themselves', 'the', 'out', 'if', 'all', 'his', 'time', 'off', 'has', 'hurt', 'his', 'playing', 'skills', 'or', 'if', 'he', 'falls', 'back', 'into', 'old', 'habits.']\n",
      "['yeah', 'and', 'where', 'are', 'you', 'now?']\n",
      "['shut', 'the', 'fuck', 'up.', 'you', 'and', 'the', 'rest', 'of', 'your', 'faggot', 'friends', 'should', 'be', 'burned', 'at', 'the', 'stake']\n",
      "['either', 'you', 'are', 'fake', 'or', 'extremely', 'stupid...maybe', 'both...']\n",
      "['that', 'you', 'are', 'an', 'idiot', 'who', 'understands', 'neither', 'taxation', 'nor', \"women's\", 'health.']\n"
     ]
    }
   ],
   "source": [
    "for i in df1.Comment[:10]:\n",
    "    print(tokenstring(i))"
   ]
  },
  {
   "cell_type": "code",
   "execution_count": 366,
   "metadata": {
    "collapsed": true
   },
   "outputs": [
    {
     "name": "stdout",
     "output_type": "stream",
     "text": [
      "Counter({'you': 1436, 'a': 745, 'the': 673, 'to': 602, 'your': 569, 'and': 507, 'are': 477, 'of': 413, 'i': 313, 'that': 272, 'is': 264, 'in': 254, 'like': 205, 'it': 185, 'have': 181, 'for': 167, 'on': 164, 'not': 153, 'just': 140, 'be': 129, \"you're\": 124, 'so': 124, 'an': 118, 'with': 117, 'this': 116, 'as': 116, 'get': 115, 'all': 114, 'what': 106, \"don't\": 105, 'do': 102, 'fuck': 100, 'or': 97, 'go': 97, 'no': 95, 'up': 93, 'my': 88, 'know': 87, 'who': 86, 'if': 84, 'about': 81, 'but': 78, 'because': 76, 'ass': 74, 'they': 72, 'fucking': 72, 'we': 71, 'can': 71, 'u': 70, 'people': 70, 'little': 68, 'was': 68, 'will': 67, 'me': 64, 'how': 63, 'when': 62, 'he': 61, 'would': 60, 'stupid': 59, 'back': 59, 'out': 58, 'at': 56, 'from': 56, 'think': 56, 'one': 56, 'really': 54, 'why': 53, 'here': 53, 'dumb': 52, \"it's\": 51, 'off': 50, 'more': 49, 'some': 48, 'bitch': 47, 'see': 46, 'life': 46, 'now': 45, 'then': 43, 'even': 43, 'idiot': 42, 'has': 42, 'say': 41, 'were': 41, 'than': 40, 'shit': 40, 'black': 40, 'she': 39, 'his': 39, 'her': 38, 'there': 38, 'need': 38, 'shut': 37, 'you.': 37, 'by': 37, \"i'm\": 37, 'idiot.': 36, 'only': 36, 'still': 35, 'never': 35, 'should': 34, 'ignorant': 34, 'any': 34, 'white': 34, 'yourself': 34, 'make': 33, 'them': 32, 'time': 32, 'us': 32, 'dick': 32, 'stop': 31, 'must': 31, 'their': 31, 'our': 31, 'got': 30, 'take': 30, 'dont': 30, \"can't\": 29, 'am': 29, 'nothing': 29, 'too': 29, 'going': 28, 'most': 28, \"that's\": 28, 'good': 28, 'look': 27, 'want': 27, 'other': 27, 'right': 27, 'pathetic': 26, 'its': 26, 'did': 26, '-': 26, 'name': 26, 'being': 26, 'sound': 25, 'made': 25, 'post': 24, 'real': 24, 'old': 24, 'gay': 24, 'another': 24, 'you,': 24, 'been': 23, 'come': 23, 'over': 23, 'into': 23, 'said': 23, 'every': 23, 'before': 23, '.': 23, 'where': 22, 'read': 22, 'racist': 22, 'it.': 22, 'way': 22, 'tell': 22, 'hope': 22, 'such': 21, 'sick': 21, 'man': 21, 'try': 21, 'does': 21, 'loser': 21, 'same': 20, 'someone': 20, 'nigga': 20, 'many': 20, 'moron': 20, 'suck': 20, 'own': 20, ',': 20, 'much': 20, 'keep': 19, 'comment': 19, 'had': 19, 'piece': 19, 'big': 19, 'hate': 19, 'these': 19, 'sure': 18, 'feel': 18, 'bitch.': 18, 'talking': 18, 'mother': 18, 'fat': 18, 'mouth': 18, 'getting': 18, 'fuckin': 18, 'him': 17, 'better': 17, 'lol': 17, 'down': 17, 'kill': 17, 'complete': 17, 'face': 17, 'oh': 17, 'very': 17, 'something': 17, 'are.': 16, 'please': 16, 'maybe': 16, 'moron.': 16, \"aren't\": 16, 'mean': 16, 'understand': 16, \"doesn't\": 15, '&': 15, 'money': 15, 'hell': 15, 'call': 15, 'hey': 15, 'saying': 15, \"didn't\": 15, 'it,': 15, 'next': 15, 'probably': 15, 'idiots': 14, 'fact': 14, '?': 14, 'mom': 14, 'give': 14, 'im': 14, 'person': 14, 'point': 14, 'those': 14, 'makes': 14, 'internet': 14, 'poor': 14, 'live': 14, 'faggot': 13, 'first': 13, 'calling': 13, \"isn't\": 13, 'ever': 13, 'last': 13, 'child': 13, 'world': 13, 'everyone': 13, 'ugly': 13, 'bet': 13, 'after': 13, 'day': 13, 'anything': 13, 'let': 13, 'f': 13, 'well': 13, 'called': 13, 'ya': 13, 'making': 13, 'anyone': 12, 'troll': 12, 'again': 12, 'both': 12, 'love': 12, 'under': 12, 'sorry': 12, 'family': 12, 'talk': 12, 'trying': 12, 'yourself.': 12, 'die': 12, 'comments': 12, 'fool.': 12, 'stupid.': 12, 'put': 12, 'realize': 12, 'while': 12, 'which': 12, 'use': 12, 'find': 12, 'fake': 11, 'loser.': 11, 'already': 11, 'could': 11, \"i'd\": 11, 'obviously': 11, 'yo': 11, 'human': 11, 'pay': 11, 'that.': 11, \"i'll\": 11, 'guy': 11, 'others': 11, 'bad': 11, 'against': 11, 'hard': 11, 'ur': 11, 'away': 10, 'sit': 10, 'grow': 10, 'women': 10, 'buy': 10, 'lil': 10, 'around': 10, 'learn': 10, 'nice': 10, 'things': 10, '!': 10, 'crawl': 10, 'since': 10, 'dead': 10, '\\\\xa0': 10, 'years': 10, 'liberal': 10, 'trash': 10, 'fucked': 10, 'up.': 9, 'screen': 9, 'believe': 9, 'here.': 9, 'wife': 9, 'dirty': 9, 'gets': 9, 'crap': 9, 'comes': 9, 'cuz': 9, 'until': 9, 'posting': 9, 'enough': 9, 'clearly': 9, 'obama': 9, 'also': 9, 'part': 9, 'came': 9, 'hole': 9, 'thinking': 9, 'cant': 9, 'full': 9, 'fool': 9, 'new': 9, 'change': 9, 'you?': 9, 'gonna': 9, 'kids': 9, 'may': 9, 'ok': 9, 'entire': 9, 'news': 9, 'used': 9, 'year': 9, 'good,': 9, 'eat': 9, 'ha': 9, 'rest': 8, 'head': 8, 'moron,': 8, 'left': 8, 'work': 8, 'home': 8, 'pussy': 8, 'idiotic': 8, 'food': 8, 'told': 8, 'sucking': 8, 'doing': 8, 'long': 8, 'intelligent': 8, 'are,': 8, 'bitches': 8, 'trolling': 8, 'straight': 8, 'leave': 8, 'son': 8, 'retarded': 8, 'waste': 8, 'doubt': 8, 'cock': 8, 'that,': 8, \"won't\": 8, 'mind': 8, 'facts': 8, 'thing': 8, 'weak': 8, '\\\\xa0you': 8, 'great': 8, 'far': 8, 'beat': 8, 'asshole': 8, 'whore': 8, 'stick': 8, 'deserve': 8, 'ass.': 8, 'always': 8, 'them.': 8, 'god': 8, 'boy': 8, 'born': 8, 's': 8, 'funny': 8, 'me,': 8, 'sad': 8, 'either': 7, 'reason': 7, 'retard': 7, 'site': 7, 'truth': 7, 'beyond': 7, 'job': 7, 'looking': 7, 'again.': 7, 'best': 7, 'dog': 7, 'guys': 7, 'pussy.': 7, 'knows': 7, 'girls': 7, 'yeah': 7, 'truly': 7, 'men': 7, 'filthy': 7, 'r': 7, 'reading': 7, 'seem': 7, 'show': 7, 'life.': 7, 'bill': 7, 'thats': 7, 'posts': 7, 'guess': 7, 'coming': 7, 'afraid': 7, 'people.': 7, 'word': 7, 'watch': 7, 'brain': 7, 'everything': 7, 'yet': 7, 'help': 7, 'racists': 7, 'fight': 7, 'actually': 7, 'vote': 7, 'proof': 7, 'else': 7, 'through': 7, 'children': 7, 'paid': 7, 'inside': 6, 'moronic': 6, 'waiting': 6, '...': 6, 'video': 6, 'dad': 6, 'gave': 6, 'balls': 6, 'shove': 6, 't': 6, 'order': 6, 'cut': 6, 'almost': 6, 'went': 6, 'wants': 6, 'knock': 6, 'fan': 6, 'worse': 6, 'times': 6, 'break': 6, 'kick': 6, 'ima': 6, 'country': 6, 'start': 6, 'proud': 6, 'cunt.': 6, 'idiot,': 6, 'bitch,': 6, 'deal': 6, 'school': 6, 'shows': 6, 'scum': 6, 'whole': 6, 'act': 6, 'history': 6, 'about.': 6, 'wish': 6, 'having': 6, 'o': 6, 'care': 6, 'fucker': 6, 'quite': 6, 'on.': 6, 'id': 6, 'pictures': 6, 'once': 6, 'way,': 6, 'english': 6, 'special': 6, 'disgusting': 6, 'laws': 6, 'wanted': 6, 'hear': 6, 'idiot!': 6, 'sister': 6, 'racist,': 6, 'troll.': 6, \"wouldn't\": 6, 'cause': 6, 'wait': 6, 'damn': 6, 'goes': 6, 'ignorant,': 6, \"you've\": 6, 'plain': 6, 'behind': 6, 'computer': 6, 'spend': 6, 'here,': 6, 'absolutely': 6, 'realy': 6, 'clue': 6, '3': 6, 'bunch': 6, 'fleabagger': 6, 'scared': 6, 'friends': 5, 'nor': 5, 'total': 5, 'rather': 5, 'tea': 5, 'medical': 5, 'prove': 5, 'near': 5, 'asked': 5, 'thought': 5, \"we're\": 5, 'picture': 5, 'ball': 5, 'is,': 5, 'american': 5, 'e': 5, 'freedom': 5, 'gay,': 5, 'house': 5, 'bush': 5, 'music': 5, 'apparently': 5, 'morons': 5, 'sense': 5, 'b': 5, 'stupid,': 5, 'niggas': 5, 'it?': 5, 'lack': 5, 'da': 5, 'pretty': 5, 'follow': 5, 'ahead': 5, 'shit.': 5, 'joke': 5, 'speaking': 5, \"you'd\": 5, 'bastard': 5, 'though': 5, 'say,': 5, 'problem': 5, 'world.': 5, 'less': 5, 'quit': 5, 'matter': 5, 'hit': 5, 'defend': 5, 'girl': 5, 'stand': 5, 'pos': 5, 'nobody': 5, 'enjoy': 5, 'favor': 5, 'statement': 5, 'retard.': 5, 'worthless': 5, 'america': 5, 'raped': 5, 'sentence': 5, 'sucks': 5, 'speak': 5, 'too.': 5, 'us.': 5, 'true': 5, 'using': 5, 'says': 5, 'me.': 5, 'seriously': 5, 'paying': 5, 'turn': 5, 'forget': 5, 'shit,': 5, 'hand': 5, 'listen': 5, 'woman': 5, 'wanna': 5, 'bible': 5, 'yours': 5, 'thanks': 5, 'lame': 5, 'gives': 5, 'hurt': 5, 'bring': 5, 'needs': 5, 'least': 5, 'easy': 5, 'c': 5, 'fit': 5, 'pull': 5, '.\\\\xa0': 5, 'lie': 5, 'do.': 5, 'add': 5, 'illegals': 5, 'none': 5, 'support': 5, 'coward': 5, 'bag': 5, \"you'll\": 5, 'lying': 5, 'so,': 5, 'lose': 5, 'decent': 5, 'haha': 5, 'piss': 5, 'wing': 5, 'especially': 5, 'buddy': 5, 'miserable': 5, 'unless': 5, 'wrong': 5, 'blog': 5, 'tough': 5, 'off,': 5, 'faith': 5, 'defending': 5, 'retarded.': 4, 'useful': 4, 'typical': 4, 'life,': 4, 'past': 4, 'bottom': 4, 'lets': 4, 'telling': 4, 'mr.': 4, 'pair': 4, 'don': 4, 'posts.': 4, 'eating': 4, 'utter': 4, 'friend': 4, 'selfish': 4, 'dick.': 4, 'meet': 4, 'cunt': 4, 'dude.': 4, 'whites': 4, 'lies': 4, 'flag': 4, 'n': 4, 'boys': 4, 'aint': 4, 'that?': 4, 'outta': 4, 'half': 4, 'hate.': 4, 'on,': 4, \"what's\": 4, 'whine': 4, 'ill': 4, '10': 4, 'profile': 4, 'garbage': 4, 'died': 4, 'yourself,': 4, \"weren't\": 4, 'know,': 4, 'agree': 4, 'strong': 4, 'trailer': 4, 'day.': 4, 'wow': 4, 'blow': 4, 'respect': 4, 'fucks': 4, 'political': 4, 'article': 4, 'bullshit': 4, 'sounds': 4, 'now.': 4, 'death': 4, '\\\\n\\\\ni': 4, 'means': 4, 'mad': 4, 'them,': 4, 'freaking': 4, 'dumbass': 4, 'starting': 4, 'drug': 4, 'right?': 4, 'looks': 4, 'mothers': 4, 'ignorance': 4, 'acting': 4, 'stupid?': 4, '2': 4, 'friends.': 4, 'spell': 4, 'caught': 4, 'mental': 4, 'simply': 4, 'twat': 4, 'whining': 4, 'jack': 4, 'self': 4, 'arrogant': 4, 'person.': 4, 'seeing': 4, 'holy': 4, 'dumb.': 4, 'type': 4, 'sad,': 4, 'kind': 4, 'might': 4, 'small': 4, 'dicks': 4, 'facebook': 4, 'parents': 4, 'claim': 4, 'excuse': 4, 'conservative': 4, 'instead': 4, '\\\\xa0the': 4, 'write': 4, 'night': 4, 'kid': 4, 'racism': 4, 'proven': 4, 'away.': 4, 'proves': 4, 'provide': 4, \"he's\": 4, 'second': 4, 'village': 4, 'living': 4, 'commie': 4, 'easier': 4, 'stfu': 4, 'group': 4, 'sir': 4, 'based': 4, 'history,': 4, 'growing': 4, 'well,': 4, 'rights': 4, 'watching': 4, 'back.': 4, 'bad,': 4, 'conservatives': 4, 'disturbed': 4, 'punk': 4, 'words': 4, 'suffer': 4, 'evidence': 4, 'rooster': 4, 'rock': 4, 'attack': 4, 'seen': 4, \"i've\": 4, 'out.': 4, 'compared': 4, 'young': 4, 'homo': 4, 'shitty': 4, 'mouth.': 4, 'supporting': 4, 'social': 4, 'movie': 4, 'evil': 4, 'single': 4, 'light': 4, 'whiny': 4, 'rape': 4, 'chance': 4, 'clueless': 4, 'liberals': 4, 'you!': 4, 'whether': 4, 'sucker': 4, 'maggot': 4, 'possibly': 4, '!!!!': 4, 'libtard': 4, 'networks': 4, '\\\\xa0i': 4, 'father': 4, 'former': 4, 'asking': 4, 'rained': 4, 'business': 4, 'lol.': 3, 'negro': 3, 'hiding': 3, 'abuse': 3, 'non': 3, 'class': 3, 'abe': 3, 'thread': 3, 'completely': 3, 'god,': 3, 'policy': 3, 'drink': 3, 'bitch!': 3, 'hating': 3, 'needed': 3, 'retards': 3, 'pig': 3, 'forgot': 3, 'lot': 3, 'law': 3, 'started': 3, 'hitting': 3, 'evil,': 3, 'lowest': 3, 'red': 3, 'week': 3, 'rude': 3, 'few': 3, 'eye': 3, 'idi0t': 3, 'rapist': 3, 'room': 3, 'age': 3, 'ppl': 3, 'open': 3, 'fighting': 3, 'war': 3, 'retarded?': 3, 'checked': 3, 'laugh': 3, 'drop': 3, 'run': 3, 'cry': 3, 'dat': 3, 'click': 3, 'address': 3, 'pass': 3, 'slow': 3, 'statement.': 3, 'dare': 3, 'mountain': 3, 'along': 3, 'in,': 3, 'together': 3, 'huge': 3, 'move': 3, 'one.': 3, 'wont': 3, 'opinions': 3, 'abusing': 3, 'check': 3, 'spelling': 3, 'seems': 3, 'bully': 3, 'then,': 3, \"mom's\": 3, 'story': 3, 'inbred': 3, 'fail': 3, 'force': 3, 'yeah,': 3, 'heard': 3, 'too?': 3, 'vile': 3, 'coward.': 3, 'somebody': 3, 'delete': 3, '50': 3, 'playing': 3, 'ron': 3, 'between': 3, 'information': 3, 'whore.': 3, 'nothing.': 3, 'attention': 3, 'mentioned': 3, 'wtf': 3, 'say.': 3, 'outside': 3, 'subject': 3, 'worry': 3, 'song': 3, 'dude,': 3, 'comments!': 3, 'sarcasm': 3, 'pathetic.': 3, 'personally': 3, 'spit': 3, 'stopped': 3, 'face.': 3, 'giving': 3, 'bit': 3, '5': 3, 'said,': 3, 'liked': 3, 'mama': 3, 'teach': 3, \"she's\": 3, 'lesbo': 3, 'land': 3, 'pieces': 3, 'fair': 3, 'hundreds': 3, 'private': 3, 'killed': 3, 'interview': 3, 'crying': 3, 'high': 3, 'page': 3, 'worth': 3, 'time,': 3, 'form': 3, 'words.': 3, 'place': 3, 'whatever': 3, 'there.': 3, \"couldn't\": 3, 'intelligence': 3, 'sold': 3, 'race,': 3, 'rich': 3, 'probability': 3, 'cowardly': 3, 'fuck.': 3, 'showed': 3, 'sitting': 3, 'dumb!': 3, 'showing': 3, 'b!tch': 3, 'said.': 3, 'wow,': 3, 'education': 3, 'didnt': 3, 'wrong,': 3, 'hide': 3, 'air': 3, 'lmao': 3, 'fast': 3, 'uncle': 3, 'minutes': 3, 'ago': 3, 'insurance': 3, 'azz.': 3, 'azz': 3, 'nasty': 3, 'america.': 3, 'lady': 3, 'pulling': 3, 'means.': 3, 'book.': 3, 'two': 3, 'cool': 3, 'president': 3, 'phucking': 3, 'cannot': 3, 'herself': 3, 'giant': 3, 'won': 3, '--': 3, 'hugging': 3, 'male': 3, 'everybody': 3, 'section': 3, 'em': 3, 'bad.': 3, 'happens': 3, 'immediately': 3, 'power': 3, 'eventually': 3, 'jesus': 3, 'body': 3, 'remain': 3, 'accident': 3, 'morons.': 3, 'mommy': 3, 'biggest': 3, 'asshole.': 3, 'w': 3, 'blacks': 3, 'y': 3, 'explain': 3, 'meant': 3, 'car': 3, 'james': 3, 'fuck,': 3, 'moron!': 3, 'area': 3, 'sir,': 3, 'swear': 3, 'states': 3, 'smug': 3, 'but,': 3, 'family,': 3, 'female': 3, 'retarded,': 3, 'islam': 3, 'go-away': 3, 'ridiculous': 3, 'smelling': 3, 'reply': 3, 'grammatical': 3, 'stupid...': 3, 'gullible': 3, 'doesnt': 3, 'hispanic': 3, 'laraza': 3, 'pond': 3, 'redneck': 3, 'cj,': 3, 'touch': 3, 'health': 3, 'state': 3, 'wait,': 3, 'copy': 3, 'bury': 3, 'stay': 3, 'momma': 3, 'welfare': 3, 'named': 3, 'mom,': 3, 'coward,': 3, 'sikh': 3, 'terrible': 3, 'douche': 3, 'punch': 3, 'liar.': 3, 'pick': 3, 'fuckers': 3, 'precious': 3, 'baby': 3, 'k': 3, 'running': 3, 'blame': 3, 'moms': 3, 'wonder': 3, 'mass': 3, 'drops': 3, 'sort': 3, 'shoot': 3, 'dollar': 3, 'fans': 3, 'motherfucker': 3, 'free': 3, 'generally': 3, 'minded': 3, 'him.': 3, 'banned': 3, 'dan_amd\\\\n\\\\n\\\\n\\\\n\\\\nyou': 3, 'posts.\\\\nwe': 3, 'pro': 3, 'amd': 3, 'b:u:l:l:s:h:i:t': 3, 'ignorance.\\\\nplease': 3, 'loving': 3, 'charlie\\\\ndemerjian': 3, 'semiinaccurate': 3, 'fag!\\\\n\\\\n\\\\n\\\\n\\\\nwe': 3, 'anymore!': 3, 'choice.': 3, 'more.': 3, 'disgusting.': 3, 'friggin': 3, '30': 3, 'dude': 3, 'te': 3, 'uh': 3, 'this.': 3, 'pissed': 3, 'boo': 3, 'beautiful': 3, 'idiot.\\\\xa0': 3, 'fag': 3, 'race': 3, 'knowing': 3, 'choose': 3, 'clean': 3, 'fox': 3, 'because,': 3, 'today,': 3, 'till': 3, 'dik': 3, 'disease': 3, 'hoe': 3, 'suppose': 3, 'posted': 3, 'knew': 3, 'post.': 3, 'lick': 3, 'reagan': 3, 'screw': 3, 'soul': 3, 'bridge': 3, 'pray': 3, 'creating': 3, 'paper': 3, 'considered': 3, 'unfortunate': 3, 'website': 3, 'pic': 3, 'itself': 3, 'names': 3, 'happened': 3, 'remember': 3, 'per': 3, 'ignore': 3, 'iq': 3, \"shouldn't\": 3, \"\\\\xa0it's\": 3, 'sin,': 3, 'w/': 3, 'day,': 3, 'important': 3, 'middle': 3, 'dumb,': 3, 'cost': 3, 'her,': 3, 'animal,': 3, 'republican': 3, 'christians': 3, 'non-believers': 3, 'speculations': 3, 'predict': 3, 'done': 3, 'innings': 3, 'iran': 3, 'deeply': 3, 'hospital': 3, 'countries,': 3, 'burned': 2, 'stake': 2, 'extremely': 2, 'damn.': 2, 'fools': 2, 'protect': 2, 'behave': 2, 'it??': 2, 'socialist': 2, 'pointless': 2, 'delusion': 2, 'kept': 2, 'prog': 2, 'deep': 2, 'end.': 2, 'reach': 2, 'rants': 2, 'georgia': 2, 'immigration': 2, 'workers': 2, 'able': 2, 'fill': 2, 'year.': 2, 'americans': 2, 'latinos': 2, 'stole': 2, 'jobs': 2, 'collect': 2, 'course': 2, 'are\\\\xa0': 2, 'butthurt': 2, 'dickhead.': 2, 'youtube': 2, 'trickle': 2, 'wake': 2, 'knees': 2, 'king': 2, 'democrats': 2, 'cars': 2, 'and\\\\xa0': 2, 'ship': 2, 'weapons': 2, 'vile,': 2, 'creature': 2, 'god.': 2, 'killing': 2, 'skin': 2, 'confirmed': 2, 'brought': 2, 'dye,': 2, 'yellow': 2, 'tree': 2, 'anywhere': 2, 'smell': 2, 'longer': 2, 'breath.': 2, 'allergies': 2, 'die.': 2, 'insulting': 2, 'floyd': 2, 'percentage': 2, 'standing': 2, 'blood.': 2, 'admitted': 2, 'talk.': 2, 'anti': 2, 'leech': 2, 'voting': 2, 'block': 2, 'majority': 2, 'stuck': 2, 'ask': 2, 'protecting': 2, 'earth': 2, '20': 2, 'members': 2, 'busy': 2, 'proving': 2, 'cold': 2, 'trolls': 2, 'nobody.': 2, 'here!': 2, 'bitches.': 2, 'safe': 2, 'hunt': 2, 'poo.': 2, 'cover': 2, 'wshh': 2, 'video.': 2, 'devil': 2, 'criminal.': 2, 'flush': 2, 'soft': 2, 'pay?': 2, 'what?': 2, 'child.': 2, 'out,': 2, 'harm': 2, 'pointed': 2, 'realise': 2, 'argument': 2, 'anytime': 2, 'complain': 2, 'pain': 2, 'threshold': 2, 'raise': 2, 'hypocrite': 2, 'proper': 2, 'space': 2, 'women.': 2, 'twitter': 2, 'embarrass': 2, 'intent': 2, 'adults': 2, 'college': 2, 'color': 2, 'username': 2, 'bitch!!!': 2, 'member': 2, 'posts,': 2, 'pile': 2, 'dogs': 2, 'marxist': 2, 'clue,': 2, 'comeback': 2, 'link': 2, 'opinion': 2, 'dogs,': 2, 'killer': 2, 'bone': 2, 'skull': 2, 'front': 2, 'tard': 2, 'btw,': 2, 'shot': 2, 'to?': 2, 'jewish': 2, 'black.': 2, 'libturd...': 2, 'leftist': 2, 'comment.': 2, '1': 2, 'places': 2, 'internationalist': 2, 'signs': 2, 'royal': 2, 'paul': 2, 'imbecile.': 2, 'ages': 2, 'a-hole': 2, '!!!': 2, 'gutter': 2, 'filth.': 2, 'fags': 2, 'bitching': 2, 'amount': 2, 'mostly': 2, 'repeats': 2, 'park': 2, 'damaged': 2, 'nope': 2, 'anyway': 2, 'hall': 2, 'fame': 2, 'not,': 2, 'beg': 2, 'lost': 2, 'student': 2, 'troll!': 2, 'cares': 2, 'flagged': 2, 'often': 2, 'daddy': 2, 'vomit': 2, 'language': 2, 'grasp': 2, 'value.': 2, 'likes': 2, 'dog.': 2, 'fck': 2, 'fresh': 2, 'fan.': 2, 'better,': 2, 'hell.': 2, 'illegal': 2, 'cam': 2, 'logic': 2, '(the': 2, 'book,': 2, 'exactly': 2, 'yall': 2, 'tired': 2, 'mexican': 2, '100%': 2, 'thinks': 2, 'perfect': 2, 'naive': 2, 'dyke': 2, 'deserved': 2, 'degenerate': 2, 'her{?}': 2, 'polluted': 2, 'feminist': 2, 'fear': 2, 'ok.': 2, 'parts': 2, 'took': 2, 'bodies': 2, 'families': 2, 'racism.': 2, 'lived': 2, 'written': 2, 'argued': 2, 'delivered': 2, 'responses': 2, 'grammar': 2, 'partially': 2, 'addition': 2, 'collection': 2, 'poorly': 2, 'to.': 2, 'guy.\\\\xa0': 2, 'children,': 2, 'bed.': 2, 'nazi.': 2, 'though.': 2, 'knowledge': 2, 'all.': 2, 'boy.': 2, 'pathetic,': 2, 'product': 2, 'prolly': 2, 'remind': 2, 'bed': 2, 'lol,': 2, 'misdirection,': 2, 'reasoned': 2, 'classified': 2, 'alot': 2, '..': 2, 'comprehension': 2, 'difference': 2, 'fake.': 2, 'smoke': 2, 'putting': 2, 'brainwashed': 2, 'pity': 2, 'jew': 2, 'muslim': 2, 'topic': 2, 'kalifornia': 2, 'calls': 2, 'help.': 2, 'turd.': 2, 'history.': 2, 'name,': 2, 'much?': 2, 'conclusion': 2, 'replied': 2, 'comment,': 2, 'nigga.': 2, 'once.': 2, '@': 2, '45': 2, 'insurance.': 2, 'see,': 2, 'leidiot': 2, 'leader': 2, 'idiotic,': 2, 'clown': 2, 'hateful': 2, 'scumbag.': 2, 'teabilly': 2, 'slutchild': 2, 'us!': 2, 'something?': 2, 'someone?': 2, 'damn,': 2, 'wasnt': 2, 'criticism': 2, 'without': 2, 'retorts': 2, 'hours': 2, 'closed': 2, 'society': 2, 'hour': 2, 'horrible': 2, 'from.': 2, 'sickening': 2, 'dipshit,': 2, 'whom': 2, 'team.': 2, 'bout': 2, 'right,': 2, 'losers': 2, 'married': 2, 'huck': 2, 'beating': 2, 'comments,': 2, 'censor': 2, 'aids': 2, 'sleep': 2, 'older': 2, 'teeth': 2, 'seen.': 2, 'bucket': 2, 'sister?': 2, 'phone': 2, 'retard,': 2, 'blood': 2, 'morons,': 2, 'dude!': 2, 'bull': 2, 'convinced': 2, 'suckle': 2, 'forgive': 2, 'allah': 2, 'die,': 2, 'further': 2, 'forever': 2, 'guys,': 2, 'short': 2, 'penny': 2, 'being.': 2, 'him?': 2, 'prick': 2, 'school,': 2, 'shown': 2, 'kid.': 2, '\\\\xa0he': 2, 'reference': 2, 'fkin': 2, 'throw': 2, 'football': 2, 'retard!': 2, 'you!!': 2, 'mr': 2, 'try,': 2, 'pig.': 2, 'faggot.': 2, '4': 2, 'fall': 2, 'certainly': 2, 'past.': 2, 'indians': 2, 'hunted': 2, 'lazy': 2, 'working': 2, 'control': 2, 'pills': 2, 'wet': 2, 'hair': 2, 'wetback': 2, 'backwards': 2, 'quality': 2, \"who's\": 2, 'message': 2, 'this,': 2, 'guessing': 2, 'lol!!!!': 2, 'yourself?': 2, 'nazi': 2, 'poster': 2, 'below': 2, 'clear': 2, 'album': 2, '2ne1': 2, 'owned': 2, 'idiot!!!': 2, 'raised': 2, 'africa': 2, 'somewhere': 2, 'point?': 2, 'correct': 2, 'well.': 2, 'today.': 2, 'yes.': 2, '....you': 2, 'family.': 2, 'become': 2, 'everyone.': 2, 'basement.': 2, 'uck': 2, 'brown.': 2, \"else's\": 2, 'sick,': 2, 'constitution': 2, 'mc': 2, 'specific': 2, 'sh': 2, 'slut': 2, 'fix': 2, 'plate': 2, 'throat': 2, 'dna': 2, 'increasing': 2, 'views': 2, '\\\\n': 2, 'idiot!!': 2, \"let's\": 2, 'errors,': 2, '\\\\xa0your': 2, 'continue': 2, 'everyday': 2, 'crazy.': 2, 'hispanics': 2, 'good.': 2, 'legals': 2, 'anglos': 2, 'fidel': 2, 'progs': 2, 'idol': 2, 'assuming': 2, 'issues': 2, 'zero': 2, 'assume': 2, 'there,': 2, 'leaders': 2, 'value': 2, 'thinking,': 2, 'vagina.': 2, 'tweenie': 2, 'ranting': 2, 'butt': 2, 'sara': 2, 'christian': 2, 'them?': 2, 'better.': 2, 'smarter': 2, 'suck.': 2, 'abandoned': 2, 'hole,': 2, 'expect': 2, 'politics': 2, '2nd': 2, 'grade': 2, 'happened,': 2, 'crap.\\\\xa0': 2, 'today': 2, 'nature,': 2, 'merely': 2, 'crazy': 2, 'sister,': 2, 'be.': 2, 'gutless': 2, 'now,': 2, 'commenting,': 2, 'breath': 2, 'nose': 2, 'do?': 2, 'physical': 2, 'truth,': 2, 'words,': 2, 'insane': 2, 'anything!!': 2, 'learned': 2, 'oh,': 2, 'up,': 2, 'basis': 2, 'low': 2, 'posters': 2, 'deluded': 2, 'marriage': 2, 'nature': 2, 'couples': 2, 'animals': 2, 'sex': 2, 'step': 2, 'brain,': 2, 'shit!': 2, 'motherfucking': 2, 'v': 2, 'asshole.\\\\xa0': 2, 'hahaha': 2, 'whose': 2, 'bigger': 2, 'molesting': 2, 'gay.': 2, 'troll?': 2, 'slave': 2, 'batshit': 2, 'picture.': 2, 'devil.': 2, 'cancer,': 2, \"\\\\xa0let's\": 2, 'assertion.': 2, 'explaining': 2, 'computer.': 2, 'articles,': 2, 'before,': 2, 'ob': 2, 'brother': 2, 'korean': 2, 'way.': 2, 'dark': 2, 'period.': 2, 'thinking.': 2, 'syntax': 2, 'exercising': 2, 'usually': 2, 'respectful': 2, 'cheer': 2, 'smart': 2, 'red.': 2, 'biased,': 2, 'mother.': 2, 'team': 2, 'something.': 2, 'gone': 2, 'soon.': 2, 'kkkonservative': 2, 'long.': 2, 'matter.': 2, 'unsolicited': 2, 'fuk': 2, 'stupidity.': 2, 'really?': 2, '\\\\xa0get': 2, 'libturd!': 2, 'aww,': 2, 'jerks': 2, 'anal': 2, 'jerk.': 2, 'haitian': 2, 'tit': 2, 'worst': 2, 'truth.': 2, 'hole.': 2, 'here?': 2, 'freaks': 2, 'drinking': 2, 'enemies': 2, '\\\\xa0nothing': 2, 'mouth,': 2, 'super': 2, 'mine.': 2, 'american.': 2, 'entirely': 2, '$': 2, 'messiah': 2, 'soon': 2, '28': 2, 'harder': 2, 'figure': 2, 'individuals': 2, 'likely': 2, 'mess': 2, 'nope,': 2, 'idiotic.\\\\xa0': 2, 'scum.': 2, 'nation': 2, 'term': 2, 'sorry,': 2, 'included': 2, 'racist.': 2, 'carry': 2, '\\\\ni': 2, 'the\\\\xa0': 2, 'you?\\\\xa0': 2, 'sicko': 2, 'wipe': 2, 'eyes': 2, 'sucks.': 2, 'card': 2, 'pulled': 2, 'exception': 2, 'singh': 2, 'source': 2, 'military': 2, 'yup': 2, 'skies': 2, 'years,': 2, 'government': 2, 'spy': 2, 'imbiciles': 2, 'nazi?': 2, 'scares': 2, 'slut.': 2, 'yourself.\\\\xa0': 2, 'view': 2, 'youre': 2, 'spoiler': 2, 'r.i.p.': 2, 'avoid': 2, 'addicts': 2, 'bash': 2, 'us!!!': 2, 'couple': 2, 'parents,': 2, 'keyboard': 2, 'responsible': 2, 'starved': 2, 'spam': 2, 'really,': 2, 'yes': 2, 'fellow': 2, 'gang': 2, 'hijack': 2, 'growapair,': 2, 'sniffing': 2, \"daddy's\": 2, 'smoking': 2, 'crack': 2, 'power.': 2, 'pie': 2, 'tattoos': 2, 'la': 2, 'yours.': 2, 'beneath': 2, 'right.': 2, 'basement': 2, 'arent': 2, 'smacked': 2, 'joking': 2, 'case': 2, 'recital': 2, 'lefty': 2, '!!': 2, '305': 2, 'network': 2, 'm': 2, 'gee': 2, 'ufc': 2, 'struggle': 2, 'rough': 2, 'receive': 2, 'queen': 2, 'pakistan': 2, 'unlike': 2, 'meal': 2, 'board': 2, 'educated': 2, \"wasn't\": 2, 'event': 2, 'online': 2, 'no,': 2, 'kinda': 2, 'oscar': 2, \"they're\": 2, 'turd': 2, '\\\\xa0but': 2, 'sunk': 2, 'people,': 2, 'bias': 2, 'liking': 2, 'treatment': 2, 'end': 2, 'ground.': 2, 'fooling': 2, 'unable': 2, 'replying': 2, 'user': 2, 'ones': 2, 'neil': 2, 'editing': 2, '\\\\xa0it': 2, 'fleabaggers': 2, 'losing': 2, 'nigga!': 2, 'bigot': 2, 'purple': 2, 'thugs': 2, 'hairy': 2, 'dump': 2, 'anything?': 2, 'girl.': 2, 'nigger': 2, 'wetbacks': 2, 'mexicans': 2, 'peanut': 2, 'honey,': 2, 'brains': 2, 'boy,': 2, 'lower': 2, \"haven't\": 2, 'ass,': 2, 'minorities': 2, 'bastard.': 2, 'mixed': 2, '\\\\xa0as': 2, 'accused': 2, 'karma': 2, 'faker': 2, 'fu': 2, 'religious': 2, 'spending': 2, 'greedy': 2, 'list': 2, 'close': 2, 'accept': 2, 'each': 2, \"\\\\xa0you're\": 2, 'shit?': 2, 'taking': 2, 'hmm': 2, 'reject': 2, 'hat': 2, 'wasting': 2, 'defended': 2, 'despicable': 2, 'romney': 2, 'mentally': 2, 'serbian': 2, 'ea': 2, 'taste': 2, 'arguing': 2, 'lives': 2, 'job.': 2, 'bloody': 2, 'creeps': 2, 'save': 2, 'doctors': 2, 'wage': 2, 'diet': 2, 'champions': 2, 'ny': 2, 'd': 2, 'coons.': 2, 'lana': 2, 'intelligence.': 2, 'plan': 2, 'finger': 2, 'twice': 2, 'commented': 2, 'common': 2, 'clothes': 2, 'about,': 2, 'regarding': 2, 'co-written': 2, 'believe.': 2, '\\\\nthings': 2, 'book': 2, 'february': 2, '18th.': 2, 'believers': 2, 'number': 2, 'impossible,': 2, 'planet': 2, 'otherwise': 2, 'except': 2, 'hopes': 2, 'convincing': 2, 'not.': 2, 'party': 2, 'fun.': 2, 'responsibility': 2, 'pimp': 2, 'same.': 2, 'lololol!': 2, 'boring': 2, 'pansy': 2, 'punk!': 2, 'saw': 2, 'eyeballs': 2, 'india': 2, 'saddam': 2, 'broke': 2, 'cash': 2, 'soooo': 2, 'related': 2, 'megan': 2, 'fugate': 2, 'dylan': 2, 'spreading': 2, 'worthless,': 2, 'lying,': 2, 'bag,': 2, 'monkeys': 2, 'you?\\\\n\\\\nhave': 2, 'sincerely': 2, 'manage': 2, 'anger': 2, 'issues.\\\\n\\\\nyou': 2, 'sympathy.': 2, 'pat': 2, 'co': 2, 'gibberish': 2, 'd**kless': 2, 'bob': 2, 'nerd': 2, '\\\\r\\\\ntrolololololololololololololloloolololololllollllolololololololol': 2, 'sense,': 2, 'clownish': 2, '\\\\nyou': 2, 'che': 2, 'que': 2, 'twisted': 2, 'have.': 2, 'here.\\\\xa0': 2, 'charles': 2, 'play': 2, 'brings': 2, 'etc': 2, 'native': 2, 'access': 2, 'doctor': 2, 'co-pay.': 2, 'wealthy': 2, 'profits': 2, 'dad.': 1, 'stupid...maybe': 1, 'both...': 1, 'understands': 1, 'neither': 1, 'taxation': 1, \"women's\": 1, 'health.': 1, \"'racist'\": 1, 'name\\\\n\\\\nyou': 1, 'pieceofshit..........': 1, 'dickhead...': 1, '#%&*': 1, 'allinit123,': 1, 'your\\\\xa0hypocrisy\\\\xa0is': 1, 'sickening,': 1, 'idea': 1, 'on.\\\\xa0': 1, 'fools.\\\\xa0': 1, 'idiots.\\\\xa0': 1, 'prick!': 1, 'sum': 1, 'conversation': 1, 'troll..': 1, 'existent': 1, 'warfare,': 1, 'aimless': 1, 'weirdo': 1, 'locked': 1, 'computers.\\\\xa0': 1, 'doubts': 1, 'lunacy': 1, 'frog': 1, 'nyc': 1, 'apart': 1, 'seams': 1, 'failure.': 1, 'anti-semitic': 1, 'welcomed': 1, 'moron.\\\\nfu!': 1, 'tiresome.': 1, ':': 1, 'passed': 1, 'strict': 1, 'latino': 1, 'farm': 1, 'area.': 1, 'vidalia': 1, '3000': 1, 'agriculture': 1, 'openings': 1, '250': 1, 'you..where': 1, 'vadalia': 1, 'you..or': 1, 'unemployment': 1, 'klaners..': 1, 'scream..you': 1, 'complain..and': 1, 'beaters': 1, 'beer..typical': 1, 'klan....': 1, 'feeder': 1, 'fukin': 1, '\\\\xa0\\\\xa0': 1, 'rejected': 1, 'wikipedia.\\\\n\\\\ncall': 1, 'yoursilf': 1, 'scolar': 1, 'whatever.\\\\xa0': 1, 'you,\\\\xa0': 1, '14': 1, 'wikipedia': 1, 'administrator.\\\\xa0': 1, 'ashole.': 1, 'ass!.': 1, 'xbox': 1, 'fanboy.': 1, 'papers': 1, 'arealconservati.\\\\n\\\\ntill': 1, 'fuuk': 1, 'sticky-chin.': 1, 'correction': 1, 'superb': 1, 'talent..and': 1, 'submit': 1, 'singing..where': 1, 'link?': 1, 'kinds': 1, 'rave': 1, 'reviews': 1, 'effected': 1, 'sperm': 1, 'trickled': 1, 'leg.': 1, 'sleep,': 1, 'sausage': 1, 'mouth.\\\\xa0': 1, 'cream': 1, 'cheese': 1, 'swallowing.': 1, 'institutions.': 1, 'maher,': 1, 'meds': 1, 'sob': 1, 'forget.': 1, 'join': 1, 'cat': 1, 'are...funny': 1, 'nuts': 1, 'pilots': 1, 'panes...': 1, 'international': 1, 'schmuck,': 1, 'peace': 1, 'activists': 1, 'soldiers': 1, 'the.': 1, 'callous,': 1, 'mythology': 1, 'babies,': 1, 'christard!': 1, 'loser,': 1, 'gotten': 1, '19th': 1, 'century': 1, 'modern': 1, 'science': 1, 'anything.': 1, 'quote': 1, 'period': 1, 'spanish': 1, 'inquisition.': 1, 'low,': 1, 'allergic': 1, 'wheat,': 1, 'corn,': 1, 'soy,': 1, 'pistachios,': 1, 'nuts,': 1, 'kiwis,': 1, 'cherries,': 1, 'oranges,': 1, 'bananas,': 1, 'seafood.': 1, 'seafood': 1, 'lungs': 1, 'constrict': 1, 'leash': 1, 'pistachios': 1, 'anaphylactic.': 1, 'allergies.\\\\xa0\\\\n\\\\ni': 1, 'pacman': 1, 'fuuuuck': 1, 'puppy.': 1, 'here?\\\\nyour': 1, 'hoodrat': 1, 'boiling': 1, 'alley': 1, 'minutes.': 1, 'twat.': 1, '12?': 1, '\\\\n\\\\nknicks': 1, 'beeyatch!!!\\\\n\\\\nnot': 1, 'melo': 1, 'licker!!!': 1, 'exam,': 1, 'glasses!': 1, 'cassie': 1, 'finest': 1, 'earth!': 1, 'smugs': 1, 'ny.': 1, 'fuck!': 1, 'of-shit': 1, 'sipping': 1, 'th': 1, 'sacramental': 1, 'wine': 1, 'again?\\\\n\\\\nyou': 1, 'dense': 1, 'howe': 1, 'parasite?': 1, 'becoming': 1, 'large': 1, 'dismissed': 1, 'blacks,': 1, 'minorities.\\\\nyou': 1, 'win': 1, 'obviously...give': 1, 'vote.\\\\nmoron': 1, 'that....stupid': 1, 'daughter': 1, '16.....when': 1, 'weaman': 1, 'mounths..': 1, 'ight': 1, 'army': 1, 'w.e.': 1, 'battle': 1, 'field': 1, 'atleast': 1, 'juggalos.': 1, 'ick': 1, 'divk': 1, 'whipped': 1, 'juggalo': 1, 'iraq': 1, 'afghan': 1, 'avenging': 1, 'deaths?': 1, 'lol..': 1, 'buddy..': 1, 'you...\\\\n\\\\nthere': 1, 'india..': 1, 'israel': 1, 'hat..': 1, 'costly': 1, 'them..\\\\xa0\\\\n\\\\nso': 1, 'up..': 1, 'war..': 1, 'piiisii': 1, 'facts\\\\n\\\\nrepublican': 1, 'factual': 1, 'crap\\\\n\\\\nyou': 1, '2016': 1, 'yesterday.': 1, 'yeaah': 1, 'babby': 1, 'autumn.....': 1, '\\\\n\\\\nred': 1, '#102': 1, 'humor.': 1, 'boi': 1, 'regular,': 1, 'mel': 1, 'gibson': 1, 'rollin': 1, 'incredibly': 1, 'stupid....': 1, 'poo!': 1, 'teams': 1, 'pages.': 1, 'f#$@ing': 1, 'sh1thead.': 1, 'prostitute': 1, 'pant': 1, 'gigantic': 1, 'punk.': 1, 'haha...atleast': 1, 'insults': 1, 'idiot!!....': 1, 'wack': 1, '#based': 1, 'cracker': 1, 'garbage.': 1, \"we'll\": 1, 'fanaticism': 1, 'respects,': 1, 'urinate': 1, 'urn': 1, 'displays': 1, 'rational': 1, 'fact..': 1, 'ashamed': 1, 'dnt': 1, 'fuc.king': 1, 'crew': 1, 'days..lmao...now': 1, 'grew': 1, 'wit': 1, 'dsts': 1, 'for..lol..tell': 1, 'a.ss': 1, 'miles': 1, 'howeva': 1, 'head...lol..lol..lol...': 1, 'cortez': 1, 'callin': 1, 'well?': 1, 'breed.': 1, 'hang': 1, 'eduardo,': 1, 'address?': 1, 'forcefully': 1, '\\\\nyour': 1, 'door': 1, 'down,': 1, 'house,': 1, '\\\\nseriously': 1, 'physically': 1, 'self\\\\n': 1, 'defence!!': 1, 'truely!': 1, '<blockquote>': 1, 'girl,': 1, 'feminist/misogynist': 1, 'bullshit.\\\\n\\\\n\\\\noh,': 1, 'toots,': 1, 'anf': 1, '21,000': 1, 'foot\\\\n': 1, '64': 1, 'degrees': 1, 'north': 1, 'latitude': 1, 'whine,': 1, 'or\\\\n': 1, 'cramps,': 1, 'sign': 1, '\\\\n\\\\n\\\\nyou': 1, 'nypocrtical': 1, 'sweetheart.': 1, 'anyplace\\\\n': 1, 'planet.': 1, 'bteer': 1, 'ability\\\\n': 1, 'footsteps,': 1, 'delicate': 1, '\\\\nhand.': 1, 'oir': 1, 'moan': 1, 'youy': 1, 'field,': 1, 'will\\\\n': 1, 'dozen': 1, 'cameras': 1, 'whimpy\\\\n': 1, 'are.\\\\n\\\\n\\\\npussy.</blockquote>\\\\n\\\\nfuck': 1, \"you.\\\\n\\\\ndon't\": 1, 'toots': 1, \".\\\\n\\\\ni'm\": 1, 'disabled,': 1, 'size.\\\\n\\\\ni': 1, 'chronic': 1, 'pain,': 1, 'out.\\\\n\\\\nmeow': 1, 'meow,': 1, 'fuckstain.': 1, 'string': 1, 'legable': 1, 'sentance': 1, 'diagram\\\\n\\\\nit': 1, 'obviouse': 1, 'havent': 1, 'learnt': 1, 'baack': 1, '\\\\n\\\\njust': 1, 'server': 1, 'tyler.': 1, 'this?': 1, 'legally': 1, '(unless': 1, 'major': 1, 'genious),': 1, 'sun!!!': 1, 'comments!!!': 1, 'bother': 1, 'writing': 1, 'then!!!': 1, 'system': 1, 'bags': 1, 'shall': 1, 'i.............decent': 1, 'flagged,': 1, 'joke.....a': 1, 'get....': 1, 'pun': 1, 'will.\\\\nyou': 1, 'relax.': 1, 'pic.': 1, 'coaches': 1, 'dumb....if': 1, 'y/o.': 1, \"\\\\\\\\xc2\\\\\\\\xa0you're\": 1, 'female,': 1, 'both.': 1, 'spelling.': 1, 'dild....o?': 1, 'dildo?': 1, '*ur': 1, 'rynthih95': 1, '\\\\xa0u': 1, 'sachin': 1, '.\\\\nshut': 1, '[[midfing]]': 1, 'soooo,': 1, \"you\\\\\\\\'re\": 1, 'now.\\\\\\\\n\\\\\\\\nwith': 1, 'klanman': 1, 'kkk.\\\\\\\\n\\\\\\\\nafter': 1, '\\\\\\\\xc2\\\\\\\\xa0your': 1, 'proud.': 1, 'jurbinsky': 1, 'neighbors': 1, 'prepared': 1, 'trashed,': 1, 'pack': 1, 'bags,': 1, 'leaving': 1, 'jan,': 1, 'heii': 1, 'ridence,': 1, 'commy': 1, 'winger': 1, 'just4thefax': 1, 'wedge': 1, 'issue,': 1, 'issue.\\\\n\\\\nget': 1, 'brilliant': 1, 'blowhard': 1, 'brain\\\\xa0aneurysm\\\\n\\\\nwould': 1, 'trash\\\\n\\\\nslaver': 1, 'holding': 1, 'dony': 1, 'fucker.of': 1, 'bark': 1, 'offensive': 1, 'egoistic': 1, 'dimwitted': 1, 'drag': 1, \"others'\": 1, 'down.': 1, 'dumb-asses,': 1, 'president...romney.': 1, 'boyhollow': 1, 'mean...or': 1, 'know?': 1, 'marine....someone': 1, 'grab': 1, 'empty\\\\xa0head': 1, 'crushing': 1, 'father.': 1, 'bleeping': 1, 'idiot!!!!': 1, 'bum': 1, ';)\\\\n\\\\nand': 1, 'stalker.': 1, 'phuck': 1, 'pitbulls.': 1, ';d': 1, 'budweiserb11\\\\nshut': 1, 'poland': 1, 'ruled': 1, 'russia': 1, 'guns': 1, 'of.': 1, '****ing': 1, 'loser.\\\\n-------------------------------\\\\n\\\\nwho': 1, 'responding': 1, 'byli\\\\u015bmy': 1, 'pot\\\\u0119g\\\\u0105': 1, 'z': 1, 'husari\\\\u0105.': 1, 'retard...before': 1, 'consider': 1, 'violated': 1, 'privacy...go': 1, 'bellinski': 1, 'feigle': 1, 'dance': 1, 'toxic,': 1, 'culture.': 1, 'rock...': 1, 'explained,': 1, 'understand.': 1, 'no!': 1, 'deleted': 1, 'rule:': 1, '=': 1, 'reposts.': 1, 'go:\\\\n#38': 1, 'furious': 1, 'involved': 1, 'fuckedup': 1, 'rubish': 1, 'murdouchebag': 1, 'paycheck': 1, 'funded': 1, 'saudi': 1, 'aldickweed.': 1, 'tea-tards': 1, 'stirred': 1, 'murdouchebag-aldickweeds': 1, 'agenda': 1, 'bushies.': 1, 'foxtarrds.': 1, 'switching': 1, 'accounts?\\\\\\\\njust': 1, 'software': 1, 'tracked.\\\\\\\\nits': 1, 'useless': 1, 'are?': 1, 'yelling,': 1, 'tedious': 1, 'hack.&nbsp;': 1, 'anyway?': 1, 'ago,': 1, 'nuance': 1, 'effing': 1, 'forreal': 1, 'basegod': 1, 'bith': 1, 'man...let': 1, 'purge': 1, 'e-thug,mother': 1, 'hearted': 1, 'shaolin': 1, 'monk,and': 1, 'this,i': 1, 'joke.': 1, 'henri?': 1, 'sprew': 1, 'inept': 1, \"lil'\": 1, 'takes': 1, 'seriously.': 1, 'scooter.': 1, 'mud-slimes': 1, 'stone': 1, 'lthy': 1, 'death,.': 1, 'nuffffff': 1, 'saidddddddddd': 1, 'trash.\\\\xa0': 1, 'level': 1, 'humanity.': 1, 'it.\\\\xa0': 1, 'kim': 1, 'kwang': 1, 'soo': 1, 't-ara': 1, 'guy,': 1, 'commentary': 1, 'piece,': 1, 'douche-bag.': 1, 'stink-hole.': 1, 'basically': 1, 'iot': 1, 'maddow': 1, 'rev': 1, 'al': 1, 'doe.': 1, 'yoself': 1, '(although': 1, 'awefully': 1, 'bitch)': 1, 'what!': 1, 'suing': 1, 'hustler': 1, 'published.': 1, 'properly': 1, 'accusing': 1, \"'cashing\": 1, \"in'\": 1, 'relative.': 1, 'bastered': 1, 'kno': 1, 'luther': 1, 'abel': 1, 'omg': 1, 'pitful.\\\\nenough': 1, 'converse': 1, 'formaldehyde': 1, 'brains.\\\\nstep': 1, 'boeti': 1, 'batards': 1, ':)': 1, 'dumber': 1, 'foegt': 1, 'began': 1, 'guilty': 1, 'azz!': 1, \"he'll\": 1, 'autotune?\\\\njust': 1, 'becuase': 1, 'upbeat': 1, 'autotuned.\\\\nget': 1, 'ears!\\\\n\\\\n\\\\nseriously': 1, 'autotune': 1, 'it.\\\\nit': 1, 'afffects,': 1, 'autotune.\\\\nif': 1, 'differ': 1, 'vetted.\\\\xa0': 1, 'sealed': 1, 'records.\\\\xa0': 1, 'evenko': 1, 'is.': 1, 'credibility': 1, 'limbaugh': 1, 'university!': 1, 'degrading': 1, 'lasts!': 1, '<cite>\\\\nexactly': 1, 'r\\\\xe4pe': 1, 'weekly': 1, \"hourly?\\\\n\\\\nyou're\": 1, 'easily': 1, 'depressingly': 1, 'buttf++ked': 1, 'shite': 1, 'halfassed': 1, 'excuses': 1, 'site.': 1, 'clever,': 1, 'colloquialisms': 1, 'hilariously': 1, 'puerile': 1, '\\\\xa0nobody': 1, 'h\\\\xe9ll,': 1, '<i>tolerates': 1, 'you</i>.': 1, 'recognize': 1, 'street': 1, 'result': 1, 'unprotected': 1, 'buttsex': 1, '\\\\xa0an': 1, 'abomination': 1, 'justifiable': 1, 'exist.\\\\n\\\\nnow': 1, '<b>go': 1, 'fuckyourself': 1, 'chainsaw</b>,': 1, 'sparky': 1, '\\\\xa0slowly': 1, 'painfully.\\\\n\\\\neveryone!': 1, 'obamatroll': 1, '<i>a': 1, 'sticky': 1, 'sphincter': 1, \"kiss!!!</i>\\\\n\\\\nmmmmmmmwwwwwwaaaaaaaaaaaaaa!!!!!!!!!!!!!!!!!!!!!!!!!!\\\\n</b>\\\\n\\\\n\\\\u2026\\\\u2026\\\\u2026\\\\u2026\\\\u2026\\\\u2026\\\\u2026./\\\\xb4\\\\xaf/)\\\\n\\\\u2026\\\\u2026\\\\u2026\\\\u2026\\\\u2026\\\\u2026..,/\\\\xaf../\\\\n\\\\u2026\\\\u2026\\\\u2026\\\\u2026\\\\u2026\\\\u2026./\\\\u2026./\\\\n\\\\u2026\\\\u2026\\\\u2026\\\\u2026./\\\\xb4\\\\xaf/'\\\\u2026'/\\\\xb4\\\\xaf\\\\xaf`\\\\xb7\\\\xb8\\\\n\\\\u2026\\\\u2026\\\\u2026./'/\\\\u2026/\\\\u2026./\\\\u2026\\\\u2026./\\\\xa8\\\\xaf\\\\\\\\\\\\n\\\\u2026\\\\u2026..('(\\\\u2026\\\\xb4\\\\u2026\\\\xb4\\\\u2026.\": 1, \"\\\\xaf~/'\\\\u2026')\\\\n\\\\u2026\\\\u2026\\\\u2026\\\\\\\\\\\\u2026\\\\u2026\\\\u2026\\\\u2026\\\\u2026..'\\\\u2026../\\\\n\\\\u2026\\\\u2026..\\\\u2026\\\\\\\\\\\\u2026.....\\\\u2026\\\\u2026.\": 1, '_.\\\\xb7\\\\xb4\\\\n\\\\u2026\\\\u2026\\\\u2026\\\\u2026\\\\\\\\\\\\u2026\\\\u2026\\\\u2026\\\\u2026..(\\\\n\\\\u2026\\\\u2026\\\\u2026\\\\u2026..\\\\\\\\\\\\u2026\\\\u2026\\\\u2026\\\\u2026.\\\\\\\\\\\\n\\\\n</cite>': 1, 'blabbermouth': 1, 'day!': 1, 'saved.': 1, 'shoes': 1, 'bad?': 1, 'compliments': 1, 'gear,': 1, 'holyshit': 1, 'boston': 1, 'due.': 1, 'miami,': 1, 'series,': 1, 'won.': 1, 'bathroom.': 1, 'truthfully': 1, '1/5': 1, 'section.': 1, 'irrelevant': 1, 'statistical': 1, 'up)': 1, 'group.': 1, 'remote': 1, 'notion': 1, 'sexually': 1, 'abused': 1, 'newcomers': 1, 'justified': 1, 'pathology': 1, 'predator.': 1, 'alla': 1, 'ymcb': 1, 'takeover': 1, 'weezy': 1, 'beef': 1, 'das': 1, 'that\\\\xa0http://www.youtube.com/watch?v=5n7oa_kk1iq': 1, 'video!': 1, 'song...obviously': 1, 'amendment?\\\\\\\\xc2\\\\\\\\xa0\\\\\\\\n\\\\\\\\nroman': 1, 'darling...soft': 1, 'nigga...': 1, 'hahah!!!!': 1, 'niggers': 1, 'crackers': 1, ';)': 1, 'human,': 1, 'pieceofch*t.': 1, 'laffin?\\\\xa0': 1, 'jihadist': 1, 'puke.': 1, 'hahahahahahahahathe': 1, 'it!!!!!!!!!!!!!!!': 1, 'of\\\\\\\\xc2\\\\\\\\xa0': 1, 'karmic': 1, 'payback': 1, 'forall': 1, 'degeneracy': 1, 'misandry': 1, 'feminists': 1, 'inflictedupon': 1, 'western': 1, 'alive': 1, 'emotional': 1, 'diarrhea': 1, 'whale.': 1, 'shit!!!!!!!!!!!!!!': 1, 'so-so': 1, 'lame.': 1, 'opression,': 1, 'hung': 1, 'singing': 1, 'wind': 1, '(a': 1, 'state;': 1, 'kids).': 1, 'created': 1, 'tricks': 1, 'rules': 1, 'years;': 1, 'destorying': 1, 'choice': 1, 'teacher': 1, 'ca': 1, 'themselves,': 1, 'reverse': 1, \"another's\": 1, 'horse!': 1, 'fact:': 1, 'radical': 1, 'comic': 1, 'creator': 1, 'basic.\\\\n\\\\nyou': 1, 'fact.': 1, 'project': 1, 'github': 1, '\\\\n\\\\nfact:': 1, 'lunduke': 1, 'consumed': 1, '$2000': 1, 'begged': 1, 'additional': 1, 'hardware,': 1, 'promise': 1, 'yet.\\\\n\\\\nfact:': 1, 'hillbilly': 1, 'frequently': 1, 'insert': 1, 'symbols': 1, 'improper': 1, 'numerology': 1, 'describing': 1, 'number.': 1, 'habitually': 1, 'forfeit': 1, 'stream': 1, 'consciousness': 1, 'constructed': 1, 'fragments.': 1, 'short,': 1, 'dick.\\\\n\\\\nfact:': 1, 'speech?': 1, 'implore': 1, 'argue': 1, 'directly.': 1, 'awe.......\\\\xa0': 1, 'wittle': 1, 'patrol': 1, '$tupid': 1, 'onlyenglish,': 1, 'seriously?\\\\xa0': 1, 'lmfao!': 1, 'ho.': 1, 'slavery,': 1, 'irish': 1, 'ancestors': 1, 'slaves': 1, 'irish-whitey': 1, 'handout?': 1, 'met': 1, 'nigg*r': 1, \"whitey's\": 1, 'sexu*l': 1, 'prowess,': 1, 'nigg*s': 1, 'dodging': 1, 'born.': 1, 'education.': 1, 'people..lololololololololololololololololo.': 1, 'slavery': 1, 'issue.': 1, 'bought': 1, 'nig*ets': 1, 'peeps.': 1, 'bit*h.': 1, 'bl*w': 1, 'nig*a,': 1, 'ho,': 1, 'for.': 1, 'surpreme': 1, 'court': 1, 'funny.....morning': 1, 'dictionary': 1, 'to\\\\xa0describe\\\\xa0you,': 1, 'even\\\\xa0funny\\\\xa0anymore!': 1, 'are...stupid': 1, 'yuppie.': 1, 'to\\\\xa0sound': 1, 'embrace': 1, 'iminant': 1, 'death,': 1, 'riddance': 1, 'jealousy': 1, 'absurd,': 1, 'baseball': 1, 'dreamt': 1, 'weekend.': 1, 'cowards': 1, 'attractive.': 1, 'stable': 1, 'savages': 1, 'pimple-faced': 1, 'adolescent': 1, 'studied': 1, 'yet?': 1, '\\\\n\\\\nlet': 1, 'guess...you': 1, 'schooling,': 1, 'comedy': 1, 'hater.': 1, 'smashin': 1, 'camera': 1, '..oh': 1, 'send': 1, 'bedroom': 1, 'chit': 1, \"xshogunx's\": 1, 'spread': 1, \"down's.\": 1, '@peter8888,\\\\n\\\\nyou': 1, 'colors.': 1, 'innuendo.\\\\n\\\\nname': 1, 'calling,': 1, 'innuendo,': 1, 'refuge': 1, 'viable,': 1, 'logical,': 1, 'ryan...........go': 1, 'teat................boywonder': 1, 'point,': 1, 'dudes': 1, 'life....': 1, 'plenty': 1, 'judging': 1, 'elses': 1, 'many\\\\xa0sri': 1, 'lankans\\\\xa0talking': 1, 'shit\\\\xa0as': 1, 'usual.\\\\xa0we\\\\xa0must': 1, 'build\\\\xa0sri\\\\xa0lanka\\\\xa0we\\\\xa0must': 1, 'together.\\\\xa0when\\\\xa0will': 1, 'you\\\\xa0understand': 1, 'that??': 1, 'it..': 1, 'awesome': 1, 'skills..': 1, 'genius': 1, 'buddha': 1, 'slob..........nufffff': 1, 'spice': 1, 'meth': 1, 'combined': 1, 'dead.': 1, 'media,': 1, 'pawn': 1, 'society,': 1, 'news,': 1, 'grunt.': 1, 'continues': 1, \"obama's\": 1, 'dream': 1, 'heard,': 1, 'handjob': 1, 'symbol': 1, 'true.': 1, 'perhaps': 1, \"nazi's\": 1, 'ken-doll\\\\n\\\\nand': 1, 'beech': 1, 'it?\\\\n\\\\nwhatever....\\\\n\\\\nkeep': 1, 'teabagger': 1, 'ken-doll....you': 1, 'lucky': 1, 'phaggot': 1, 'serious': 1, 'psycho;logical': 1, 'talking...the': 1, 'payaso': 1, 'spanish!': 1, 'ignorant--cock-sucker': 1, 'stankin': 1, 'sarcasm?': 1, 'replying?': 1, 'unsophisticated.': 1, 'fuck..': 1, 'skateboarding': 1, 'time..': 1, 'wayne': 1, 'set': 1, 'trends': 1, '60': 1, 'idiot!?!?': 1, '\\\\n\\\\nbenny_hill,': 1, 'campaign': 1, 'character': 1, 'assassination,': 1, 'smear': 1, 'distortion.\\\\n\\\\ncowardly': 1, 'alenlemone': 1, 'issues,': 1, 'least.': 1, 'biased': 1, 'russian.': 1, 'log': 1, 'breathe': 1, 'smh.': 1, 'wet,': 1, \"ronnie's\": 1, 'buzz': 1, 'depends,': 1, 'crybaby.': 1, 'times.': 1, 'backed': 1, 'afucking': 1, '2007.': 1, 'price': 1, 'afford': 1, 'opposition': 1, 'moronic,': 1, 'serving,': 1, 'egotistical,': 1, 'selfish,': 1, 'bullying,': 1, 'like,': 1, 'deceitful': 1, 'mother.\\\\n\\\\nyou': 1, 'way??!!!!': 1, 'tricks?': 1, 'blackmail': 1, '\\\\n\\\\nfuck!': 1, 'nooooooooooooooooooooooo!!!!!!!!!!!!!!!!!!!!': 1, 'pawb.': 1, 'lebron': 1, 'lsoing': 1, 'ad': 1, 'sodomize': 1, 'will?\\\\xa0': 1, 'ticket': 1, 'annabelle.': 1, 'dumb/retarded': 1, '1)': 1, '2)': 1, 'seau': 1, 'pats': 1, 'teams.': 1, 'bs.': 1, 'lowe': 1, 'prick.': 1, 'criticism?': 1, 'statement\\\\xa0': 1, 'idiot?\\\\xa0': 1, 'eloquent': 1, 'wings': 1, 'flies': 1, 'to\\\\xa0while': 1, 'away.......': 1, 'relevancy': 1, 'schimidt,': 1, 'thankfully,': 1, 'impact': 1, 'meaningless.': 1, 'accomplish': 1, 'phat,': 1, 'brown,': 1, 'stoopid': 1, 'uglyandpoor.': 1, 'own,': 1, 'context.': 1, 'storobin': 1, 'you\\\\xa0stole': 1, 'damned': 1, 'election.\\\\xa0': 1, 'neighborhood.\\\\xa0': 1, 'wherever': 1, 'trolls.': 1, 'thought.': 1, 'oaxaca': 1, 'relatively': 1, 'safe,': 1, \"ya'll\": 1, 'heads': 1, 'violence': 1, 'borderstates': 1, 'mexico.': 1, 'chain': 1, 'latters': 1, 'o.o?': 1, 'grace': 1, 'ghost\\\\\\\\\\\\\\\\nme:*claps*': 1, 'coolest': 1, 'ever?': 1, 'oxygen': 1, 'resources.': 1, 'remington': 1, 'winchester': 1, 'china.\\\\xa0': 1, 'swear,\\\\xa0elitist': 1, 'assclowns': 1, 'embarrassment.': 1, 'op': 1, 'diagnose': 1, 'aspergers,': 1, 'self-diagnosis': 1, 'leading': 1, 'stupidly': 1, 'disorder/disease\\\\xa0that': 1, 'actuality,': 1, \"don't.\": 1, 'faced': 1, 'played': 1, 'crappy': 1, 'world-': 1, 'feed': 1, 'population': 1, 'theor': 1, 'ethics-': 1, 'andignorant': 1, 'turd,': 1, 'bred': 1, 'him...': 1, 'krystal:': 1, 'normal': 1, 'thinking..': 1, 'fhuck': 1, 'howre': 1, 'huck,': 1, 'no...': 1, 'the_crap': 1, 'ok!!': 1, 'michigan': 1, 'primaries.': 1, 'ms': 1, 'jenkums': 1, 'at\\\\xa0the': 1, 'corner': 1, 'top\\\\xa0and': 1, 'x,': 1, 'return\\\\xa0again': 1, 'pls.....you': 1, 'dumb......click\\\\xa0it\\\\xa0now....and': 1, 'hear....': 1, 'wanker': 1, 'approve': 1, 'inflammatory': 1, 'blatant': 1, 'bigotry.': 1, 'dickwrinkles': 1, 'pussy?': 1, 'posts...people': 1, 'wished': 1, \"so...i've\": 1, 'fuckhead.that': 1, '60s,': 1, 'dating': 1, 'age.': 1, 'weird': 1, 'chicks.': 1, 'rethink': 1, 'boner': 1, 'forward.plus,': 1, 'line': 1, 'clarification,': 1, 'slop.': 1, 'headed\\\\\\\\xc2\\\\\\\\xa0': 1, 'vid': 1, 'info': 1, 'numbers': 1, 'look..i': 1, 'snitch': 1, 'goin': 1, 'me..i': 1, 'upp': 1, 'fallen': 1, 'angel': 1, 'humans': 1, 'angels': 1, 'angelic.': 1, 'hybrid.': 1, 'interpretation.': 1, '\\\\n\\\\nit': 1, 'pit': 1, 'owners': 1, 'xenophobic': 1, 'fred': 1, 'teet': 1, \"loser's\": 1, 'flags': 1, 'loses': 1, 'nic': 1, 'automatically.': 1, 'arrogate': 1, 'avenge?': 1, 'double-speaking?': 1, 'powers': 1, 'owner,': 1, 'allow': 1, 'himself?': 1, 'capable?': 1, 'you;': 1, 'death.': 1, 'killed;': 1, 'lord': 1, 'warned': 1, 'sects': 1, 'encouraged': 1, 'that:': 1, 'souls': 1, 'ultimately': 1, 'god;': 1, 'can,': 1, 'lord!': 1, 'respond': 1, 'listen.\\\\xa0': 1, 'feces.\\\\xa0': 1, 'you\\\\nget': 1, 'fatal': 1, 'soon....': 1, 'apparently,': 1, 'officiating': 1, 'confirming': 1, 'tits': 1, 'bro?': 1, 'concerned,': 1, 'liberal.': 1, 'posing': 1, 'screwed': 1, 'exaggeration': 1, 'understand?': 1, 'klein,': 1, 'mock': 1, '\\\\n\\\\nbest': 1, 'belittling': 1, 'scheartz.': 1, 'straw': 1, 'downward': 1, 'career.': 1, 'sudden': 1, 'changed': 1, 'loafers....mufucker': 1, 'basic': 1, 'biology.': 1, 'please...you': 1, ':p': 1, 'exist': 1, 'rotten': 1, 'yo\\\\xa0@lukeemery:disqus\\\\xa0you': 1, 'grand': 1, 'jury': 1, '\\\\xa0plus': 1, 'testify': 1, 'mexican?': 1, '\\\\xa0go': 1, 'what.': 1, 'hush': 1, 'word,\\\\nmama': 1, 'yawz': 1, 'thunderbird.': 1, 'corny': 1, 'h': 1, 'what.....?': 1, 'pure?': 1, 'addict': 1, 'bless': 1, 'bama,': 1, 'referring': 1, 'below...': 1, 'actually,': 1, 'source,': 1, 'recent': 1, 'data': 1, 'shipments,': 1, 'relevant,': 1, 'dominant,': 1, 'goodness': 1, 'sake.': 1, 'dumb...': 1, 'chose': 1, 'satisfy': 1, 'overgrown': 1, 'ego....': 1, 'comment?': 1, 'alright....\\\\nwell': 1, 'victim': 1, 'know...\\\\ni': 1, 'balli': 1, 'arrested....\\\\ndid': 1, 'poles': 1, 'ukranians': 1, 'bigots.....\\\\nracists': 1, 'place;': 1, 'do.....in': 1, 'gutter....\\\\nand': 1, 'forefront....if': 1, 'swastikas': 1, 'players;': 1, 'note': 1, 'immediately.....': 1, 'you\\\\\\\\xc2\\\\\\\\xa0sit': 1, 'fuccck': 1, 'uuuup': 1, 'retard???': 1, 'violently': 1, 'headed': 1, 'hole?!!!!!!!!!': 1, 'evel': 1, 'creepy': 1, 'rogers': 1, 'alike': 1, 'plus': 1, 'whined': 1, 'janelle': 1, 'destroyed': 1, 'otev': 1, 'pov': 1, 'comp': 1, '@berethor099': 1, 'ahead.': 1, 'rob,': 1, 'already.': 1, 'understood': 1, 'antisemit.': 1, 'relax': 1, 'honor': 1, 'zionist.': 1, 'garbage,': 1, 'sgboy,get': 1, 'cot,i': 1, 'fly': 1, 'gay_pusssy...fly': 1, 'but\\\\xa0': 1, 'commenter?\\\\xa0': 1, 'childish.\\\\xa0': 1, 'man.\\\\xa0': 1, 'remarks': 1, 'adult.': 1, 'clubhouse': 1, 'whore...': 1, 'testament': 1, 'dads': 1, 'slut,': 1, 'u.': 1, 'trollin': 1, 'made.': 1, 'b4': 1, 'ihurt': 1, 'feelins': 1, 'ho': 1, 'tik': 1, 'colour': 1, 'rapists': 1, 'children?': 1, 'so.': 1, 's.o.b.': 1, 'ends': 1, 'safety': 1, 'begins.': 1, \"rat's\": 1, 'arse': 1, 'hunt,': 1, 'bullets': 1, 'sheffield': 1, 'sprawling': 1, 'hunting': 1, 'paradise': 1, 'fulfill': 1, 'desires.': 1, 'goes,': 1, 'tyhe': 1, 'over.': 1, 'change.': 1, 'out!': 1, \"whatisbannedisneversuppressed,\\\\n\\\\nyou're\": 1, 'yourself.\\\\n\\\\nmuch': 1, 'graft': 1, 'dream.\\\\n\\\\nnever': 1, 'big,': 1, 'big.': 1, 'benefits': 1, 'all.\\\\n\\\\nyour': 1, 'core.': 1, 'birth': 1, 'reasons': 1, 'besides': 1, 'preventing': 1, 'pregnancy?': 1, 'educate': 1, 'yourself,fool.': 1, 'fighter': 1, 'lover,and': 1, 're-read': 1, 'bullpen': 1, 'baseball!': 1, 'musty': 1, 'havin': 1, 'rican!': 1, 'wetback!': 1, 'pale': 1, 'wannabe': 1, 'spics': 1, 'postin': 1, 'bs': 1, 'disliked': 1, 'america!!!': 1, 'response.': 1, 'repeat': 1, 'crimes': 1, 'commited?': 1, 'angry': 1, 'yankee': 1, 'know-it-alls,who': 1, 'everything,': 1, 'southerners': 1, 'ruining': 1, 'culture': 1, 'although,': 1, 'life,you': 1, 'sadly': 1, 'boards.': 1, 'and...fucked..up': 1, 'page.': 1, 'thorough': 1, 'off!': 1, '@pickle\\\\n\\\\nyou': 1, 'brian': 1, \"scalabrine's\": 1, 'brother....': 1, 'thoughts?': 1, 'because...': 1, 'passes': 1, 'meantime,': 1, 'information.': 1, 'idiot.......why': 1, 'bother..??.wasted': 1, 'forwarded': 1, 'fbi': 1, 'busy.\\\\\\\\xc2\\\\\\\\xa0': 1, 'uuu': 1, '\\\\xa0k.': 1, 'did.': 1, 'true.\\\\ngo': 1, 'embarassment': 1, 'klan': 1, 'brothers,': 1, 'neighbors,': 1, 'teachers': 1, 'whole.\\\\nfind': 1, 'directly': 1, 'quoting': 1, 'stalinist': 1, 'propaganda.': 1, '\\\\nthe': 1, 'web.': 1, 'oberbite,': 1, 'soros': 1, 'trool': 1, 'heap': 1, 'wwrote': 1, 'exhale': 1, 'planted': 1, 'extra': 1, 'media': 1, '..............................................bloody': 1, '............ranbir': 1, 'kapoor.': 1, 'dumb?': 1, 'delaying': 1, 'due': 1, 'production': 1, 'to\\\\xa0avoid': 1, 'competition': 1, 'groups.': 1, 'thankful': 1, 'cameback': 1, 'june,': 1, 'did,': 1, 'awards': 1, '2ne1.': 1, '\\\\xa0fuckin': 1, 'insicured': 1, 'fx': 1, 'it!': 1, 'wth': 1, 'africans': 1, 'lesser': 1, 'something??': 1, 'odumbo': 1, \"lying,inept,loser,communist,ni66er,what's\": 1, 'dummies': 1, 'anything!': 1, 'uneducated': 1, 'me!!!!': 1, 'answer:': 1, 'no.': 1, 'meh.': 1, 'nope.': 1, 'wear': 1, 'impaired': 1, 'ability': 1, 'vulgarity': 1, 'attached': 1, 'teen;': 1, 'muscles.': 1, 'too,': 1, 'nick-name.': 1, 'disgusting;': 1, 'patriotic': 1, 'conservative.': 1, 'strike': 1, 'buffoon?': 1, 'dumba<m>ss': 1, 'b<m>itch': 1, 'brown': 1, 'water': 1, 'special.': 1, \"mother's\": 1, 'colon': 1, 'cowboy.': 1, \"boyfriend's\": 1, 'filthy,': 1, 'dirty,': 1, 'hair,': 1, 'bacteria': 1, 'infested': 1, 'ock': 1, 'perverts.': 1, 'wanting': 1, 'soviet': 1, 'bloc': 1, 'affect': 1, 'fucktard.': 1, '\\\\xa0not': 1, '(or': 1, 'wrong),': 1, 'randomly': 1, 'compares': 1, 'rap': 1, \"dude's\": 1, 'mama.': 1, '\\\\xa0wtf': 1, 'hammerdance': 1, 'song?': 1, 'lenin': 1, 'much,': 1, 'practiced': 1, 'will,': 1, 'turns': 1, 'furthers': 1, 'lies.': 1, 'potus': 1, 'accidentally': 1, 'molest': 1, 'someone?\\\\nare': 1, 'retarded,or': 1, 'happen': 1, 'too.\\\\xa0': 1, 'fishing': 1, 'knocked': 1, 'mom.\\\\xa0': 1, 'you.\\\\xa0': 1, 'comments.\\\\xa0': 1, 'neckbones': 1, 'rice.\\\\xa0': 1, 'is\\\\xa0one': 1, 'to\\\\xa0': 1, 'cesspool': 1, 'over.\\\\xa0': 1, 'what?\\\\xa0': 1, 'banged': 1, 'a\\\\xa0black': 1, 'chick': 1, 'you\\\\xa0that': 1, 'measure': 1, 'up\\\\xa0and': 1, 'laughed': 1, 'bed.\\\\xa0': 1, 'problem?': 1, 'hater..plian': 1, 'simple....': 1, 'diot': 1, 'waist': 1, 'eww': 1, 'bb': 1, 'kpop': 1, 'wonderfully': 1, 'articles': 1, 'f(x)': 1, 'alone.': 1, 'count': 1, 'muahahaha.': 1, 'fifth': 1, 'grad': 1, 'time.\\\\xa0': 1, 'yerpathetic': 1, '0': 1, 'to\\\\xa0design4u1': 1, '\\\\n\\\\n': 1, '\\\\xa0lol!!\\\\n\\\\nyou': 1, 'idiot.\\\\n\\\\nbut': 1, 'worry.\\\\n\\\\namerica': 1, 'allows': 1, '\\\\n\\\\n=======================\\\\n\\\\n\\\\xa0you': 1, 'canadians': 1, 'answer': 1, 'question': 1, 'why?': 1, 'united.\\\\n\\\\nonly': 1, 'muppets': 1, 'football.': 1, 'qualifying,': 1, 'dross': 1, '100': 1, 'odd': 1, 'that.\\\\n\\\\nso': 1, 'thickos': 1, 'list.': 1, 'vicky<2.': 1, 'roll': 1, 'puberty?': 1, 'ha!': 1, '\\\\xa0just': 1, 'behaved': 1, 'puberty': 1, '\\\\xa0nancy': 1, 'gore': 1, 'advertising': 1, 'transexuality': 1, 'wide': 1, 'web': 1, 'muzzies': 1, \"friggin'\": 1, 'babies.': 1, 'crawled': 1, 'of,': 1, 'homicidal': 1, 'worldstar\\\\xa0frustrated\\\\xa0with': 1, 'jonx,\\\\nyou': 1, 'crazy,': 1, 'bone.': 1, 'rubio': 1, 'punish': 1, 'anglo': 1, 'racists.': 1, 'good.\\\\xa0': 1, 'fools,': 1, 'fools.': 1, 'heart.': 1, 'vicky<2...': 1, 'mediamatters,': 1, 'troll.\\\\n\\\\nyou': 1, 'buddies': 1, 'toast.': 1, 'terrorists': 1, 'affirming': 1, 'inner-psych': 1, '(opath)': 1, '(mentally)': 1, 'transgender;': 1, 'myriad': 1, '(like': 1, 'contributing': 1, 'too.)': 1, 'stalking': 1, 'bitch;': 1, 'daddy.': 1, 'tamrabam.': 1, 'labour.': 1, 'gob.': 1, '\\\\xa0maggie': 1, 'uncertain': 1, 'terms,': 1, 'current': 1, 'whatsoever.': 1, 'key': 1, 'husband': 1, 'barbed': 1, 'wire': 1, 'covered': 1, 'glory': 1, '53': 1, 'moldy': 1, 'problems': 1, 'brownie': 1, 'diet.': 1, 'teased': 1, 'tubby.': 1, 'thermometer': 1, 'determine': 1, 'temperature': 1, 'compare': 1, 'tropical': 1, 'climate': 1, 'florida.': 1, 'function': 1, 'life?': 1, 'dont.': 1, 'marriage.': 1, 'guarantee': 1, 'darling': 1, 'sam': 1, 'pirate': 1, 'then?': 1, 'head?': 1, 'him!': 1, 'a......liberal!': 1, 'gasp!': 1, 'nos!': 1, 'fatty,': 1, 'sammy': 1, 'hippie!': 1, 'mothering': 1, 'route.': 1, 'suggest': 1, 'pamper': 1, 'birther': 1, 'claims,': 1, 'one?\\\\n\\\\nyou': 1, 'kenya': 1, 'dickhead': 1, 'bother.': 1, 'balls.': 1, 'cheap\\\\xa0pathetic': 1, 'references': 1, 'germany,': 1, 'a-hole!': 1, 'hanni.': 1, 'parroting': 1, 'lieu': 1, 'disgrace.': 1, 'existing.': 1, 'situation': 1, 'congratufuckinglations.': 1, 'doouchebag': 1, 'emo': 1, 'earn': 1, 'dig': 1, 'valid': 1, 'bringing': 1, 'obvious?': 1, 'gane': 1, 'wow!': 1, 'literate': 1, 'einstien': 1, 'we???': 1, 'dush': 1, 'grammar!!!': 1, 'stayed': 1, 'chk.': 1, 'booze': 1, 'crack???': 1, 'greatness': 1, 'mouth?': 1, 'leaf': 1, 'said.\\\\xa0': 1, 'tomorrow': 1, 'them.\\\\xa0': 1, 'pre-school': 1, 'up.\\\\xa0': 1, 'a-hole.\\\\xa0': 1, 'shallow': 1, 'kudos': 1, 'defy': 1, 'low.': 1, 'muthafucka': 1, 'gusto!\\\\ni': 1, 'ho!i': 1, 'cat!i': 1, 'woulda': 1, 'fat!\\\\n\\\\nthat': 1, 'funnier': 1, \"_fuck_off_nigger_you're_not-american_you_pos-faggot!\": 1, 'terry': 1, 'krepel': 1, 'name.\\\\xa0': 1, 'number.\\\\xa0': 1, \"attention...don't\": 1, 'p*ssy!': 1, 'nayar': 1, 'fucker.': 1, 'shri': 1, 'harmandir': 1, 'sahib': 1, 'action,': 1, 'negative': 1, 'community.': 1, 'siks': 1, 'building': 1, 'memorial': 1, 'organisation': 1, 'oppose.': 1, 'concern': 1, 'punjab.': 1, 'wording': 1, 'community,,,,,,you': 1, 'barking': 1, 'dog,,,we': 1, 'chris,': 1, 'catch': 1, 'cook.': 1, 'usual.': 1, 'sticking': 1, 'business??': 1, 'laid': 1, '@teeboowa\\\\n\\\\xa0hah': 1, \"your'e\": 1, '14?': 1, 'fpff': 1, 'waay': 1, 'fug?': 1, 'eyeball': 1, 'fuckya': 1, 'yeah.': 1, 'assisted.': 1, 'phuuking': 1, 'dyke....aint': 1, 'beotch': 1, 'dealing': 1, 'with\\\\xa0': 1, 'up.\\\\n\\\\nthis': 1, 'screen,': 1, \"time.\\\\n\\\\nit's\": 1, 'liar,': 1, 'steve,go': 1, 'brush': 1, 'revolver': 1, 'stupidest': 1, '\\\\\\\\xc2\\\\\\\\xa0we': 1, 'rest,': 1, 'rephrase:\\\\n\\\\nin': 1, 'yours,': 1, 's..t..f..u..': 1, 'stupidity,': 1, 'riddance!': 1, 'filipinos': 1, 'associated': 1, 'superpowers.': 1, '?\\\\xa0check': 1, \"idiot.\\\\xa0i'd\": 1, 'selves': 1, 'planet.\\\\xa0such': 1, 'guy.\\\\xa0and': 1, 'trashy': 1, 'hook': 1, 'er': 1, 'identification,': 1, 'fool,': 1, 'kindly': 1, 'moveon.org': 1, 'cluttering': 1, 'post?': 1, 'that\\\\xa0first': 1, 'wrote\\\\xa0again': 1, 'slowly.': 1, 'bending': 1, 'make\\\\xa0an': 1, 'illogical\\\\xa0point.': 1, 'ignorance.': 1, 'dork.': 1, 'psychopaths.': 1, 'flash,': 1, 'unnatural.': 1, 'construct': 1, 'beings': 1, 'stepped': 1, 'part.': 1, 'construction,': 1, 'vehicles,': 1, 'technology..': 1, 'unnatural': 1, 'it.\\\\n\\\\nnow,': 1, 'pairing': 1, 'sure..': 1, 'property': 1, 'humans.': 1, 'groups': 1, 'natural': 1, 'hetero': 1, 'marriage.\\\\n\\\\nyou': 1, 'reasonable': 1, 'leg': 1, 'on..': 1, 'invisible': 1, 'sky': 1, 'fairy': 1, 'cave': 1, 'dweller': 1, 'spewed': 1, '1800': 1, 'ago.': 1, 'enlightenment,': 1, 'chavez': 1, 'plate,': 1, 'automatic': 1, 'late-inning': 1, 'defensive': 1, 'replacement.': 1, 'f#cking': 1, 'pearce,': 1, 'betemit,': 1, 'flaherty,': 1, 'andino': 1, '(once': 1, 'brob': 1, 'back)': 1, 'outfield': 1, 'reimold': 1, 'markakis': 1, \"anyone's\": 1, 'all-star': 1, 'team,': 1, 'babe': 1, 'ruth': 1, 'chavez.': 1, 'chrissakes.': 1, 'appalling.': 1, 'joe': 1, 'fuckk': 1, 'slutbag.': 1, 'chubby': 1, 'cheeked': 1, 'hungry.': 1, 'food!': 1, 'require': 1, 'helathy': 1, 'adults,': 1, 'fed': 1, \"hoho\\\\\\\\'s\": 1, 'twinkies.': 1, \"that\\\\\\\\'s\": 1, 'twinkie!': 1, \"momma\\\\\\\\'s\": 1, 'munchies!': 1, 'whack': 1, 'hammer.': 1, 'slowly': 1, 'written.': 1, 'sense.': 1, 'gangsta': 1, 'f*ck': 1, '<': 1, 'time.\\\\n\\\\nfor': 1, 'instance;': 1, 'denial': 1, 'warm': 1, 'river': 1, 'leg.\\\\n\\\\ndid': 1, 'pee': 1, 'down...': 1, 'again?\\\\n\\\\n(for': 1, 'audience,': 1, 'implying': 1, 'hanniturd': 1, '(yes': 1, 'hanniturd,': 1, 'audience': 1, 'you))': 1, 'thankyou': 1, 'eps\\\\nyour': 1, 'ricdose': 1, 'tom,': 1, 'whitmenitis,': 1, 'aka,': 1, 'mediocre': 1, 'achievements.': 1, 'offer.': 1, 'crapping': 1, 'unperfection': 1, 'bully!': 1, 'mistakes?': 1, 'plug': 1, 'mouth.....': 1, 'estkill16,': 1, 'roasted': 1, 'already,': 1, 'bios,': 1, 'detroit': 1, 'mouth....': 1, 'asad,': 1, '\\\\xa0man': 1, 'ewww...100': 1, 'murdering': 1, 'bum!': 1, 'deported!': 1, 'intimidation': 1, 'attempt': 1, '@ss,': 1, 'tho': 1, 'ape': 1, 'read,': 1, 'thru': 1, 'amazing': 1, 'songs,': 1, 'sensitive': 1, 'pussies': 1, 'fuking': 1, '@justin_mia': 1, 'perkins': 1, 'knucklehead': 1, 'experience': 1, 'absurdly': 1, 'feel.': 1, 'rick': 1, 'slaps': 1, 'fuckdamn': 1, 'walk': 1, 'throat.\\\\\\\\xc2\\\\\\\\xa0': 1, 'ones.\\\\n\\\\nhere,': 1, 'you...': 1, 'inflated': 1, 'catheter': 1, 'permanent': 1, 'injury.': 1, \".\\\\n\\\\nhe's\": 1, 'man.\\\\n\\\\nand': 1, 'local': 1, 'store': 1, 'currently': 1, 'working.': 1, 'yt,': 1, 'du': 1, 'mb': 1, 'ph': 1, 'libturdz': 1, 'teaa': 1, 'smokiung': 1, 'crack,': 1, '8ss-hole!': 1, 'kidding': 1, 'cutest': 1, 'gop': 1, 'forum.': 1, 'schooling': 1, 'ecot': 1, 'senior': 1, 'reject!!!!': 1, 'rejects': 1, 'either!!!!': 1, 'grades': 1, 'public': 1, 'juice': 1, 'box': 1, 'i-think-i-know-it-all!!!!!': 1, 'yr': 1, 'father!': 1, 'really.': 1, 'homework,': 1, 'postal,': 1, 'hatched': 1, 'as\\\\xa0gay': 1, 'bill.': 1, 'gone.': 1, 'lib': 1, 'itur': 1, 'ds': 1, 'tter': 1, 'ba': 1, 'ry': 1, 'to???': 1, 'ummer': 1, 'hol': 1, 'e.': 1, 'ey': 1, 'ebos!\\\\n': 1, 'deymonds': 1, 'betta': 1, 'mothafucka!': 1, \"'approved\": 1, \"of'\": 1, \"'pretty\": 1, \"enough'\": 1, 'beautiful.': 1, 'stereotype': 1, 'criminals': 1, 'slutty.': 1, 'ideals,': 1, 'ass\\\\xa0ignorant\\\\xa0racist': 1, \"'michelle\": 1, \"material'\": 1, 'please.': 1, 'pathetic.\\\\\\\\xc2\\\\\\\\xa0': 1, 'cocksucking': 1, 'boot.': 1, 'yep,': 1, 'darky.': 1, 'west': 1, 'boston..': 1, 'rat': 1, 'worcester': 1, 'pd..': 1, 'suck,,': 1, 'slang': 1, 'worcester.': 1, 'theater': 1, 'cum': 1, 'beard..': 1, 'midget.': 1, 'busted': 1, 'kiddieporn?': 1, '<i>[juries': 1, 'community': 1, '\\\\nstudents': 1, 'amendment': 1, '\\\\nspeech': 1, 'assembly.]</i>\\\\n\\\\nexcept': 1, 'shit-stirring': 1, 'fruit-loop.': 1, 'mention': 1, 'juries': 1, 'civic': 1, 'legal': 1, 'process,': 1, 'sympathetic': 1, 'assholes': 1, 'engage': 1, 'confrontations.': 1, 'pest': 1, 'job?': 1, 'nevada,': 1, 'suck!': 1, 'personified...': 1, 'jews': 1, 'years.': 1, 'banning': 1, 'detriment': 1, 'nazis': 1, 'today.&nbsp;': 1, 'narrow': 1, 'suited': 1, 'phones.': 1, 'phone.': 1, 'sure,': 1, 'was.': 1, 'hawkins': 1, 'allowed': 1, 'continually': 1, 'pedophiles': 1, 'email': 1, 'like.': 1, 'deny': 1, 'stupida$$': 1, 'comment....you': 1, 'dumbfuck......try': 1, 'first!\\\\xa0': 1, 'over-weight.': 1, 'dull,': 1, 'unimaginative,': 1, 'unsupported,': 1, 'jaded,': 1, 'homophobic.\\\\xa0': 1, 'essentially': 1, 'being.\\\\xa0': 1, 'crapkiller': 1, 'sitm,': 1, 'pitiful': 1, 'nonetheless.': 1, 'purple?': 1, 'green?': 1, '.who': 1, 'the.beastiality': 1, 'whore.\\\\xa0\\\\n\\\\nlighten': 1, 'comedy!!': 1, '\\\\xa0bwaaaaaaaaaaaaaaaaaahh!!': 1, 'movin': 1, 'jumping': 1, '<b>after</b>': 1, 'niners': 1, 'adolf?': 1, 'sunmedia': 1, 'spitting': 1, 'venom,': 1, 'reverse.': 1, 'them!': 1, 'hmm.': 1, 'rumored': 1, 'fkucing': 1, 'aw,': 1, 'vicky<2,': 1, 'detect...': 1, 'tongue': 1, 'immense': 1, 'ego.': 1, 'recognized': 1, 'important.': 1, 'obscure': 1, 'rtfa.': 1, 'complaining': 1, 'advice': 1, 'vent': 1, 'frustration': 1, 'i\\\\\\\\xc2\\\\\\\\xa0cum': 1, 'freaakin': 1, 'fuuk.\\\\nby': 1, 'women.\\\\nbut': 1, 'tried': 1, 'clinging': 1, 'judgement.': 1, 'judge': 1, 'lest': 1, 'judged.': 1, 'drago,': 1, \"usher's\": 1, 'album?': 1, 'then.': 1, \"artist's\": 1, 'memo?': 1, 'sorry\\\\n\\\\nyou': 1, 'moron!!!!': 1, 'foolish': 1, 'rube.': 1, 'blew': 1, '$4': 1, 'trillion': 1, 'marriage???': 1, 'visiting': 1, \"dad's\": 1, 'fiance,\\\\xa0': 1, 'geeez': 1, 'baby\\\\n\\\\ni': 1, 'jealous': 1, 'spent': 1, 'spring': 1, 'rednecks': 1, 'choosing': 1, 'choke': 1, 'corndog,': 1, 'you...you': 1, 'judged': 1, 'black...then': 1, 'yeah,i': 1, 'hillbilly.': 1, 'woowww,': 1, 'idiot...': 1, 'school...': 1, 'bad...': 1, 'sex.': 1, 'freaks!': 1, 'pecker': 1, 'lol..when': 1, 'homies': 1, '...i': 1, 'invite': 1, 'bitchs': 1, '...your': 1, 'nut...your': 1, 'nut...': 1, 'moma': 1, 'dick...': 1, \"\\\\\\\\nit's\": 1, 'party...': 1, '\\\\\\\\xf0\\\\\\\\x9f\\\\\\\\x91\\\\\\\\x99': 1, 'party...\\\\\\\\xf0\\\\\\\\x9f\\\\\\\\x8d\\\\\\\\xbb': 1, 'coming...': 1, 'bitchs..\\\\\\\\xe2\\\\\\\\x9c\\\\\\\\x8c\\\\\\\\xf0\\\\\\\\x9f\\\\\\\\x94\\\\\\\\xab': 1, 'fuck...': 1, 'tampon': 1, 'maggot!': 1, 'silver': 1, 'spoon': 1, 'asshole,': 1, 'david': 1, 'mccullough,': 1, 'jr.': 1, 'speech.': 1, 'ass?': 1, 'graduated': 1, 'pushed': 1, 'ever.': 1, 'hoo,': 1, 'watched': 1, 'reality,': 1, 'speech': 1, 'spoke': 1, 'honestly': 1, 'tries': 1, 'occupy': 1, 'movement': 1, 'bad...are': 1, 'agent': 1, 'provocateur?': 1, 'hippie,': 1, 'insult': 1, 'puberty.': 1, 'murder': 1, 'mouthy': 1, 'kitchen': 1, 'sandwhich': 1, 'now!!': 1, 'motherfuckers.': 1, 'hollywood,': 1, 'blow.': 1, 'senator': 1, 'bryd\\\\xa0': 1, 'democrat\\\\n\\\\nsaul': 1, 'alinsky': 1, 'aka': 1, 'libtards\\\\xa0': 1, 'dopey.': 1, 'kaden?': 1, 'poor,': 1, 'hopeless': 1, 'moron...you': 1, 'shit?\\\\nmust': 1, 'fuc<m>kers': 1, 'too_stupid': 1, 'breathe!': 1, 'bristol....just': 1, 'ideologies': 1, 'cross': 1, 'paths': 1, 'reality.\\\\xa0': 1, 'commenter,': 1, 'loser!': 1, 'bitch-nigga.': 1, 'idiots,,,what': 1, 'foreheads': 1, 'rent.': 1, 'afterwards.\\\\n\\\\ninstead,': 1, 'sarcastic': 1, 'fruity': 1, 'umbrella': 1, '@ssho': 1, 'le': 1, 'pretender': 1, 'interesting': 1, '\\\\xa0move': 1, 'teresa,': 1, 'heckle': 1, '&amp;': 1, 'jive': 1, '??': 1, 'sooo': 1, 'uneducated,': 1, 'skanky,': 1, 'nasty,': 1, 'desperate,': 1, 'fake,': 1, 'lier': 1, 'despise': 1, 'expose': 1, 'mother,': 1, 'lousy': 1, 'friend,': 1, 'absolute': 1, 'ever.you': 1, 'joe,': 1, 'jacqueline,': 1, 'caroline,': 1, 'cousin': 1, 'kathy': 1, 'family!': 1, 'bearing.': 1, 'repeating': 1, 'convince': 1, 'mandate': 1, 'make.\\\\n\\\\n90%': 1, 'genes': 1, 'shared': 1, 'banana.\\\\xa0': 1, 'sooner': 1, 'knife': 1, 'slowly..': 1, 'way..': 1, 'romney!': 1, 'hell..': 1, 'sons': 1, 'him..': 1, 'to\\\\xa0specify\\\\xa0against': 1, 'manber': 1, 'rapper?': 1, 'generalize': 1, 'race?': 1, 'happen?': 1, 'thnk': 1, 'means,': 1, 'wouldnt': 1, 'presume': 1, 'label': 1, 'analysis': 1, 'exceptionally': 1, 'grounded': 1, 'fact-challenged': 1, 'star-spangled': 1, 'retardation-': 1, 'voluntary': 1, 'nature.': 1, '..........once': 1, 'shadow': 1, 'fraud...........that': 1, 'bc': 1, 'forgery': 1, '!!!!!!!!!!!!!!!your': 1, 'anti-american': 1, 'fraud..............and': 1, '!!!!!!!!!!!!!!!!you': 1, 'phukin': 1, '!!!!!!!!!!!!!!!!': 1, 'economy': 1, 'failing.': 1, 'traitor\\\\xa0or': 1, 'skinned\\\\xa0degenerate;': 1, 'call.\\\\n\\\\nmongoloid.': 1, '6.5': 1, 'inch': 1, \"barrel..i'll\": 1, 'climax': 1, 'has.': 1, 'damn-near': 1, 'mind!': 1, 'dislikes.': 1, \"look's\": 1, 'ign(orant)': 1, 'retarded?\\\\n\\\\ntroll': 1, 'jeezus...do': 1, 'criticizing': 1, 'firms': 1, 'expression.': 1, 'fits': 1, '01': 1, 'a.d.': 1, '..........either': 1, '....duh!!!!\\\\n\\\\nplease': 1, 'thry': 1, 'post.......': 1, 'buckwheat': 1, 'qualify': 1, 'fagg0t': 1, \"\\\\\\\\xc2\\\\\\\\xa0you'll\": 1, 'republicans/plutocrats': 1, 'by-and-large': 1, 'hold': 1, 'behavior.\\\\\\\\n\\\\\\\\nin': 1, 'vernacular': 1, 'slime': 1, 'thatdick': 1, 'article,': 1, 'putz.': 1, 'existence': 1, 'offends': 1, 'wingnuts': 1, 'place!': 1, '\\\\xa0like': 1, 'susan!': 1, '@hoss': 1, '\\\\xa0\\\\xa0@jenbroflovski\\\\xa0fuck': 1, 'john': 1, 'mclain.\\\\n\\\\xa0\\\\nthe': 1, 'incompetent': 1, 'leeches': 1, 'drain': 1, 'country.': 1, 'cord,': 1, 'comically': 1, 'depressing': 1, 'fool.\\\\xa0': 1, 'liar': 1, 'coward.\\\\xa0': 1, 'cheers!': 1, 'tennis': 1, 'elbow': 1, 'jacking': 1, 'bitch,be': 1, 'quiet.': 1, \"talkin'\": 1, 'shit,hoe.': 1, 'according': 1, 'sa': 1, 'constitution,': 1, 'cows.': 1, '@caljb7': 1, 'aac': 1, 'armpits': 1, 'nails': 1, 'smearedsxhit,': 1, 'phrase': 1, 'mean?\\\\xa0': 1, '(after': 1, 'all)': 1, \"'stupid\": 1, 'teabagger,': 1, 'corn': 1, 'filled': 1, 'obamaballsniffer,': 1, 'this:\\\\n\\\\n': 1, '....i': 1, 'weeks.\\\\nthen': 1, 'stormfront': 1, 'baggers.': 1, '\\\\n\\\\nwhat': 1, \"'stormfront?'\\\\xa0\": 1, \"'berthole'\": 1, 'he/she/it': 1, 'lurking': 1, 'thread.\\\\xa0': 1, 'berthole,': 1, 'lindie': 1, 'smellyterd!!!\\\\xa0': 1, 'rolled': 1, 'pieceofppppoop?': 1, 'sound?': 1, 'substantiate': 1, 'slur....or': 1, \"bi-sek'sual\": 1, 'wh?\\\\xa0': 1, 'larry': 1, 'sinclair': 1, \"'whispering'\": 1, 'campaign?': 1, 'wally': 1, 'bigot,': 1, 'cmorris': 1, 'faces': 1, 'south.': 1, 'wash': 1, 'sheet,': 1, 'smell.': 1, 'luck': 1, 'arrive': 1, 'resting': 1, 'spot.': 1, 'william': 1, 'reynolds': 1, 'impeach': 1, 'kiss': 1, 'hero': 1, 'bush.': 1, 'slap': 1, 'silly': 1, 'joe?\\\\xa0': 1, 'recall': 1, 'storyline': 1, 'sodomized...refresh': 1, 'memory': 1, 'please...\\\\nbut': 1, 'impregnated': 1, '16': 1, 'client...........': 1, '@enundr\\\\xa0lol.....you': 1, 'jackass.': 1, 'tears': 1, 'effect': 1, 'http://wiki.eveonline.com/en/wiki/vigilant\\\\xa0\\\\nbet': 1, 'glad': 1, 'name.': 1, '(check': 1, 'vigilant': 1, 'bonuses': 1, 'link)': 1, 'bitch!!!\\\\navande': 1, 'ammede': 1, 'oru': 1, 'lekhanam...': 1, 'denial.': 1, 'race.': 1, 'trigger.': 1, 'spamming!': 1, 'profile!!!': 1, 'holdyourown?': 1, 'cock-a-doodle': 1, 'doo,': 1, \"any-cock'll\": 1, 'dear': 1, 'pingback,': 1, 'vidya': 1, 'club': 1, 'gtfo\\\\r\\\\nthat': 1, 'oldfag,': 1, 'overused.': 1, 'caused': 1, 'bankers!!!!!': 1, 'worhless': 1, 'right;': 1, 'toothpick': 1, 'hangovers': 1, 'tailwhips...': 1, 'fuckface,': 1, 'situationally': 1, 'aware': 1, 'entirety.': 1, 'ew': 1, 'separate': 1, 'threads': 1, 'discussing': 1, 'trollness': 1, 'indian.': 1, 'jadunath,': 1, 'bana': 1, 'singh,': 1, 'karam': 1, 'sikhs': 1, 'rajputs,': 1, 'jats': 1, 'rajasthan,': 1, 'haryana': 1, 'bihar.': 1, 'jeff': 1, 'bootstraps': 1, 'fisher\\\\n\\\\n\\\\nis': 1, 'troll.\\\\n\\\\n\\\\nanyone': 1, '\\\\\\\\xc2\\\\\\\\xa0stop': 1, 'suxing': 1, 'cigarette': 1, 'dumb-ass': 1, 'globe': 1, 'hahahahahahahahahaaaaa': 1, 'intervention,': 1, 'buffoon.': 1, 'banned....you': 1, 'psycho': 1, 'lmao..': 1, 'moron....only': 1, 'kept..they': 1, 'masters..': 1, 'this.\\\\n\\\\ntravis,': 1, 'cornell,': 1, 'boyce--all': 1, 'nukkas--i': 1, 'asses': 1, 'tomorrow,': 1, 'forever.': 1, 'ndaa': 1, 'and\\\\xa0surveillance': 1, 'drones,': 1, '20,000': 1, 'the\\\\xa0next\\\\xa05': 1, 'more!\\\\xa0\\\\xa0do': 1, 'is\\\\xa0\\\\xa0launching': 1, 'drones': 1, 'us?': 1, \"don't,\": 1, 'tip': 1, 'the\\\\xa0iceberg\\\\xa0he': 1, 'deconstructing': 1, 'life!!!': 1, 'idiots!': 1, 'stupidity!': 1, 'k_k_k': 1, 'from?': 1, 'more?': 1, 'charging': 1, '200': 1, '15': 1, 'f-ing': 1, '\\\\xa0weak': 1, 'virginity': 1, 'virgin': 1, 's.': 1, 'x.': 1, 'you....': 1, '\\\\xa0maybe': 1, 'roller,': 1, 'rollers': 1, 'republicans...': 1, 'hmmmm': 1, '\\\\xa0ok': 1, 'iot.': 1, 'steve': 1, 'agism': 1, 'lives,': 1, 'range': 1, 'ignoramus.\\\\xa0\\\\xa0': 1, 'phil:': 1, 'impolite,': 1, 'f**k': 1, 'expression,': 1, 'apparent;y': 1, 'concurs': 1, 'outdated': 1, 'scummy': 1, 'notheism:\\\\xa0': 1, 'serious?': 1, 'revenge': 1, 'act.\\\\xa0': 1, 'ignorance,': 1, 'sakes,': 1, 'dictionary.': 1, 'orrible': 1, 'cretin': 1, 'hot': 1, '(cow': 1, 'rectums).': 1, 'smoking?': 1, \"_yeah_i_bet_you're_a_occupy_fucking_nigger!\": 1, 'jsmaster\\\\n\\\\ngod': 1, 'promote': 1, 'seen.....see!!!\\\\n\\\\nand': 1, 'pr!ck': 1, 'seeking': 1, 'released': 1, 'it!\\\\n\\\\nand': 1, 'fyi': 1, 'okay': 1, 'genius,': 1, 'peoples': 1, 'it\\\\n\\\\nget': 1, 'fascist': 1, 'puppet?': 1, 'samurai': 1, 'lookin': 1, 'muthafucka.': 1, 'down!!!': 1, 'wats': 1, 'urz': 1, 'jackass!!!!!!!!!!!': 1, 'listening': 1, 'chunti': 1, 'music\\\\nmy': 1, 'entrepreneurs': 1, 'millions': 1, 'year\\\\nmy': 1, 'rooms': 1, 'costs': 1, 'homes\\\\noh': 1, 'greedy,': 1, 'non-appreciative': 1, 'hos!': 1, 'ah,': 1, 'innoccent.': 1, 'programmer': 1, 'diffent': 1, 'sucker.\\\\n\\\\ndoc': 1, 'bald-headed': 1, 'freak.': 1, \"rob...you're\": 1, 'asshole...and': 1, 'libs': 1, 'pea': 1, 'brain.': 1, 'pledge': 1, 'commander': 1, 'chief.': 1, 'retired,': 1, 'military\\\\\\\\xe2\\\\\\\\x80\\\\\\\\xa6\\\\\\\\xe2\\\\\\\\x80\\\\\\\\xa6that': 1, '\\\\\\\\n\\\\\\\\n\\\\\\\\nclueless': 1, 'libtard.': 1, 'away,': 1, 'flora.': 1, '\\\\xa0take': 1, '\\\\xa0and': 1, \"then\\\\n\\\\ndon't\": 1, 'steal': 1, 'posts.\\\\n\\\\nspam': 1, 'alert': 1, 'pitiable': 1, 'fuck.\\\\n\\\\ni': 1, 'worthy': 1, 'pity.': 1, 'fuckstick.': 1, 'a\\\\xa0one': 1, '100k': 1, 'fund': 1, 'raiser': 1, 'comparing': 1, 'skipit55.......': 1, 'stupid.....\\\\xa0': 1, 'math!\\\\xa0': 1, 'yourself:': 1, 'adding': 1, 'e=mc2!!\\\\xa0\\\\xa0': 1, 'house.\\\\xa0': 1, 'scumbag!!!': 1, 'all,\\\\u2028i': 1, 'scream': 1, 'ass.\\\\nif': 1, 'p-ssy': 1, 'drip,': 1, 'fcking': 1, 'litlle': 1, 'b-tch': 1, 'kelly': 1, 'thomas.': 1, \"losers\\\\u2028.\\\\u2028i'm\": 1, 'boyle': 1, 'heights': 1, 'citizen--the': 1, 'original': 1, 'pus$y,': 1, 'breath,': 1, 'chicken': 1, 'am,': 1, 'lowlife': 1, 'sh-thole': 1, 'creep.\\\\xa0': 1, 'cooking.': 1, 'jay': 1, 'slept': 1, 'moron,&nbsp;': 1, 'poppy': 1, 'bed,': 1, '330': 1, 'morning': 1, 'licking': 1, 'postage': 1, 'stamps': 1, '3.2': 1, 'billion': 1, 'month,&nbsp;': 1, 'admit': 1, 'denying': 1, 'idiot.&nbsp;': 1, 'brilliant!': 1, 'clown\\\\\\\\n': 1, 'fuckoffashreduxagain...you': 1, 'prosecutorial': 1, 'discretion': 1, 'blanket': 1, 'amnesty': 1, 'pander': 1, 'executive': 1, 'it!!': 1, '\\\\n\\\\njamele': 1, 'hill': 1, 'hate?': 1, 'fire': 1, 'frightening': 1, 'dbags': 1, 'exist.': 1, 'rid': 1, 'piercings,': 1, 'ruined': 1, '!\\\\n\\\\nand': 1, 'tatted': 1, 'caps': 1, 'lock': 1, 'welcome': 1, 'crowd': 1, 'atm55....your': 1, 'jacker': 1, 'carnival': 1, 'ride,': 1, 'anybody': 1, 'confuses': 1, 'pullman': 1, 'paxton': 1, 'imbecile': 1, 'contempt': 1, '!!!!!!!!!!!!!!': 1, 'desperately': 1, 'information,': 1, 'interrupted\\\\xa027': 1, 'seconds': 1, 'seconds.\\\\n\\\\nyou': 1, 'irrefutably': 1, 'hows': 1, 'doing?': 1, 'nicole,': 1, 'us,': 1, 'please?': 1, 'who?': 1, 'coonass': 1, 'corny.': 1, 'bore': 1, 'dumb/have': 1, 'comics.': 1, 'guest,': 1, 'superior.': 1, 'duh.': 1, 'toad': 1, 'captain,': 1, 'head,': 1, 'cranial': 1, 'inversion': 1, 'problem,': 1, 'inserted': 1, 'cranium': 1, 'cavity': 1, 'upside': 1, 'down.\\\\\\\\n': 1, 'troll....both': 1, 'barry': 1, 'point!': 1, 'class\\\\nlisten': 1, 'serena--classless--horrible': 1, 'being\\\\nnadal': 1, 'opponent': 1, 'credit--unlike': 1, 'serena.': 1, 'heat': 1, 'haters.yall': 1, 'okc': 1, 'tooo': 1, 'winning': 1, 'wade': 1, 'county': 1, 'right-wing': 1, 'bagger': 1, 'blogger!': 1, 'distort': 1, 'blaming': 1, 'b/c': 1, 'life...': 1, 'bloated': 1, 'sack': 1, 'cow': 1, 'n.': 1, 'grrrrrrrrrrrrrrrrrrrrrrrrrrrrrrrrrrrrrrrrrrrrrrrrrrrrrrrrrrrrrrrrrrrrrrrrrrrr': 1, 'motherfuck': 1, 'need\\\\xa0': 1, 'whiz': 1, 'ryan': 1, 'small?': 1, 'invest': 1, 'extender': 1, 'warrior.': 1, 'fights': 1, 'fighters': 1, 'princes': 1, 'ride': 1, 'on\\\\\\\\xc2\\\\\\\\xa0': 1, 'fuckingterrorist': 1, 'skumbag.': 1, 'fuckingloser!': 1, 'daily': 1, 'licks': 1, 'brocks': 1, 'filthy-cock.': 1, '\\\\xa0shit': 1, 'thjat': 1, 'belive': 1, 'relate': 1, \"c'mon\": 1, 'uniformed': 1, 'lazy/maxketter.\\\\xa0': 1, 'csrs': 1, '(me': 1, 'included)': 1, '40': 1, 'quarters': 1, 'ss.\\\\xa0': 1, '40,': 1, 'continued': 1, 'month': 1, 'next\\\\xa028': 1, 'reserves': 1, 'payrolls,': 1, 'credit': 1, 'substantial': 1, 'contributions.\\\\xa0': 1, 'drain.\\\\xa0': 1, 'accurately,': 1, 'dedicated': 1, 'federal': 1, 'employees': 1, 'trough': 1, 'present': 1, '<strong><a>you': 1, 'spirited': 1, 'azzhole.': 1, 'this!!!!': 1, 'hates': 1, 'you..the': 1, 'filty-h0m0': 1, 'become....extinct.': 1, '@fuck:disqus\\\\xa0you': 1, 'cnn': 1, 'faggots.': 1, 'flaming': 1, 'gheyrooster!': 1, 'yourself.google': 1, 'decapitate?': 1, 'helmet': 1, 'ass...where': 1, 'is!': 1, 'you`re': 1, 'inspired': 1, 'chime': 1, 'in....': 1, \"wast's\": 1, 'encompassing': 1, 'government,': 1, 'digraced': 1, 'nation..': 1, 'bombard': 1, 'fraud!': 1, 'apply': 1, 'residency': 1, 'yea': 1, 'time\\\\xa0documenting\\\\xa0your': 1, 'lunacy.': 1, 'dikhead': 1, 'literally': 1, 'robot': 1, 'creation': 1, 'nightmares.': 1, 'drips': 1, 'feeding': 1, 'horror': 1, \"you.\\\\n\\\\nlet's\": 1, 'meet,': 1, 'lights': 1, 'toolbag.': 1, 'menu?': 1, 'make,': 1, 'modify': 1, 'prince': 1, 'masterpiece.': 1, 'darden': 1, 'inc.': 1, '1/8': 1, 'cooks': 1, 'entitlement.': 1, 'baboon,': 1, 'joint': 1, 'chunky': 1, 'jerk!': 1, 'salad!': 1, 'breadsticks': 1, 'o.o': 1, 'awesome!': 1, 'sick!': 1, 'pricks.': 1, 'reidtard.': 1, 'libidiot.': 1, 'victor': 1, 'moore': 1, 'writher': 1, 'crack.': 1, 'hawks': 1, 'nock': 1, 'niners.': 1, 'wtf.': 1, 'coke.': 1, 'shit...dude': 1, 'hanging': 1, 'bobby': 1, 'dang....': 1, 'yeah?': 1, 'rigging': 1, 'polls': 1, 'youd': 1, 'ways': 1, '5/5.': 1, 'heres': 1, 'working:': 1, 'directions': 1, 'vote,': 1, 'vote.': 1, 'charlie': 1, 'sheening': 1, 'too..smh': 1, 'failed': 1, 'well....people': 1, 'correcting': 1, 'minimal': 1, 'error': 1, 'irrelevant,': 1, '\\\\nso': 1, 'mistakes,': 1, 'humans,': 1, 'regular': 1, 'importance': 1, 'typing': 1, 'correctly': 1, 'internet,': 1, 'truely': 1, 'dumb***': 1, 'hilly': 1, '#8': 1, 'schoolswot\\\\n\\\\nno': 1, 'hypocrites': 1, 'despise.': 1, 'god!!!': 1, 'loser!!!!': 1, 'ray': 1, 'pure': 1, 'shooters...': 1, 'ike': 1, 'earlier,': 1, 'drama': 1, 'queen!': 1, 'adumbas': 1, 'pussy....': 1, \"you'r\": 1, 'probully': 1, 'lips': 1, 'nose.': 1, 'communist': 1, 'puke..': 1, 'nnamdi': 1, 'chuwkwu': 1, 'boko..': 1, 'bomb': 1, 'generation..': 1, '.you': 1, 'relocate': 1, 'zoo': 1, 'yes,': 1, \"eye'd\": 1, 'turnt': 1, 'ass-faggot.': 1, '\\\\n\\\\nyou': 1, 'flag!!!!!': 1, 'mother.\\\\nyou': 1, 'fine,': 1, 'drug-addled.': 1, 'ball.': 1, 'up\\\\xa0joe\\\\xa0jackson': 1, '\\\\xa0ass.': 1, 'fukn': 1, 'cripled': 1, 'double': 1, 'lucky.': 1, 'sucker.': 1, 'intellect': 1, 'tebow': 1, 'unemployed,': 1, 'your_nasty': 1, 'existance': 1, 'normal.': 1, 'rain': 1, 'man.': 1, 'whaaaa': 1, 'whaaaaaa,': 1, 'intellectually': 1, 'call.': 1, 'newt': 1, 'debt': 1, 'mill.': 1, 'god-damned': 1, 'comunity': 1, 'organizer': 1, '6': 1, 'trillion.': 1, 'pitiful.': 1, 'anything,': 1, 'research,': 1, 'jacksquat': 1, 'obies': 1, 'superior': 1, 'world?\\\\xa0(bytchplease)\\\\xa0unlike': 1, 'disrespecting': 1, 'deceased.': 1, '(littledyck)': 1, 'surface.': 1, 'phatpig': 1, 'unhappy': 1, 'self.': 1, 'confidence.': 1, 'self-esteem': 1, '(dyckimplant).': 1, 'clean,': 1, 'turd-breath.': 1, 'basket': 1, 'peter,\\\\nyou': 1, 'foolishly': 1, 'letting': 1, 'dictate': 1, 'writings?': 1, 'know..': 1, 'maggot.\\\\xa0': 1, 'turds': 1, 'shirt': 1, 'queer': 1, 'rotting': 1, 'laffs': 1, 'fan\\\\xa0\\\\xa0\\\\xa0\\\\xa0': 1, 'bird': 1, 'stealing': 1, 'identity': 1, 'now?': 1, 'hardly': 1, 'shitt!': 1, 'stupider': 1, 'average,': 1, 'bag.': 1, 'bragging': 1, 'concepts.': 1, 'idiot....': 1, 'four': 1, 'old..': 1, 'decides': 1, 'signed': 1, 'warrant....': 1, 'minimum': 1, 'you:': 1, 'multiple': 1, 'ltdgovt': 1, 'claiming': 1, 'tell.': 1, 'had,': 1, 'hatethehype': 1, 'joking.': 1, 'fu.ck': 1, 'you\\\\xa0arguing\\\\xa0with': 1, 'disagree': 1, 'with.': 1, 'stupid\\\\xa0arguments.': 1, 'awhile': 1, 'extract': 1, 'foot': 1, 'dumbgeister': 1, 'failure': 1, 'distorted': 1, '\\\\xa0nbc': 1, 'tapes': 1, 'again,': 1, 'they\\\\xa0has': 1, 'stories': 1, 'viewpoint': 1, 'msnbc': 1, 'nbc': 1, 'focking': 1, 'hacks': 1, 'permanently,': 1, '11': 1, 'network,': 1, '\\\\xa0fox': 1, 'beating\\\\xa0all\\\\xa0the': 1, 'nielsen': 1, 'ratings\\\\xa0for': 1, 'libtards': 1, 'you\\\\xa0!!!!!!!!!': 1, 'viewership': 1, 'bullshlt': 1, 'up\\\\xa0to': 1, 'appreciate': 1, 'police': 1, 'tear': 1, 'gas': 1, 'counts': 1, 'capital': 1, 'murder?': 1, 'burr-headed,': 1, 'lipped': 1, 'kenyan?????\\\\xa0': 1, 'bridge.': 1, 'snsd': 1, 'articles.': 1, 'lizzaronna\\\\xa0\\\\nnot': 1, 'shine': 1, 'mouth!': 1, 'now!': 1, 'ideas,': 1, 'goddammit!': 1, \"hater'z!\\\\njust\": 1, 'alone': 1, 'bussiness': 1, 'bitches:)\\\\n\\\\njust': 1, 'olsen:):):);0:)': 1, 'nigglet': 1, 'fcuking': 1, 'ram': 1, 'boom-stick': 1, 'unbalanced': 1, 'freak': 1, 'fcuk.': 1, 'smoldering': 1, 'embers': 1, 'bin': 1, 'initiated': 1, 'doen': 1, 'timeout': 1, 'invented': 1, 'taco': 1, 'bell': 1, 'wetback,': 1, 'swam': 1, 'across': 1, 'border': 1, 'san': 1, 'jose': 1, 'california': 1, 'butter': 1, 'cell': 1, 'phones': 1, 'burrito': 1, 'checked.': 1, 'himself,': 1, 'reread': 1, 'grown': 1, 'woman.': 1, 'stereotypical,': 1, 'bored-ass,': 1, 'minority': 1, 'research-like': 1, 'to-and': 1, 'white-ass': 1, 'threw': 1, 'intelligent,': 1, 'races': 1, 'spain.': 1, 'hispanic,': 1, 'sickening.': 1, 'cunts': 1, '..goood': 1, 'job!': 1, 'wrote': 1, 'tripe,': 1, 'sacramento': 1, 'publication': 1, 'less.': 1, 'career-long': 1, 'cheap-shot': 1, 'elbow-throwing': 1, 'adulterer,': 1, 'saint': 1, 'kobe': 1, 'biatch,': 1, 'kobe-dolt': 1, 'lebron.': 1, 'man-child': 1, 'sack.': 1, 'fantasize': 1, 'tiny': 1, \"worm...it's\": 1, 'am.': 1, 'trolls?': 1, 'lmao.': 1, 'gays': 1, 'lesbians': 1, 'protesting': 1, 'family??': 1, 'serious??': 1, 'quotes': 1, 'divorce': 1, 'drunkard': 1, 'cheating': 1, 'sin.': 1, 'commandments??': 1, 'abominations!': 1, 'anti-gay': 1, 'homophobes': 1, 'ignorant.': 1, 'haters.': 1, \"would've\": 1, 'edited': 1, 'say?\\\\n\\\\nyou': 1, 'blatantly': 1, 'covgrats,': 1, 'fstaff.': 1, 'cking': 1, \"'smart'\": 1, 'you?\\\\r\\\\n\\\\r\\\\ndid': 1, 'commit': 1, 'suicide?': 1, 'talked': 1, 'maher': 1, \"today?\\\\n\\\\nyou're\": 1, 'ucking': 1, 'molester': 1, 'funny!': 1, 'slur,': 1, 'hilarious!': 1, 'traitor.': 1, 'fanatics': 1, 'pedophile?\\\\xa0': 1, 'gee,': 1, 'catholic': 1, 'church!\\\\xa0': 1, 'work.': 1, 'insignificant,': 1, 'shudup': 1, 'share': 1, 'cracker.': 1, 'yous': 1, 'tart': 1, 'money,': 1, 'paided': 1, 'share.': 1, 'ha,': 1, 'anthony': 1, 'basketball': 1, 'sb': 1, 'winner': 1, 'qbs': 1, 'helm': 1, 'endless.': 1, 'boob.': 1, 'scatterbrain': 1, 'afixing': 1, 'touch.': 1, 'thank': 1, 'proved': 1, 'possess': 1, 'higher': 1, '20.': 1, 'jerome': 1, 'fruit..': 1, 'worlds': 1, 'sodomite': 1, 'unconsciousness..': 1, 'proclaiming': 1, 'stupidity': 1, 'spawn': 1, 'second,': 1, 'research': 1, 'lucifer?': 1, 'reaaaaally?': 1, 'bugo': 1, 'unya?': 1, 'with?': 1, 'ah.': 1, '*those*': 1, '(self-flagellating\\\\xa0alt-tech': 1, 'guy).': 1, 'liberals/progressives/soc': 1, 'ialists/com': 1, 'munists': 1, 'commenting': 1, 'yourselves': 1, 'fi': 1, 'lth': 1, 'ab.\\\\\\\\xc2\\\\\\\\xa0': 1, 'up.\\\\\\\\xc2\\\\\\\\xa0': 1, 'snarky,': 1, 'ful,': 1, 'elitist,': 1, 'de': 1, 'cei': 1, 'tful,': 1, 'dec': 1, 'eived': 1, 'ots': 1, 'dark.\\\\\\\\xc2\\\\\\\\xa0': 1, 'slim': 1, 'ers.': 1, 'clicking': 1, 'links': 1, 'traffic.\\\\n\\\\nyou': 1, 'cure': 1, 'about?': 1, 'ugly?': 1, 'school.': 1, 'cocksucker,': 1, 'candy...': 1, 'puzzy': 1, 'shadows.': 1, 'rec': 1, 'neo-nazism.': 1, 'compelled': 1, 'hitler': 1, 'fend': 1, 'search': 1, 'hippocrate.': 1, 'sh#t.': 1, 'butch': 1, 'woman:': 1, 'whoop': 1, 'sniffling': 1, 'troll????': 1, \"along,,she's\": 1, 'hot,and': 1, \"she'd\": 1, 'hightail': 1, 'boy!!!!!': 1, ':*': 1, '?!': 1, 'pepes': 1, 'updated:\\\\n\\\\n\\\\nbest': 1, 'sucked:\\\\n\\\\n\\\\nhialeah': 1, \"swag's\": 1, 'house\\\\n\\\\nbetween': 1, 'sacan': 1, 'espumita': 1, 'married,': 1, 'chasm': 1, 'converts': 1, '......\\\\xa0': 1, 'pointy': 1, 'tin': 1, 'foil': 1, 'bud!': 1, 'girls?': 1, 'facts,': 1, 'whineing': 1, 'were\\\\xa0and': 1, 'notice': 1, 'cod': 1, 'taxing': 1, 'different': 1, 'levels': 1, 'redistribution': 1, 'wealth': 1, 'retard.\\\\xa0': 1, 'redistributing': 1, 'time?': 1, 'jesus,': 1, 'exhausting.': 1, 'ones.': 1, 'hahah,': 1, 'joined': 1, 'website.': 1, 'homophobic.....': 1, 'lesbian': 1, 'ponyfags': 1, 'clueless.': 1, 'dillusional': 1, 'inferiority': 1, 'complex,': 1, 'damnit': 1, 'gw,': 1, 'white.': 1, 'a\\\\xa0': 1, 'well-rounded': 1, 'yuck': 1, 'imagine': 1, 'swallowed': 1, 'injustice!': 1, 'silly,': 1, 'surprise': 1, 'lynched!': 1, 'monstrous': 1, 'shits.': 1, 'rabies': 1, 'biting': 1, 'type?': 1, 'psycho.': 1, 'newish': 1, 'fart': 1, 'forum': 1, 'similar': 1, 'mindless': 1, 'drivel.': 1, '\\\\n\\\\nwhy': 1, 'senile': 1, 'dip': 1, 'recognizes': 1, 'version': 1, 'barrack': 1, 'obama.': 1, 'drugs.': 1, 'crackpot': 1, 'helped': 1, 'remove\\\\xa0mubarak': 1, 'by???????????': 1, '\\\\xa0oh': 1, 'forgot,': 1, 'demonstrating': 1, 'cairo': 1, 'nights': 1, '2010.': 1, 'blinded': 1, 'reaching.': 1, 'traditionalist': 1, 'retard?\\\\n\\\\nwhat': 1, 'mafia,': 1, 'zemun': 1, 'clan': 1, 'arkan?\\\\n\\\\nyou': 1, 'hypocrisy': 1, 'laughable.': 1, 'mrbreeze68:': 1, 'marks': 1, 'arab.': 1, 'madden.': 1, 'effect,': 1, 'battlefield,': 1, 'speed.': 1, 'games': 1, 'competitors': 1, '\\\\n\\\\nign': 1, 'biasd': 1, 'lie!!\\\\n\\\\nshow': 1, 'compitition': 1, 'madden': 1, 'untill': 1, 'then...make': 1, 'interested': 1, 'question.': 1, 'schoolers.': 1, 'medicine': 1, 'bullies': 1, 'whores': 1, 'prostitutes': 1, 'statements,': 1, 'course,': 1, 'totally': 1, 'else.': 1, 'publicly': 1, 'apologize': 1, 'dawn': 1, 'yang': 1, 'liars': 1, 'deemed': 1, \"'too\": 1, \"looking'\": 1, 'faux': 1, 'backlash': 1, 'missing': 1, 'aw...': 1, 'amber': 1, 'clever': 1, 'resorts': 1, 'parrot': 1, 'tactics...\\\\xa0\\\\nlol!!\\\\xa0': 1, ':)\\\\xa0': 1, 'regressed': 1, '7': 1, 'you!\\\\xa0': 1, 'bravo!!\\\\xa0\\\\nperhaps': 1, 'regress': 1, 'youself': 1, 'infant?': 1, 'leon.': 1, 'mean,': 1, 'critical': 1, 'avi': 1, 'easy.': 1, '\\\\xa0almost': 1, 'downs': 1, 'syndrome': 1, '(sp)': 1, 'beside': 1, 'themselves': 1, '(non-downs)': 1, 'during': 1, 'episode.': 1, '\\\\xa0knock': 1, 'sir.': 1, 'cyber': 1, 'rife': 1, 'ridiculousness.': 1, 'flop': 1, 'off\\\\\\\\xc2\\\\\\\\xa0the': 1, 'quarter': 1, 'donate': 1, 'money,,,????': 1, ':d': 1, 'attacking': 1, 'doctors.': 1, 'screeching': 1, 'doctors!': 1, 'slagging': 1, 'wholesale': 1, \"granny's\": 1, 'help,': 1, 'shoulder,': 1, 'wring': 1, 'hands': 1, 'etc.\\\\n\\\\nselfish': 1, 'spoilt': 1, \"****'s\": 1, 'themselves.\\\\n\\\\n': 1, 'ooh': 1, 'hoo': 1, 'pension,': 1, 'hoo!': 1, '\\\\n\\\\ngo': 1, 'i-wont-pay-a-penny-for-a-civilised-society': 1, 'capitalism': 1, 'much.': 1, '@cnn-fcbba858f167b1594a66777bca:disqus': 1, \"\\\\n\\\\nyou've\": 1, 'islamic': 1, 'apologist': 1, 'poisoned,': 1, 'simple.': 1, 'funny,,,whats': 1, '$$': 1, 'haa': 1, 'haaa': 1, 'cockneywideboy\\\\n\\\\nso': 1, 'obese': 1, 'pavement...get': 1, 'cockneyslimboy.': 1, 'higher(replying': 1, 'mesaman': 1, 'above)': 1, 'glue': 1, 'pot?': 1, '\\\\xa0perhaps': 1, 'products': 1, 'system,': 1, 'offered': 1, 'usmc,': 1, \"should've\": 1, 'hit.': 1, 'screamed': 1, 'idc.': 1, 'gotta': 1, 'leaking': 1, 'learn,': 1, 'liner': 1, 'fu&^tard': 1, \"world's\": 1, 'debater.': 1, 'explained\\\\xa0that': 1, 'sissy': 1, \"but,i'll\": 1, 'b*tch': 1, 'you.white': 1, 'folks': 1, \"-you're\": 1, 'boxing': 1, 'fighter\\\\xa0as': 1, 'their\\\\xa0not': 1, 'p%nk': 1, 'a##': 1, 'chump': 1, 'bamma!!!!!!!!': 1, \"@bexxcc\\\\xa0\\\\xa0@bubzsucz\\\\n\\\\xa0you're\": 1, 'what,': 1, \"there's\": 1, 'g\\\\xa0': 1, \"odumbo's\\\\xa0\": 1, 'k,': 1, 'swallow?': 1, 'sympathy': 1, 'care!': 1, 'no!\\\\xa0': 1, '....wade....you': 1, 'star': 1, 'laugh!': 1, 'think,': 1, 'pbgallag.': 1, '2012': 1, 'halladay.': 1, 'career': 1, 'reflects': 1, 'am?': 1, 'rocksucker': 1, 'creatures': 1, 'son..': 1, 'is..': 1, 'lol\\\\xa0': 1, 'brain\\\\n\\\\tdamage.': 1, 'pregnant?': 1, 'details': 1, \"'oh\": 1, 'swallow': 1, \"asshole'\": 1, ',huh?': 1, 'pinterest': 1, 'up!': 1, 'friendly': 1, 'found': 1, 'nypd;': 1, 'ronald': 1, 'visited': 1, 'praised': 1, 'union;': 1, 'giants': 1, 'lift': 1, 'weights': 1, 'cabinet': 1, 'fare': 1, 'serve': 1, 'dinner': 1, 'then;': 1, 'nancy': 1, 'suspicious': 1, 'life;': 1, 'amounted': 1, 'then????....simpletons': 1, 'refreshing...': 1, 'brain..': 1, 'retards.': 1, 'uk.': 1, '2pm': 1, 'bellend.': 1, 'rephrase': 1, 'initial': 1, 'post;\\\\npathetic': 1, 'thanx': 1, 'address.': 1, 'bltch.': 1, 'cookies.': 1, 'incest': 1, 'fool.....use': 1, 'irrational': 1, 'rational!': 1, 'sir/madam,': 1, 'd*ck.': 1, '@lazerbyte': 1, '-_-': 1, 'shop': 1, 'k-mart': 1, 'brand': 1, 'hollister': 1, 'eagle': 1, 'skater': 1, 'brand\\\\n\\\\xa0\\\\ngo': 1, 'you.right.now': 1, 'shotgun': 1, 'horrid': 1, 'reported,': 1, 'libturd,': 1, 'understand!': 1, 'sell': 1, 'anus': 1, 'dealer?': 1, 'rediculous': 1, 'salaries': 1, 'benefit': 1, 'humanity': 1, 'entertainment': 1, 'purposes.\\\\xa0': 1, 'misunderstood...you': 1, 'actor...if': 1, 'material': 1, 'objects': 1, 'sick...just': 1, 'saying!': 1, 'car?': 1, 'really???': 1, 'lmao!!!': 1, 'dues': 1, 'randal,': 1, 'paragraph': 1, 'above,': 1, 'articulett': 1, 'said!\\\\n\\\\nregarding': 1, 'paragraph,': 1, 'forced': 1, 'stretch': 1, 'suit': 1, 'improbabilities': 1, 'conclude': 1, 'probability.': 1, 'case.': 1, '\\\\n\\\\ntake': 1, 'speculation': 1, 'non-believers,': 1, 'christians,': 1, \"(that's\": 1, 'aritculett).\\\\n\\\\nfirst': 1, 'faith.': 1, 'threat': 1, 'wrong.': 1, \"pascal's\": 1, 'wager': 1, 'investigated': 1, 'thoroughly,': 1, 'investigate': 1, 'before.\\\\n\\\\ni': 1, 'anecdotal': 1, 'spoken': 1, 'learns': 1, 'scenario': 1, 'disunion': 1, 'christian,': 1, 'six': 1, 'me.\\\\n\\\\nwhen': 1, 'general': 1, 'studies': 1, 'christians.': 1, 'evidence,': 1, 'baby.': 1, 'therefore\\\\xa0': 1, 'likely,': 1, 'otherwise.\\\\n\\\\nso': 1, 'mine': 1, 'evidence.': 1, 'skirt': 1, '\\\\n\\\\nand': 1, 'probabilities': 1, 'predicting': 1, 'speculate': 1, 'skeptics': 1, 'speculated': 1, 'most,': 1, 'defined': 1, 'above': 1, '50%,': 1, 'minimally.': 1, 'however': 1, 'prediction': 1, 'specify': 1, 'mathematical': 1, 'weather': 1, 'seven': 1, 'months': 1, '(charitably': 1, 'comparison': 1, 'globally).': 1, 'w\\\\n\\\\n*ahem*': 1, 'comparative': 1, 'parity': 1, 'all.\\\\n\\\\nthis': 1, 'time.\\\\n\\\\nthe': 1, '15-20': 1, 'mind.': 1, 'opinion,': 1, 'bright': 1, 'faith.\\\\n\\\\nnot': 1, 'utterly': 1, 'comparison.\\\\n\\\\nyou': 1, 'blogging': 1, 'christan': 1, 'correct?': 1, 'reasoning': 1, 'abilities': 1, 'sorry.': 1, 'jsut': 1, 'scientology.': 1, 'place.\\\\n\\\\nthere': 1, 'others.': 1, \"awww....it's\": 1, 'ok,': 1, 'mummy': 1, 'hideously': 1, 'naacp': 1, 'todays': 1, 'world,': 1, 'member.\\\\n\\\\nand': 1, \"'bo'\": 1, 'linux': 1, 'torvalds:': 1, 'nvidia,': 1, '\\\\nthis': 1, 'linus': 1, 'nvidia': 1, 'deserves': 1, 'motherfucker!': 1, \"woman't\": 1, 'idiot:': 1, 'plane': 1, 'heavy': 1, 'dark.': 1, 'fuel': 1, 'wicked': 1, 'mitigated': 1, 'gall': 1, \"lord's\": 1, 'beer': 1, '<b>demonocrats': 1, '56,000,000': 1, 'abortions.\\\\n\\\\nalso,': 1, 'homosexuality': 1, 'beings.': 1, 'violent': 1, 'mercyless': 1, 'monsters': 1, 'draw': 1, '\\\\n\\\\ngaydolph': 1, 'surrounded': 1, 'himself': 1, 'limits': 1, 'savagery(source,': 1, 'chaz,': 1, 'tole': 1, 'me).\\\\n\\\\nrhetorical': 1, 'question,': 1, 'scroto,': 1, 'several': 1, 'thousand': 1, 'innocent': 1, 'americans,': 1, 'turned': 1, 'cooked': 1, 'food?': 1, 'really!': 1, 'shoved': 1, 'theres': 1, 'shriveled': 1, 'stinky': 1, 'queen!go': 1, 'toilets!': 1, 'fat,': 1, 'kurt?': 1, 'richard': 1, 'funny.\\\\xa0': 1, 'loser.\\\\xa0': 1, 'dumbass.\\\\xa0': 1, 'wiping': 1, 'ass.\\\\xa0': 1, 'haha.': 1, 'exposes': 1, 'iliterate': 1, 'a\\\\xa0fool': 1, 'writer!!!': 1, 'everytime': 1, 'crap,': 1, 'polluting.': 1, 'promoted': 1, '\\\\xa0-': 1, 'right!': 1, 'muslim,': 1, 'pac': 1, 'life,i': 1, 's.r.r': 1, 'oj': 1, 'bronco': 1, 'gu.n': 1, 'jack@$$.': 1, 'db!': 1, 'jussi,': 1, 'fashioned': 1, 'usa': 1, 'airchair': 1, 'warriors': 1, 'yourself.\\\\n\\\\n\\\\ni': 1, 'inherent': 1, 'warfare': 1, 'hamas': 1, 'chooses': 1, 'openly,': 1, 'fool.\\\\n\\\\nthis': 1, 'trained': 1, 'science.': 1, 'superstition': 1, 'religiously-motivated': 1, 'jargon,': 1, '@rn506:disqus': 1, 'definition': 1, 'rider.': 1, 'room.': 1, 'anime': 1, 'icon': 1, 'manga': 1, 'titted': 1, 'purposely': 1, 'theirs': 1, 'sumwhere': 1, 'money\\\\\\\\xc2\\\\\\\\xa0from': 1, 'ede444': 1, 'mentality.': 1, 'poorest': 1, \"think\\\\xa0i'm\\\\xa0showing\": 1, 'reflection': 1, 'green': 1, 'eyed': 1, 'monster.': 1, 'languages': 1, \"they've\": 1, 'people.\\\\xa0perhaps\\\\xa0you': 1, 'concentrate': 1, 'bettering': 1, 'childish': 1, '_go_eat_your_dog_you_pos_libtard': 1, 'excellent': 1, 'command': 1, 'language!': 1, 'commend': 1, 'ni@@ers': 1, 'skillz': 1, 'you?!?': 1, 'that!': 1, 'track': 1, 'katana': 1, 'bcuz': 1, 'asians': 1, 'smarted': 1, 'chicago': 1, 'lives.....\\\\xa0': 1, 'yup,': 1, 'elitist': 1, 'are....': 1, 'beleive': 1, 'andi,': 1, 'female,or': 1, 'name?': 1, 'eatshitanddie?': 1, 'skippy.': 1, 'floyd,': 1, 'simple.\\\\n\\\\nthat': 1, 'magoo': 1, 'assclown,': 1, 'pwned': 1, 'dork?': 1, 'mistake': 1, 'confused': 1, 'reply.': 1, 'around.': 1, 'personal': 1, 'stalker!': 1, 'flattered.': 1, 'thanks!': 1, 'blue': 1, 'noses,': 1, 'firmly': 1, 'entrenched.': 1, 'doofus!': 1, 'sing,': 1, 'wahoo': 1, 'rape..just': 1, 'liberals..all': 1, 'them..and': 1, 'inclineds.': 1, 'motivation': 1, 'legislation.\\\\n\\\\ndrink': 1, 'driving': 1, 'crime,': 1, 'alcohol.': 1, 'comprehend': 1, 'quit..fucking..with': 1, 'trolling..douche': 1, 'baby,': 1, 'extreme': 1, 'santorum,': 1, 'paul,': 1, 'losers.': 1, 'bitter': 1, 'coney': 1, 'island': 1, 'whitefish': 1, 'used.': 1, 'pintless': 1, 'ideologue': 1, 'bigot...': 1, 'sentiment': 1, 'vitriol': 1, 'surprise.': 1, 'given': 1, 'away....': 1, '(literally).': 1, 'reversed.': 1, 'puke': 1, 'cause.': 1, 'glea.': 1, 'one.\\\\xa0': 1, 'picking': 1, 'rookie...yeah': 1, \"worries....you'll\": 1, 'day.....loser.': 1, 'partisapating': 1, 'you\\\\\\\\xc2\\\\\\\\xa0': 1, 'hes': 1, 'are\\\\\\\\xc2\\\\\\\\xa0': 1, 'dose': 1, 'halt': 1, 'go\\\\\\\\xc2\\\\\\\\xa0': 1, 'faking': 1, 'likewats': 1, 'mad.': 1, 'rite': 1, 'feelingz': 1, 'tou': 1, 'youll': 1, '...if': 1, 'louisiana': 1, 'rip': 1, 'fingernails.': 1, 'gun,': 1, 'knife,': 1, 'birch!': 1, 'vigilante': 1, 'justice?\\\\n\\\\nwhy': 1, 'rapist?\\\\xa0': 1, 'closet': 1, 'pedo?': 1, 'andrew': 1, \"you're\\\\xa0clearly\": 1, '^^': 1, '2\\\\n': 1, 'jer*k': 1, 'off..i': 1, 'dou*che*bag': 1, 'cannot\\\\n': 1, 'priceless': 1, 'scored': 1, '4th': 1, 'test': 1, 'match': 1, 'he\\\\n': 1, 'south': 1, 'africa..and': 1, 'tons': 1, 'state\\\\n': 1, 'level..but': 1, 'di*ckheads': 1, 'shi*t': 1, 'understand\\\\n': 1, 'it..think': 1, 'opening': 1, 'drainage': 1, 'pipe': 1, 'u\\\\n': 1, 'los*er': 1, 'north,': 1, 'service': 1, 'brother.': 1, 'stupid!': 1, 'snap': 1, 'whould': 1, 'hussain': 1, \"shia's\": 1, 'including': 1, 'enter': 1, 'war,.dont': 1, 'syria': 1, 'israel.': 1, 'fourght': 1, 'obstical': 1, 'islam..,,,\\\\n\\\\n.': 1, '___________': 1, ',\\\\xa0what': 1, 'syrians': 1, 'neghbourhood': 1, '\\\\xa0blind': 1, 'oppressed\\\\xa0': 1, 'assad': 1, 'regime': 1, 'evry': 1, 'time.': 1, 'successful': 1, 'artist.': 1, 'epitome': 1, 'crab': 1, 'muther': 1, 'fucker!': 1, 'fixed.': 1, '\\\\xa0oh,': 1, \"can't.\": 1, 'soapbox,': 1, 'all,': 1, 'nickelback.\\\\n\\\\nsecond,': 1, '(ahead': 1, 'johnny': 1, 'michael': 1, 'jackson?': 1, 'eh.),': 1, 'nirvana,': 1, 'kurt': 1, 'particular,': 1, 'angsty': 1, 'teens': 1, 'everywhere': 1, 'draconian': 1, 'inter-racial': 1, 'marriage?\\\\xa0': 1, 'ban': 1, 'races.\\\\xa0': 1, 'please!': 1, \"where's\": 1, 'trolls,': 1, 'this\\\\xa0piece': 1, 'havvee': 1, 'naruto,': 1, 'man?': 1, 'sentences?': 1, 'idiot...not': 1, 'partial.': 1, 'talkin': 1, 'bout?': 1, 'turning': 1, 'on......this': 1, '@bizora2:disqus': 1, 'myself.': 1, 'trial.': 1, 'mike': 1, 'everything.': 1, 'lay': 1, 'you:))': 1, 'rot': 1, 'grave.': 1, 'herpes': 1, 'douche,': 1, 'redeeming': 1, 'qualities': 1, 'delusional': 1, 'record,': 1, 'attraction.': 1, '\\\\\\\\xc2\\\\\\\\xa0but': 1, 'righteous,': 1, 'despicable,': 1, 'vermin': 1, 'election': 1, 'november': 1, 'bozo.': 1, '\\\\\\\\xc2\\\\\\\\xa0if': 1, 'disgusted': 1, 'entitlement': 1, 'dems': 1, 'propgate,': 1, 'dem.': 1, \"\\\\\\\\xc2\\\\\\\\xa0it's\": 1, 'live.': 1, '\\\\\\\\xc2\\\\\\\\xa0gays': 1, 'hurting': 1, '\\\\\\\\xc2\\\\\\\\xa0you': 1, 'lifestyle': 1, 'doors.': 1, '\\\\\\\\xc2\\\\\\\\xa0my': 1, 'thumper,': 1, 'tendencies': 1, 'fighting.': 1, '#nwo4life\\\\n#fucktrolls': 1, 'hernandez': 1, 'senseless': 1, 'at&t': 1, 'iphones': 1, 'dial': 1, 'bay': 1, 'is:': 1, 'lie,': 1, 'pedal': 1, 'linked': 1, 'corrupt,': 1, 'disingenuous,': 1, 'mislabel': 1, 'news.': 1, 'bad!': 1, 'rupert': 1, 'murdoch': 1, 'thirty': 1, 'silver.': 1, 'dinner,': 1, 'baby!': 1, 'dirt': 1, 'another.': 1, 'november,': 1, 'parasites.': 1, 'havew': 1, 'monkey': 1, 'whore,': 1, 'zoo.': 1, 'sterilized': 1, 'slus': 1, 'nixxers': 1, 'jpcali.': 1, 'dang': 1, 'dats': 1, 'me..ur': 1, 'miami': 1, 'dic.k...lol..and': 1, 'it..she': 1, 'her..lmao..lol..she': 1, 'hard.': 1, 'papo_swing,': 1, 'weasel': 1, 'carlson.': 1, 'relatives.': 1, 'deniro': 1, 'fok': 1, 'wop.': 1, 'ignorant...piece': 1, '/': 1, 'behavior!!!shame': 1, 'spawned...': 1, 'fooi.': 1, '*': 1, 'tranny': 1, '????': 1, '*\\\\n\\\\xa0\\\\xa0come': 1, '!!!\\\\n\\\\xa0\\\\xa0fuck': 1, 'actually.\\\\xa0': 1, 'las': 1, 'premier': 1, '<br>': 1, 'sued': 1, \"we've\": 1, 'mideast.': 1, 'bombing,': 1, 'droning,': 1, 'wars,': 1, 'funding': 1, 'basturd,': 1, 'stuffed': 1, 'oven.': 1, 'thereisnoreason': 1, 'l4c': 1, 'back,': 1, 'on?': 1, 'dumbphuck': 1, 'sh!te': 1, 'kunthead,son': 1, 'huh???you': 1, 'phuckface???????????????????????????????': 1, 'kraut': 1, 'bed...you': 1, '...yeah': 1, 'mmj': 1, 'patient': 1, 'fuck-tard,': 1, 'shops': 1, 'ass..': 1, 'jackie': 1, 'cow.': 1, 'conceited': 1, 'invertebrate.': 1, 'hopefully': 1, 'decrepit': 1, 'arrogance': 1, 'have,': 1, 'seizure.': 1, 'alcohol': 1, 'drugs': 1, 'involved.': 1, 'afterall': 1, 'communists': 1, 'nazis.': 1, 'loons': 1, 'taken': 1, '101': 1, 'kindergarten,': 1, 'all\\\\xa0passed': 1, 'flying': 1, 'colors!': 1, \"freakin'\": 1, 'funny...': 1, 'gullible...': 1, 'ridicule': 1, \"fuk'n\": 1, 'pr1ck\\\\n\\\\n\\\\nlittle': 1, '...or': 1, 'murderer': 1, 'gawd': 1, 'f*cking': 1, 'hateful?': 1, 'tha': 1, 'haloween\\\\\\\\nand': 1, 'apples.': 1, 'braindead': 1, 'bigot.': 1, 'technicolor': 1, 'voices': 1, 'head.': 1, 'nag': 1, 'waiting.\\\\xa0': 1, 'knees.\\\\xa0': 1, \"'twisted'.\\\\xa0\": 1, 'tonight.\\\\xa0': 1, 'bromance.': 1, 'ego': 1, 'qualified.': 1, 'taxpayers': 1, 'scorn': 1, 'benefits,': 1, 'moron.\\\\xa0': 1, 'contempt.\\\\xa0': 1, 'legalized': 1, 'monopoly': 1, 'negotiated': 1, 'influence': 1, 'unlimited': 1, 'supplies': 1, 'taxpayer': 1, 'money.\\\\xa0': 1, 'parasite.': 1, 'lip': 1, 'shot???and': 1, 'rice': 1, 'noddles': 1, 'chimp': 1, 'haney': 1, 'painter...keep': 1, 'job...wait': 1, 'dickhead.\\\\ni': 1, 'fight!': 1, 'nazi_inc,\\\\nmy': 1, 'salazar': 1, 'era': 1, 'remembers': 1, 'it.\\\\n\\\\ntoo': 1, ':d\\\\n\\\\nyou': 1, 'hatred': 1, 'exposed': 1, 'inteligent': 1, 'ourselves.': 1, 'thumb.': 1, 'positive': 1, '\\\\nbe': 1, '\\\\ngreat': 1, '\\\\n\\\\nexcept': 1, 're': 1, 'het': 1, 'ic': 1, 'oa': 1, '\\\\n\\\\nhaiti': 1, \"\\\\ndoesn't\": 1, '\\\\nneed': 1, '.\\\\n\\\\nthank': 1, 'tale': 1, 'ideal': 1, 'p.s.': 1, 'suzy.\\\\xa0': 1, 'trouble': 1, 'maker.\\\\xa0': 1, 'exit': 1, 'stage': 1, 'left,': 1, 'job.\\\\xa0': 1, 'rap!!!!!': 1, 'debauched': 1, 'indivudal': 1, 'pleasure': 1, 'tearing': 1, 'off.\\\\n\\\\nwhy': 1, 'top': 1, 'favour,': 1, 'final': 1, 'masturbation': 1, 'anout': 1, 'jon': 1, 'venables': 1, 'the\\\\xa0dipshat': 1, 'building.\\\\xa0': 1, 'joke.\\\\xa0': 1, 'slob.': 1, 'morteza': 1, 'hosseini,': 1, 'ships': 1, '.....you': 1, 'helping': 1, 'semen': 1, 'slurper': 1, 'ratified?\\\\\\\\n\\\\\\\\nget': 1, 'silo.': 1, '@adamomars\\\\xa0\\\\xa0@dieofnv\\\\xa0the': 1, 'mcshay': 1, 'research.': 1, 'main': 1, 'gaming': 1, 'papism': 1, 'popery': 1, 'late': 1, 'klavern': 1, 'meeting?': 1, 'sheets': 1, 'washed': 1, 'starched?': 1, 'eyelits': 1, 'hood?': 1, 'www.haterscentral.com': 1, 'mane': 1, 'pose': 1, 'shape': 1, 'beyonce': 1, 'diss': 1, 'guy?': 1, 'perverted': 1, 'discredited': 1, 'unmitigated': 1, 'do?\\\\n\\\\nwhhhhhhhhaaaaaaaaaaaaaa': 1, 'pointing': 1, 'sec': 1, 'fanbases': 1, 'borderline': 1, 'upset,': 1, 'fu<v>cked': 1, 'b<v>itch': 1, 'head!!!!!!!!!!!': 1, 'wtf?': 1, 'christ': 1, 'internet.': 1, 'aww': 1, 'tattoo': 1, 'idols': 1, 'grandpa': 1, 'tattooed': 1, 'immature': 1, 'assfuck!': 1, 'sucker!': 1, 'bullshit!!!!!!!!': 1, 'hahahahaha': 1, 'handle': 1, 'fraud.': 1, 'sheeple!': 1, '\\\\xa0\\\\n\\\\ni': 1, 'depths': 1, 'zit-club': 1, 'ending': 1, 'machine': 1, 'trapped': 1, 'maze': 1, 'delusions.': 1, '\\\\xa0what?': 1, '\\\\xa0hands?': 1, \"\\\\xa0she's\": 1, 'devoted': 1, 'post!': 1, 'discussion': 1, 'hands,': 1, 'blown': 1, 'charts': 1, 'follicles': 1, 'microscope.': 1, 'realizes': 1, 'sample': 1, 'kate': 1, 'account.': 1, 'retort': 1, 'grifter': 1, 'bitch:\\\\n\\\\n\\\\nwaaaaa!!!!!!!!': 1, 'reporting': 1, 'stuff!!!!': 1, 'libruls!!\\\\xa0\\\\n\\\\nare': 1, 'tina': 1, 'tampa?': 1, 'be....': 1, 'yea,': 1, 'identify': 1, 'technically': 1, 'tv': 1, 'superstar': 1, 'bullshit.': 1, 'spear\\\\nany': 1, 'prospect': 1, 'learning': 1, 'petulant': 1, 'child?': 1, 'huh?\\\\n--------------------------------------------------------------------------------\\\\n\\\\nhey': 1, 'mfcker': 1, 'fuktwatcockbitchfag': 1, 'lots': 1, 'need.': 1, 'dim-wit.': 1, 'nigga,': 1, 'pic!': 1, 'hey,': 1, 'buttfuckle,': 1, 'hip': 1, 'lime': 1, 'destroying': 1, 'republicans,': 1, 'vacuum': 1, 'rug': 1, 'you?\\\\n\\\\nwhat': 1, 'nanny': 1, 'be?': 1, 'year,': 1, 'bankrupt,': 1, 'grammar?': 1, 'do.\\\\n\\\\nthen': 1, 'do,': 1, 'westerners.\\\\n\\\\nnow': 1, 'changing': 1, 'stuff': 1, 'nightmares,': 1, 'ggg.': 1, 'stands': 1, 'german': 1, 'goo': 1, 'raunchy': 1, 'pornoi,': 1, 'face!': 1, 'gone;': 1, 'import': 1, 'iphone?': 1, 'detalinging': 1, 'ate': 1, 'ebst': 1, 'azz_crack': 1, \"dg--you're\": 1, 'asshole...i': 1, 'children.': 1, 'referred': 1, 'ing': 1, 'redneck\\\\n\\\\nstrong': 1, 'you\\\\n\\\\nit': 1, 'comment.\\\\xa0': 1, 'honored': 1, 'as%hole': 1, 'are.\\\\xa0': 1, \"mcdonald's\": 1, 'mejon!!!': 1, 'talent.\\\\n\\\\nlive': 1, 'squalor': 1, 'deserve.': 1, 'smack': 1, 'punk?': 1, 'kurius,': 1, 'pretentious': 1, 'toolbox': 1, 'remotely': 1, 'viable.\\\\xa0': 1, 'scooby..........you': 1, \"dj's\": 1, 'musicians': 1, 'music.\\\\xa0': 1, 'instrument': 1, 'produce': 1, 'thing.\\\\xa0': 1, 'scooby.....you': 1, 'fail!': 1, 'fucklng': 1, 'dlrty': 1, 'whorlng': 1, 'drunk': 1, 'bltch': 1, 'boarder': 1, 'crooked': 1, 'eyebrow': 1, 'elected': 1, 'mexico': 1, 'cuba!': 1, 'infected': 1, 'feces?': 1, 'will..': 1, 'teen': 1, 'pregnant': 1, '?\\\\xa0': 1, 'freakin': 1, 'dumb.\\\\xa0': 1, 'sometimes.\\\\xa0': 1, '\\\\n\\\\nyeah,': 1, \"someone's\": 1, 'face,': 1, 'pussy.\\\\xa0\\\\xa0': 1, 'compassionate,': 1, 'loving,': 1, 'selfless,': 1, 'kind,': 1, 'looking-out-for-your-fellow-man': 1, 'libs.\\\\xa0': 1, 'disagrees': 1, 'bigoted,': 1, 'sicko?': 1, 'jackass': 1, '\\\\xa0nice.': 1, 'soulful': 1, 'ghetto': 1, 'markets': 1, 'ghetto.': 1, 'sellout': 1, 'actor.': 1, 'create': 1, 'arguments': 1, 'division.': 1, 'role.': 1, 'gungongoon,': 1, 'britain': 1, 'cretinous': 1, 'maggots': 1, 'shut.': 1, 'man-the-fuck-up': 1, 'god-dammned': 1, 'books.': 1, 'whenever': 1, 'tv,': 1, '<i>book</i>...': 1, 'suck,': 1, 'hungry': 1, 'hookers.': 1, 'flattening': 1, 'sources': 1, 'ther': 1, 'mags.': 1, 'father,': 1, 'freak!': 1, 'evangelists': 1, 'hustlers': 1, \"mind's\": 1, 'money.': 1, 'other?': 1, 'virus': 1, 'organism': 1, 'particle.': 1, 'obfan.\\\\xa0': 1, 'board??\\\\xa0': 1, 'senate': 1, 'bill,': 1, 'amends': 1, 'votes': 1, 'cartoon': 1, 'dim': 1, 'that...you': 1, 'repeatedly': 1, 'job,': 1, 'imprison': 1, 'etc.': 1, 'boyfriend': 1, 'girlfriend': 1, 'tricks---': 1, 'walking...lol...': 1, 'burn': 1, 'charged': 1, 'convicted.': 1, 'libbies': 1, 'laugh.': 1, 'dimwit.': 1, 'paste': 1, 'monkey.': 1, 'lemmings': 1, 'jump': 1, 'cliff.': 1, '@crissa:disqus': 1, 'race),': 1, 'nbp.': 1, 'islam,': 1, 'aztlan': 1, 'wing.': 1, 'honest': 1, 'dumbest': 1, 'replies': 1, 'crissa.': 1, 'labeled': 1, 'loathing': 1, 'sits': 1, 'upon': 1, 'peoples.': 1, 'thousands': 1, 'yourself?\\\\n\\\\nyour': 1, 'staunchest': 1, 'accuse': 1, 'broad': 1, 'brushing.': 1, 'attack,': 1, 'targets.': 1, 'nutbag..youre': 1, 'traitor....\\\\n\\\\nobama': 1, 'brain......\\\\n\\\\ngo': 1, 'spout': 1, 'venom...youlll': 1, 'murdered': 1, 'onn': 1, 'spot...you': 1, 'psychos': 1, 'freedom-but': 1, 'liars....\\\\n\\\\nyou': 1, 'idiot....arent': 1, 'happy': 1, 'goofball?\\\\xa0': 1, 'avatar': 1, 'fail.': 1, 'pennylane?': 1, 'get.': 1, 'offer': 1, 'discussions,': 1, 'lost?': 1, 'tiring': 1, 'race-bating': 1, 'polluting': 1, 'discussions!': 1, 'goofy': 1, 'repub': 1, 'tiniest': 1, 'shred': 1, 'works': 1, 'countries': 1, 'globe.': 1, 'developed': 1, 'universal,': 1, 'single-payer': 1, 'socialized': 1, 'citizens.': 1, 'systems': 1, 'differ,': 1, 'achieve': 1, 'united': 1, 'visit,': 1, 'covered,': 1, 'option': 1, 'option.': 1, 'well-heeded': 1, 'patients.': 1, '\\\\nbut': 1, 'one,': 1, 'dad,': 1, 'child,': 1, 'uncle,': 1, 'aunt,': 1, 'grandma,': 1, 'grandpa,': 1, 'brother,': 1, 'associate,': 1, 'boss,': 1, 'man,': 1, 'ditch': 1, 'digger,': 1, 'nuclear': 1, 'physicist': 1, 'bankrupt': 1, 'condition': 1, 'usa.': 1, 'agency': 1, 'fell': 1, 'arm': 1, 'company': 1, 'denies': 1, 'coverage': 1, 'finding': 1, 'cancer': 1, 'heart': 1, 'ms.': 1, '\\\\n\\\\nwe': 1, 'neanderthal': 1, 'republicans': 1, 'benefactors': 1, 'insurance-pharma': 1, 'industrial': 1, 'complex': 1, 'craven': 1, 'lust': 1, 'alcoholic': 1, 'lusts': 1, 'drink,': 1, 'boatloads': 1, 'mega': 1, 'gravy': 1, 'train': 1, 'stop.': 1, 'true,': 1, 'deliberately': 1, 'assh*le': 1, 'self-promotional': 1, 'marketing': 1, 'gimmick,': 1, 'controversial': 1, 'attention.': 1, '\\\\n\\\\nin': 1, 'case,': 1, 'avoiding': 1, 'clicks': 1, \"that'll\": 1, 'wagon': 1, 'mighty': 1, 'joelweltman,': 1, 'pedophile': 1, 'incarcerated.': 1, 'happening': 1})\n"
     ]
    }
   ],
   "source": [
    "# expre = r'([A-Za-z]+)'\n",
    "\n",
    "# for i in df1.Comment[:3]:\n",
    "#     text= re.findall(expre, i)\n",
    "#     print(text)\n",
    "\n",
    "\n",
    "\n",
    "\n",
    "\n",
    "# def tokenize(dataframe):\n",
    "#     lst_of_token = []\n",
    "#     for i in dataframe:\n",
    "#         i= i.lower()\n",
    "#         for char in string.punctuation:\n",
    "#             if char == \"'\":\n",
    "#                 i = i.replace(char, \"\")\n",
    "#             else:\n",
    "#                 i = i.replace(char, \" \")\n",
    "#         i\n",
    "#         text = i.split()\n",
    "#         lst_of_token += text\n",
    "#     return lst_of_token\n",
    "# # # print(type(text))\n",
    "# # # all_df = df1\n",
    "# # lst_of_all_token = tokenize(all_df.Comment[:5])\n",
    "# # # df2 = df1[df1.Insult == 1]\n",
    "# lst_of_1_token = tokenize(df3.Comment[:5])\n",
    "    \n",
    "# print(lst_of_1_token)\n",
    "# def tokenstring(i):\n",
    "#     lst_of_token = []\n",
    "#     i= i.lower()\n",
    "#     for char in string.punctuation:\n",
    "#         if char == \"'\":\n",
    "#             i = i.replace(char, \"\")\n",
    "#         else:\n",
    "#             i = i.replace(char, \" \")\n",
    "#         text = i.split()\n",
    "#         lst_of_token += text\n",
    "#     return lst_of_token\n",
    "\n",
    "\n",
    "\n",
    "\n",
    "\n",
    "\n",
    "def tokenize(dataframe):\n",
    "    lst_of_token = []\n",
    "    for i in dataframe:\n",
    "        opt = i.lower()\n",
    "        opt = opt.replace('\"', '',1)\n",
    "        opt = opt.replace('\"',' ', -1)\n",
    "        text = opt.split()\n",
    "        lst_of_token += text\n",
    "    return lst_of_token\n",
    "# # print(type(text))\n",
    "# # all_df = df1\n",
    "# lst_of_all_token = tokenize(all_df.Comment[:5])\n",
    "# # df2 = df1[df1.Insult == 1]\n",
    "# lst_of_1_token = tokenize(df2.Comment[:5])\n",
    "    \n",
    "# print(lst_of_1_token)\n",
    "def tokenstring(i):\n",
    "    lst_of_token = []\n",
    "    opt = i.lower()\n",
    "    opt = opt.replace('\"', '',1)\n",
    "    opt = opt.replace('\"',' ', -1)\n",
    "    text = opt.split()\n",
    "    lst_of_token += text\n",
    "    return lst_of_token\n",
    "\n",
    "\n",
    "df2 = df1[df1.Insult == 0]\n",
    "df3 = df1[df1.Insult == 1]\n",
    "df0 = df1\n",
    "\n",
    "lst_of_0_token = tokenize(df2.Comment)\n",
    "counter_0 = Counter(lst_of_0_token)\n",
    "\n",
    "lst_of_1_token = tokenize(df3.Comment)\n",
    "counter_1 = Counter(lst_of_1_token)\n",
    "\n",
    "lst_of_all_token = tokenize(df1.Comment)\n",
    "counter_all = Counter(lst_of_all_token)\n",
    "\n",
    "print(counter_1)"
   ]
  },
  {
   "cell_type": "code",
   "execution_count": 360,
   "metadata": {},
   "outputs": [
    {
     "name": "stdout",
     "output_type": "stream",
     "text": [
      "['you', 'fuck', 'your', 'dad.', 'shut', 'the', 'fuck', 'up.', 'you', 'and', 'the', 'rest', 'of', 'your', 'faggot', 'friends', 'should', 'be', 'burned', 'at', 'the', 'stake', 'either', 'you', 'are', 'fake', 'or', 'extremely', 'stupid...maybe', 'both...', 'that', 'you', 'are', 'an', 'idiot', 'who', 'understands', 'neither', 'taxation', 'nor', \"women's\", 'health.', 'for', 'some', 'reason', 'u', 'sound', 'retarded.', 'lol.', 'damn.', 'where', 'u', 'been', 'negro']\n"
     ]
    }
   ],
   "source": [
    "lst_of_1_token = tokenize(df3.Comment[:5])\n",
    "    \n",
    "print(lst_of_1_token)"
   ]
  },
  {
   "cell_type": "code",
   "execution_count": 361,
   "metadata": {},
   "outputs": [],
   "source": [
    "\n",
    "# num_of_1 = df1[df1.Insult == 1].Insult.count()\n",
    "# num_of_0 = df1[df1.Insult == 0].Insult.count()\n",
    "# sum_num = df1.Insult.count()"
   ]
  },
  {
   "cell_type": "code",
   "execution_count": null,
   "metadata": {},
   "outputs": [],
   "source": []
  },
  {
   "cell_type": "code",
   "execution_count": 362,
   "metadata": {
    "collapsed": true
   },
   "outputs": [
    {
     "name": "stdout",
     "output_type": "stream",
     "text": [
      "[1, 0, 0, 0, 0, 0, 0, 1, 1, 1, 0, 0, 0, 0, 0, 1, 1, 0, 1, 1, 0, 0, 0, 0, 0, 0, 0, 0, 0, 0, 0, 0, 0, 0, 1, 0, 0, 1, 1, 0, 0, 1, 0, 0, 0, 1, 0, 1, 0, 0, 0, 1, 0, 0, 0, 1, 0, 0, 0, 1, 0, 1, 0, 0, 0, 0, 0, 0, 0, 0, 0, 0, 0, 0, 0, 0, 0, 0, 0, 1, 1, 0, 1, 0, 0, 0, 0, 0, 1, 0, 0, 0, 0, 1, 0, 1, 1, 1, 0, 0, 1, 0, 0, 1, 0, 0, 1, 0, 1, 0, 0, 0, 0, 0, 1, 1, 0, 0, 0, 0, 1, 0, 0, 0, 0, 0, 0, 1, 1, 0, 0, 0, 0, 1, 1, 0, 1, 0, 0, 0, 0, 1, 0, 0, 1, 0, 0, 0, 0, 1, 0, 0, 0, 0, 0, 0, 0, 0, 0, 0, 1, 0, 1, 0, 0, 0, 1, 1, 0, 1, 1, 0, 0, 0, 0, 0, 0, 0, 0, 0, 0, 0, 0, 0, 0, 0, 0, 0, 0, 0, 0, 0, 1, 0, 0, 1, 0, 0, 0, 0, 1, 0, 1, 0, 1, 0, 0, 0, 1, 0, 1, 0, 1, 0, 1, 1, 0, 1, 1, 0, 0, 0, 0, 0, 0, 0, 1, 0, 0, 0, 1, 0, 0, 0, 1, 0, 0, 0, 0, 0, 0, 1, 0, 0, 0, 0, 0, 0, 1, 0, 0, 1, 0, 0, 0, 0, 0, 0, 0, 0, 0, 0, 0, 0, 0, 0, 0, 0, 0, 0, 0, 0, 0, 1, 0, 0, 0, 1, 0, 0, 0, 0, 0, 0, 1, 1, 0, 0, 0, 1, 0, 0, 0, 1, 1, 0, 0, 0, 0, 0, 0, 1, 0, 1, 0, 1, 0, 1, 0, 0, 0, 0, 0, 0, 0, 1, 0, 1, 0, 0, 1, 0, 1, 1, 0, 0, 0, 1, 0, 1, 1, 0, 0, 0, 1, 1, 0, 0, 0, 0, 0, 0, 0, 0, 0, 0, 0, 1, 0, 0, 1, 0, 1, 1, 1, 0, 0, 0, 1, 0, 1, 0, 0, 0, 0, 0, 1, 0, 0, 1, 0, 0, 0, 1, 1, 1, 0, 0, 1, 0, 0, 1, 0, 0, 0, 0, 0, 0, 0, 1, 0, 0, 1, 1, 1, 0, 0, 1, 0, 0, 0, 0, 0, 1, 1, 0, 1, 0, 1, 0, 1, 0, 0, 0, 0, 1, 0, 0, 1, 0, 0, 0, 0, 0, 0, 0, 1, 0, 1, 0, 0, 0, 0, 0, 0, 1, 1, 0, 0, 0, 0, 0, 1, 1, 0, 1, 0, 0, 0, 0, 1, 1, 0, 0, 1, 0, 0, 1, 1, 1, 0, 0, 1, 0, 1, 0, 0, 0, 0, 0, 1, 0, 0, 0, 1, 0, 0, 1, 1, 0, 0, 0, 0, 0, 0, 0, 0, 0, 0, 0, 0, 0, 0, 0, 0, 1, 0, 0, 0, 0, 0, 0, 0, 0, 0, 0, 0, 0, 0, 0, 0, 0, 0, 1, 0, 1, 1, 0, 0, 0, 0, 0, 0, 0, 1, 0, 0, 0, 0, 0, 0, 0, 0, 0, 0, 0, 1, 1, 0, 1, 1, 0, 1, 0, 0, 0, 0, 0, 1, 0, 0, 0, 0, 0, 1, 0, 1, 0, 0, 0, 0, 0, 0, 0, 1, 0, 0, 0, 1, 0, 1, 1, 0, 0, 0, 0, 0, 0, 0, 0, 0, 1, 0, 0, 0, 0, 0, 0, 1, 0, 0, 0, 0, 0, 0, 0, 0, 0, 0, 0, 0, 0, 0, 0, 0, 0, 1, 0, 0, 0, 0, 0, 0, 0, 0, 0, 1, 1, 1, 1, 0, 0, 0, 0, 0, 0, 0, 1, 0, 0, 0, 1, 0, 0, 1, 1, 1, 0, 0, 0, 0, 0, 1, 0, 0, 1, 0, 0, 0, 0, 0, 1, 0, 1, 1, 0, 1, 0, 0, 0, 0, 1, 0, 0, 0, 0, 0, 0, 0, 0, 0, 0, 0, 0, 0, 0, 0, 0, 0, 0, 0, 0, 0, 0, 0, 0, 1, 0, 0, 0, 0, 0, 1, 0, 0, 0, 0, 0, 1, 0, 0, 0, 0, 0, 0, 0, 1, 0, 0, 0, 0, 0, 0, 0, 0, 0, 0, 1, 0, 1, 1, 0, 0, 0, 0, 0, 0, 0, 1, 0, 0, 0, 0, 1, 0, 0, 0, 0, 0, 1, 0, 0, 0, 1, 1, 0, 0, 1, 1, 0, 0, 1, 0, 0, 0, 1, 0, 0, 0, 0, 1, 1, 1, 0, 1, 1, 0, 0, 0, 0, 0, 0, 1, 0, 0, 1, 0, 1, 0, 0, 1, 1, 1, 1, 0, 0, 0, 0, 0, 0, 0, 0, 0, 1, 0, 0, 0, 1, 0, 1, 0, 0, 0, 0, 0, 1, 0, 0, 0, 0, 0, 1, 1, 0, 0, 0, 0, 1, 1, 0, 1, 0, 0, 0, 1, 0, 0, 0, 0, 1, 0, 0, 0, 1, 1, 1, 0, 0, 1, 0, 0, 0, 0, 1, 0, 1, 0, 1, 0, 1, 0, 0, 0, 0, 0, 0, 1, 1, 0, 0, 1, 0, 1, 0, 0, 1, 0, 1, 0, 1, 0, 1, 0, 0, 0, 0, 1, 0, 1, 1, 0, 1, 0, 0, 0, 0, 0, 0, 0, 0, 1, 1, 0, 1, 0, 0, 1, 0, 0, 1, 0, 1, 0, 0, 0, 0, 0, 0, 1, 0, 1, 0, 0, 1, 0, 0, 0, 0, 0, 0, 0, 0, 0, 0, 1, 0, 0, 0, 0, 1, 1, 1, 0, 0, 0, 0, 1, 0, 0, 0, 0, 0, 0, 0, 0, 0, 0, 0, 0, 0, 0, 0, 0, 1, 1, 0, 1, 1, 1, 1, 0, 0, 0, 0, 1, 0, 0, 1, 0, 0, 1, 0, 1, 0, 0, 1, 0, 0, 1, 0, 0, 0, 1, 1, 0, 1, 0, 0, 0, 0, 0, 1, 1, 1, 0, 0, 1, 0, 0, 0, 0, 0, 0, 1, 0, 1, 1, 0, 0, 1, 0, 0, 1, 0, 0, 0, 0, 0, 1, 0, 0, 0, 0, 1, 1, 1, 0, 0, 0, 0, 0, 1, 0, 0, 0, 0, 0, 0, 0, 0, 1, 0, 0, 0, 0, 0, 0, 1, 0, 0, 0, 0, 0, 0, 0, 0, 1, 0, 0, 0, 1, 0, 0, 0, 0, 0, 0, 0, 1, 0, 0, 0, 0, 0, 1, 0, 0, 0, 1, 0, 1, 0, 1, 0, 1, 0, 0, 0, 1, 0, 0, 0, 1, 1, 0, 0, 0, 1, 0, 0, 1, 1, 0, 0, 0, 1, 1, 0, 0, 0, 0, 0, 0, 1, 1, 0, 0, 1, 1, 1, 0, 0, 1, 0, 0, 0, 0, 1, 0, 0, 0, 0, 0, 0, 0, 0, 1, 1, 0, 1, 0, 0, 1, 0, 1, 1, 0, 1, 0, 0, 0, 0, 0, 0, 0, 0, 0, 0, 0, 0, 1, 0, 0, 0, 0, 0, 0, 1, 0, 0, 1, 1, 0, 0, 0, 0, 0, 0, 0, 0, 1, 1, 0, 0, 1, 0, 1, 0, 0, 0, 1, 0, 0, 0, 0, 0, 0, 0, 0, 0, 0, 0, 0, 0, 1, 0, 0, 1, 1, 0, 1, 0, 0, 0, 1, 0, 0, 0, 0, 1, 0, 0, 0, 0, 0, 1, 0, 0, 0, 0, 0, 0, 1, 0, 1, 0, 1, 1, 0, 1, 1, 0, 0, 0, 0, 0, 0, 0, 0, 0, 1, 0, 0, 0, 1, 1, 0, 1, 0, 0, 0, 0, 0, 1, 0, 0, 0, 0, 1, 1, 1, 0, 0, 0, 0, 1, 0, 0, 0, 0, 0, 1, 0, 0, 1, 0, 0, 0, 0, 0, 0, 0, 0, 1, 0, 1, 0, 0, 0, 1, 1, 0, 0, 0, 1, 0, 1, 0, 0, 0, 0, 1, 0, 0, 0, 0, 1, 0, 0, 0, 0, 1, 1, 0, 0, 0, 0, 0, 0, 0, 0, 0, 1, 0, 1, 0, 0, 0, 0, 1, 0, 0, 0, 0, 0, 1, 0, 0, 1, 1, 0, 1, 0, 0, 1, 0, 0, 0, 0, 0, 1, 0, 0, 0, 1, 0, 0, 0, 0, 0, 1, 0, 0, 0, 0, 1, 0, 0, 0, 0, 0, 1, 0, 1, 0, 0, 0, 0, 0, 0, 0, 0, 1, 0, 0, 1, 0, 1, 0, 0, 1, 1, 0, 0, 0, 1, 0, 0, 1, 0, 1, 1, 0, 1, 0, 0, 0, 0, 0, 1, 0, 0, 0, 0, 0, 1, 0, 0, 1, 1, 0, 0, 0, 1, 0, 0, 0, 0, 1, 0, 0, 1, 0, 0, 0, 1, 1, 0, 0, 0, 0, 0, 0, 0, 0, 0, 0, 0, 0, 0, 0, 0, 0, 0, 0, 0, 1, 0, 0, 0, 1, 0, 0, 0, 0, 1, 0, 1, 0, 0, 0, 0, 0, 0, 0, 0, 0, 0, 0, 1, 0, 0, 1, 1, 0, 0, 1, 0, 0, 0, 0, 0, 0, 0, 0, 0, 0, 0, 0, 0, 0, 1, 0, 0, 0, 0, 0, 0, 0, 0, 1, 0, 0, 1, 0, 0, 0, 1, 0, 0, 1, 0, 0, 1, 0, 0, 0, 0, 0, 0, 0, 0, 0, 0, 1, 1, 0, 0, 1, 0, 0, 1, 0, 0, 1, 0, 1, 0, 0, 0, 1, 0, 0, 0, 0, 0, 0, 0, 0, 0, 0, 0, 0, 0, 1, 0, 0, 0, 0, 0, 0, 1, 0, 1, 0, 1, 0, 0, 1, 0, 0, 0, 1, 0, 0, 0, 1, 0, 0, 0, 1, 0, 0, 1, 0, 0, 0, 0, 0, 0, 0, 0, 1, 0, 1, 0, 0, 0, 0, 0, 1, 0, 1, 0, 1, 1, 0, 1, 1, 0, 0, 0, 0, 0, 0, 1, 1, 1, 0, 0, 1, 0, 0, 1, 1, 0, 0, 1, 1, 1, 0, 0, 1, 1, 0, 0, 0, 0, 0, 1, 0, 0, 0, 1, 0, 1, 1, 0, 1, 0, 1, 0, 0, 1, 0, 0, 0, 0, 0, 0, 1, 1, 0, 0, 1, 0, 1, 0, 0, 0, 0, 0, 0, 0, 0, 0, 0, 1, 0, 0, 0, 0, 0, 0, 0, 0, 1, 1, 0, 0, 0, 0, 0, 0, 0, 1, 1, 0, 1, 0, 0, 0, 0, 0, 0, 1, 0, 1, 1, 0, 1, 0, 0, 1, 0, 1, 0, 0, 0, 1, 1, 0, 0, 1, 0, 0, 0, 0, 0, 0, 1, 0, 1, 0, 1, 0, 1, 0, 0, 0, 0, 0, 1, 1, 0, 1, 0, 0, 0, 0, 0, 0, 0, 0, 0, 0, 0, 0, 0, 0, 0, 0, 0, 0, 0, 0, 0, 0, 0, 0, 0, 0, 0, 0, 0, 0, 1, 0, 1, 0, 0, 0, 0, 1, 1, 0, 0, 0, 0, 0, 0, 0, 0, 0, 1, 0, 0, 0, 1, 0, 0, 0, 0, 0, 1, 0, 0, 0, 0, 0, 1, 0, 1, 0, 0, 0, 0, 1, 0, 0, 1, 0, 1, 0, 0, 1, 1, 0, 0, 0, 0, 0, 0, 0, 0, 1, 1, 1, 0, 1, 1, 0, 0, 0, 0, 0, 0, 1, 0, 0, 0, 1, 1, 0, 1, 0, 0, 0, 1, 1, 0, 0, 0, 1, 0, 1, 0, 0, 0, 0, 0, 1, 1, 0, 0, 0, 0, 0, 0, 0, 0, 1, 0, 0, 0, 0, 0, 1, 0, 0, 0, 1, 0, 0, 0, 0, 1, 1, 0, 1, 0, 0, 1, 0, 0, 0, 0, 0, 0, 0, 1, 0, 0, 0, 0, 1, 0, 0, 0, 0, 0, 0, 0, 0, 0, 1, 1, 0, 0, 0, 0, 1, 0, 1, 0, 0, 1, 0, 0, 1, 0, 0, 1, 0, 0, 0, 0, 1, 0, 0, 0, 1, 0, 0, 1, 0, 0, 0, 0, 1, 0, 0, 1, 0, 0, 0, 0, 0, 0, 0, 1, 0, 1, 1, 0, 0, 0, 0, 0, 1, 0, 0, 0, 0, 0, 0, 0, 0, 0, 0, 0, 1, 0, 0, 0, 1, 0, 1, 0, 0, 0, 1, 1, 0, 0, 0, 0, 0, 0, 1, 0, 0, 0, 0, 0, 0, 0, 0, 1, 0, 1, 1, 0, 0, 1, 0, 0, 0, 0, 1, 0, 0, 0, 0, 0, 1, 1, 0, 0, 0, 0, 0, 0, 0, 1, 0, 0, 0, 0, 0, 0, 0, 0, 0, 0, 0, 1, 0, 0, 0, 0, 0, 0, 1, 0, 1, 1, 0, 0, 1, 0, 1, 0, 0, 0, 0, 0, 1, 1, 0, 0, 1, 1, 0, 0, 1, 1, 0, 0, 0, 0, 1, 0, 0, 0, 0, 1, 0, 0, 1, 0, 1, 1, 0, 1, 0, 0, 0, 1, 0, 0, 1, 1, 0, 0, 1, 0, 0, 0, 1, 0, 1, 1, 0, 1, 1, 1, 0, 0, 0, 0, 0, 0, 1, 0, 0, 1, 1, 0, 0, 0, 0, 0, 0, 0, 0, 1, 0, 1, 0, 1, 0, 0, 0, 1, 0, 1, 1, 0, 0, 1, 0, 0, 0, 1, 0, 0, 0, 1, 1, 0, 0, 0, 0, 0, 1, 0, 1, 0, 0, 0, 0, 1, 0, 1, 0, 0, 0, 1, 1, 0, 0, 0, 0, 1, 0, 0, 0, 0, 0, 0, 0, 1, 0, 0, 1, 0, 1, 0, 1, 1, 0, 0, 0, 0, 0, 1, 1, 1, 0, 0, 1, 0, 0, 0, 1, 1, 0, 0, 0, 0, 0, 0, 0, 0, 1, 0, 0, 0, 0, 1, 0, 0, 0, 0, 0, 0, 1, 1, 0, 1, 0, 0, 0, 0, 0, 0, 0, 0, 1, 0, 0, 0, 0, 0, 0, 1, 0, 0, 1, 0, 0, 0, 1, 1, 0, 1, 0, 0, 1, 0, 1, 0, 0, 0, 0, 0, 0, 1, 0, 1, 0, 0, 1, 0, 0, 1, 0, 0, 1, 0, 0, 0, 0, 0, 0, 1, 0, 0, 0, 0, 0, 0, 0, 0, 0, 1, 1, 0, 0, 0, 1, 0, 0, 0, 0, 1, 0, 0, 0, 1, 0, 0, 0, 1, 0, 0, 0, 0, 0, 1, 1, 0, 0, 0, 0, 0, 0, 1, 0, 1, 1, 0, 1, 0, 0, 0, 1, 0, 0, 0, 1, 0, 0, 1, 0, 1, 0, 0, 1, 0, 1, 0, 0, 1, 0, 0, 1, 0, 1, 0, 1, 1, 0, 0, 0, 1, 0, 0, 0, 0, 1, 1, 0, 1, 0, 1, 1, 0, 1, 0, 0, 0, 1, 1, 1, 0, 0, 0, 0, 0, 0, 0, 0, 0, 0, 1, 0, 0, 0, 1, 0, 0, 0, 1, 0, 0, 0, 0, 0, 0, 0, 0, 1, 0, 0, 1, 0, 0, 0, 0, 0, 0, 1, 0, 0, 0, 0, 1, 0, 0, 0, 0, 0, 0, 0, 0, 0, 1, 1, 0, 1, 0, 1, 1, 0, 0, 1, 1, 0, 1, 0, 0, 0, 0, 0, 0, 1, 1, 0, 0, 0, 1, 0, 0, 1, 0, 0, 0, 1, 0, 1, 0, 0, 0, 0, 0, 0, 0, 0, 0, 1, 1, 0, 0, 0, 0, 0, 0, 0, 0, 0, 0, 1, 0, 0, 0, 0, 0, 0, 0, 0, 0, 0, 1, 1, 0, 0, 0, 0, 0, 0, 0, 0, 1, 0, 0, 0, 0, 0, 0, 1, 0, 0, 0, 0, 0, 1, 0, 0, 0, 0, 0, 0, 0, 1, 0, 1, 0, 0, 0, 0, 1, 0, 0, 1, 1, 0, 0, 1, 1, 0, 0, 0, 0, 0, 0, 0, 0, 0, 1, 0, 0, 1, 0, 0, 0, 1, 0, 0, 0, 0, 1, 0, 0, 0, 1, 1, 0, 0, 0, 0, 0, 1, 1, 0, 0, 0, 1, 1, 0, 0, 0, 0, 1, 0, 1, 0, 0, 0, 0, 0, 0, 0, 1, 1, 0, 0, 1, 1, 0, 0, 1, 0, 0, 0, 0, 0, 0, 0, 0, 0, 0, 0, 1, 1, 0, 0, 0, 0, 0, 1, 0, 1, 1, 1, 0, 0, 1, 0, 0, 0, 0, 0, 0, 1, 0, 0, 1, 1, 0, 0, 0, 0, 0, 0, 0, 0, 0, 0, 1, 0, 0, 0, 0, 1, 0, 1, 1, 0, 0, 0, 0, 0, 0, 0, 1, 0, 0, 1, 0, 0, 0, 0, 0, 1, 0, 0, 0, 0, 1, 1, 1, 1, 0, 0, 0, 0, 0, 0, 0, 0, 0, 0, 0, 1, 1, 0, 0, 1, 1, 0, 0, 0, 0, 0, 0, 0, 0, 1, 1, 0, 0, 0, 0, 0, 1, 1, 0, 1, 0, 0, 0, 1, 0, 0, 0, 0, 0, 1, 1, 1, 0, 1, 0, 0, 0, 1, 1, 0, 0, 0, 0, 1, 1, 0, 0, 1, 0, 0, 0, 0, 1, 0, 0, 0, 0, 0, 1, 1, 1, 0, 0, 0, 0, 0, 1, 0, 0, 0, 0, 0, 1, 0, 0, 0, 1, 1, 0, 0, 1, 1, 0, 0, 0, 0, 0, 0, 1, 0, 1, 1, 0, 0, 0, 0, 0, 0, 0, 0, 0, 0, 1, 0, 0, 0, 0, 0, 0, 0, 0, 0, 1, 0, 0, 0, 0, 0, 0, 0, 0, 0, 0, 1, 1, 0, 0, 1, 0, 1, 0, 0, 0, 0, 0, 0, 0, 0, 0, 0, 1, 1, 0, 1, 0, 1, 0, 0, 0, 1, 0, 1, 0, 1, 0, 0, 0, 0, 0, 1, 0, 1, 0, 0, 0, 0, 0, 1, 0, 0, 1, 0, 0, 0, 0, 0, 0, 0, 0, 0, 0, 1, 1, 0, 1, 0, 0, 0, 0, 1, 1, 0, 0, 0, 0, 0, 0, 0, 0, 0, 0, 1, 1, 0, 1, 0, 0, 1, 0, 0, 0, 0, 0, 0, 0, 1, 1, 0, 1, 0, 0, 0, 1, 0, 0, 0, 0, 0, 0, 0, 1, 0, 1, 0, 0, 0, 0, 0, 0, 0, 1, 0, 0, 0, 0, 0, 1, 0, 1, 1, 0, 0, 1, 0, 0, 0, 0, 0, 0, 0, 0, 0, 0, 1, 1, 1, 0, 1, 1, 1, 0, 0, 0, 1, 0, 1, 1, 1, 1, 1, 0, 0, 0, 0, 0, 0, 1, 0, 0, 0, 0, 0, 1, 1, 0, 0, 1, 0, 0, 0, 0, 0, 0, 0, 1, 0, 0, 0, 0, 0, 0, 1, 0, 0, 0, 1, 0, 0, 0, 0, 0, 0, 0, 1, 0, 0, 0, 0, 1, 1, 1, 1, 1, 1, 0, 1, 1, 0, 0, 0, 0, 0, 0, 1, 0, 0, 0, 1, 0, 0, 1, 0, 0, 1, 0, 1, 1, 1, 0, 1, 1, 0, 0, 0, 0, 1, 0, 0, 0, 0, 1, 1, 1, 1, 0, 0, 0, 0, 0, 1, 0, 0, 0, 0, 1, 1, 1, 0, 1, 1, 1, 1, 1, 1, 0, 0, 0, 1, 0, 1, 0, 0, 0, 1, 1, 1, 0, 0, 0, 0, 0, 1, 0, 1, 0, 0, 0, 1, 0, 0, 1, 0, 0, 0, 1, 0, 0, 0, 1, 0, 0, 0, 1, 0, 0, 1, 0, 0, 0, 1, 1, 0, 0, 0, 0, 1, 0, 0, 0, 0, 0, 1, 0, 0, 0, 0, 0, 0, 1, 0, 0, 0, 0, 1, 0, 0, 0, 0, 0, 1, 1, 1, 0, 0, 0, 1, 0, 0, 0, 0, 0, 1, 0, 0, 0, 0, 1, 0, 0, 0, 0, 0, 1, 0, 1, 0, 1, 0, 0, 0, 1, 0, 0, 1, 0, 0, 1, 0, 0, 0, 1, 0, 0, 0, 0, 0, 0, 1, 1, 0, 0, 1, 0, 0, 0, 0, 1, 0, 1, 1, 0, 1, 1, 0, 1, 0, 0, 0, 0, 0, 0, 0, 0, 0, 0, 1, 0, 0, 1, 0, 0, 0, 0, 0, 0, 0, 1, 0, 0, 1, 0, 1, 1, 0, 0, 0, 0, 0, 0, 0, 0, 0, 0, 0, 0, 0, 1, 1, 1, 0, 0, 0, 0, 1, 0, 0, 0, 0, 0, 0, 0, 1, 0, 0, 0, 0, 1, 0, 0, 1, 0, 0, 0, 0, 1, 1, 0, 0, 0, 1, 1, 0, 1, 0, 1, 1, 0, 0, 0, 0, 0, 0, 0, 0, 1, 0, 0, 1, 0, 0, 0, 0, 1, 1, 0, 1, 1, 0, 0, 0, 0, 1, 0, 0, 0, 1, 1, 0, 0, 0, 1, 0, 1, 0, 1, 0, 0, 1, 1, 1, 0, 0, 0, 0, 1, 0, 0, 0, 1, 0, 0, 1, 0, 1, 1, 1, 0, 0, 0, 0, 0, 0, 0, 0, 1, 0, 0, 1, 1, 1, 0, 0, 0, 0, 0, 0, 0, 0, 0, 0, 0, 0, 0, 0, 0, 0, 1, 1, 1, 0, 0, 1, 0, 0, 1, 0, 1, 0, 0, 0, 0, 0, 0, 0, 0, 0, 0, 0, 0, 0, 1, 0, 1, 1, 1, 1, 1, 0, 0, 1, 0, 0, 0, 1, 0, 0, 0, 0, 1, 0, 0, 0, 0, 0, 1, 0, 0, 1, 1, 0, 0, 0, 0, 0, 1, 0, 1, 0, 1, 0, 0, 0, 1, 0, 0, 1, 1, 0, 0, 0, 0, 1, 0, 1, 1, 0, 0, 0, 0, 1, 1, 0, 0, 0, 0, 1, 0, 0, 1, 0, 0, 0, 1, 0, 1, 0, 0, 0, 0, 1, 0, 1, 1, 0, 0, 0, 1, 1, 0, 0, 0, 1, 0, 0, 0, 0, 0, 0, 0, 1, 0, 0, 0, 0, 0, 0, 0, 0, 0, 0, 0, 0, 1, 0, 0, 1, 0, 1, 1, 0, 0, 0, 0, 0, 0, 0, 1, 1, 0, 0, 0, 0, 0, 1, 1, 0, 1, 0, 1, 0, 0, 0, 0, 0, 1, 0, 0, 1, 1, 0, 0, 0, 0, 0, 0, 0, 0, 0, 1, 0, 0, 1, 0, 0, 0, 0, 0, 0, 0, 0, 0, 0, 0, 1, 0, 1, 0, 0, 0, 0, 0, 0, 0, 0, 0, 0, 0, 0, 0, 0, 0, 1, 0, 0, 0, 1, 0, 1, 1, 0, 0, 0, 0, 0, 1, 0, 0, 1, 0, 0, 1, 1, 0, 0, 0, 1, 0, 0, 1, 0, 0, 0, 0, 1, 1, 0, 0, 0, 1, 1, 0, 1, 0, 0, 0, 1, 0, 0, 0, 1, 0, 0, 0, 0, 0, 0, 1, 0, 1, 0, 0, 1, 1, 0, 0, 0, 1, 0, 0, 0, 0, 1, 0, 0, 0, 0, 0, 0, 0, 1, 0, 1, 0, 1, 0, 0, 0, 0, 0, 0, 0, 0, 0, 0, 1, 1, 1, 0, 0, 0, 0, 0, 0, 1, 0, 1, 0, 0, 0, 0, 0, 0, 0, 0, 1, 0, 0, 1, 0, 0, 0, 1, 0, 0, 0, 0, 0, 0, 0, 0, 0, 1, 0, 0, 0, 1, 0, 0, 1, 0, 0, 0, 1, 0, 0, 0, 0, 1, 0, 0, 0, 1, 1, 0, 0, 0, 0, 1, 0, 0, 0, 0, 0, 0, 0, 0, 0, 0, 0, 0, 1, 0, 0, 0, 0, 0, 0, 0, 1, 0, 0, 1, 0, 0, 1, 0, 0, 1, 1, 0, 0, 0, 0, 1, 0, 1, 0, 0, 0, 0, 0, 0, 0, 0, 0, 0, 1, 0, 1, 0, 1, 0, 0, 0, 0, 1, 0, 0, 0, 0, 0, 0, 0, 0, 1, 0, 0, 0, 1, 0, 0, 0, 0, 0, 1, 1, 1, 0, 1, 1, 0, 0, 0, 0, 0, 1, 1, 0, 0, 1, 1, 0, 0, 0, 1, 0, 0, 1, 1, 1, 0, 1, 0, 0, 1, 1, 0, 0, 0, 0, 0, 0, 1, 0, 0, 0, 0]\n"
     ]
    }
   ],
   "source": [
    "all_df = df1\n",
    "lst_of_all_token = tokenize(df1.Comment)\n",
    "whole_word_count = Counter(lst_of_all_token)\n",
    "\n",
    "# print(whole_word_count)\n",
    "print(list(all_df.Insult))\n"
   ]
  },
  {
   "cell_type": "code",
   "execution_count": 363,
   "metadata": {},
   "outputs": [],
   "source": [
    "def smoothing(alpha,counter_name):\n",
    "    word_to_count = counter_name.copy()\n",
    "    V = len(word_to_count)\n",
    "    for w, c in word_to_count.items():\n",
    "        word_to_count[w] += alpha  \n",
    "    word_to_prob = {} \n",
    "    total_counts = float(sum(word_to_count.values()))     \n",
    "    for w, c in word_to_count.items():\n",
    "        word_to_prob[w] = c / total_counts\n",
    "    return word_to_prob\n"
   ]
  },
  {
   "cell_type": "code",
   "execution_count": 364,
   "metadata": {},
   "outputs": [],
   "source": [
    "dict_1 = {}\n",
    "dict_0 = {}\n",
    "for word in counter_1:\n",
    "    dict_1[word] = counter_1[word]\n",
    "    if word not in counter_0:\n",
    "        dict_0[word] = 0\n",
    "for word in counter_0:\n",
    "    dict_0[word]  =counter_0[word]\n",
    "    if word not in counter_1:\n",
    "        dict_1[word] = 0\n",
    "\n",
    "py1 = len(counter_1) / len(counter_all)\n",
    "py0 = len(counter_0) / len(counter_all)\n",
    "\n",
    "\n",
    "\n",
    "\n",
    "def classify(lst_of_word):\n",
    "    pxy1 = 1\n",
    "    pxy0 = 1\n",
    "    for word in lst_of_word:\n",
    "        if word in counter_all:\n",
    "            pxy1 *=  prodict1[word]*(10**5)\n",
    "#             print(pxy1)\n",
    "            pxy0 *=  prodict0[word]*(10**5)\n",
    "#             print(pxy0)\n",
    "    assume1 = py1*pxy1 / (py1*pxy1 + py0*pxy0)\n",
    "    assume0 = py0*pxy0 / (py1*pxy1 + py0*pxy0)\n",
    "#     print(assume1)\n",
    "#     print(assume0)\n",
    "    if assume1 > assume0:\n",
    "        result = 1\n",
    "    else:\n",
    "        result = 0\n",
    "    return result\n",
    "\n",
    "\n",
    "\n",
    "        \n",
    "    \n",
    "    \n",
    "    \n",
    "    \n",
    "    \n",
    "    \n",
    "    \n",
    "    \n",
    "    \n",
    "    \n",
    "    "
   ]
  },
  {
   "cell_type": "code",
   "execution_count": 367,
   "metadata": {},
   "outputs": [
    {
     "data": {
      "text/plain": [
       "0.9733975171015962"
      ]
     },
     "execution_count": 367,
     "metadata": {},
     "output_type": "execute_result"
    }
   ],
   "source": [
    "alpha = 0.0009\n",
    "prodict1 = smoothing(alpha, dict_1)\n",
    "prodict0 = smoothing(alpha,dict_0)\n",
    "    \n",
    "\n",
    "def train(alpha):\n",
    "    new_result = []\n",
    "    for row in df1.Comment:\n",
    "        lst_text = tokenstring(row)\n",
    "        result = classify(lst_text)\n",
    "        new_result.append(result)\n",
    "#  \n",
    "    true = list(df1.Insult)\n",
    "    F1 = f1_score(true, new_result, average='micro')\n",
    "    return F1\n",
    "\n",
    "train(alpha)\n"
   ]
  },
  {
   "cell_type": "code",
   "execution_count": 323,
   "metadata": {
    "scrolled": true
   },
   "outputs": [
    {
     "data": {
      "text/html": [
       "<div>\n",
       "<style scoped>\n",
       "    .dataframe tbody tr th:only-of-type {\n",
       "        vertical-align: middle;\n",
       "    }\n",
       "\n",
       "    .dataframe tbody tr th {\n",
       "        vertical-align: top;\n",
       "    }\n",
       "\n",
       "    .dataframe thead th {\n",
       "        text-align: right;\n",
       "    }\n",
       "</style>\n",
       "<table border=\"1\" class=\"dataframe\">\n",
       "  <thead>\n",
       "    <tr style=\"text-align: right;\">\n",
       "      <th></th>\n",
       "      <th>Insult</th>\n",
       "      <th>Comment</th>\n",
       "    </tr>\n",
       "  </thead>\n",
       "  <tbody>\n",
       "    <tr>\n",
       "      <th>0</th>\n",
       "      <td>0</td>\n",
       "      <td>\"THE DRUDGE REPORT\\\\n\\\\n\\\\n\\\\nYou won't see th...</td>\n",
       "    </tr>\n",
       "    <tr>\n",
       "      <th>1</th>\n",
       "      <td>0</td>\n",
       "      <td>\"@ian21\\xa0\"Roger Clemens is the fucking man, ...</td>\n",
       "    </tr>\n",
       "    <tr>\n",
       "      <th>2</th>\n",
       "      <td>0</td>\n",
       "      <td>\"Agree with Alan you are an extremest idiot.  ...</td>\n",
       "    </tr>\n",
       "    <tr>\n",
       "      <th>3</th>\n",
       "      <td>0</td>\n",
       "      <td>\"Really?\\\\n\\\\nI see Marc Lamont Hill on variou...</td>\n",
       "    </tr>\n",
       "    <tr>\n",
       "      <th>4</th>\n",
       "      <td>0</td>\n",
       "      <td>\"Really suck isn't the word, when many of our ...</td>\n",
       "    </tr>\n",
       "  </tbody>\n",
       "</table>\n",
       "</div>"
      ],
      "text/plain": [
       "   Insult                                            Comment\n",
       "0       0  \"THE DRUDGE REPORT\\\\n\\\\n\\\\n\\\\nYou won't see th...\n",
       "1       0  \"@ian21\\xa0\"Roger Clemens is the fucking man, ...\n",
       "2       0  \"Agree with Alan you are an extremest idiot.  ...\n",
       "3       0  \"Really?\\\\n\\\\nI see Marc Lamont Hill on variou...\n",
       "4       0  \"Really suck isn't the word, when many of our ..."
      ]
     },
     "execution_count": 323,
     "metadata": {},
     "output_type": "execute_result"
    }
   ],
   "source": [
    "\n",
    "def test(alpha):\n",
    "    new_result = []\n",
    "    for row in test_data.Comment:\n",
    "        lst_text = tokenstring(row)\n",
    "#         print(lst_text)\n",
    "        result = classify(lst_text)\n",
    "        new_result.append(result)\n",
    "#         print(result)\n",
    "    true = list(df1.Insult)\n",
    "#     F1 = f1_score(true, new_result, average='micro')\n",
    "    return new_result\n",
    "    \n",
    "test_data.Insult = test(alpha)\n",
    "test_data.head()\n"
   ]
  },
  {
   "cell_type": "code",
   "execution_count": 324,
   "metadata": {},
   "outputs": [],
   "source": [
    "test_data.to_csv('test_1.csv',index = False)"
   ]
  },
  {
   "cell_type": "code",
   "execution_count": null,
   "metadata": {},
   "outputs": [],
   "source": []
  },
  {
   "cell_type": "code",
   "execution_count": null,
   "metadata": {},
   "outputs": [],
   "source": []
  },
  {
   "cell_type": "code",
   "execution_count": null,
   "metadata": {},
   "outputs": [],
   "source": []
  },
  {
   "cell_type": "code",
   "execution_count": null,
   "metadata": {},
   "outputs": [],
   "source": []
  },
  {
   "cell_type": "code",
   "execution_count": null,
   "metadata": {},
   "outputs": [],
   "source": [
    "def frange(start, stop, step):\n",
    "    i = start\n",
    "    while i < stop:\n",
    "        yield i\n",
    "        i += step"
   ]
  },
  {
   "cell_type": "code",
   "execution_count": null,
   "metadata": {},
   "outputs": [],
   "source": [
    "maxscore = 0\n",
    "for alpha in frange(0.0001,0.001,0.0001):\n",
    "    score = test(alpha)\n",
    "    if score > maxscore:\n",
    "        maxscore = score\n",
    "        new_alpha = alpha\n",
    "# print(maxscore,alpha)\n",
    "        "
   ]
  },
  {
   "cell_type": "code",
   "execution_count": 223,
   "metadata": {},
   "outputs": [],
   "source": [
    "\n",
    "\n",
    "        \n",
    "    \n",
    "\n"
   ]
  },
  {
   "cell_type": "code",
   "execution_count": null,
   "metadata": {},
   "outputs": [],
   "source": []
  },
  {
   "cell_type": "code",
   "execution_count": 299,
   "metadata": {},
   "outputs": [
    {
     "ename": "TypeError",
     "evalue": "'float' object is not iterable",
     "output_type": "error",
     "traceback": [
      "\u001b[0;31m---------------------------------------------------------------------------\u001b[0m",
      "\u001b[0;31mTypeError\u001b[0m                                 Traceback (most recent call last)",
      "\u001b[0;32m<ipython-input-299-75b5c3c34b22>\u001b[0m in \u001b[0;36m<module>\u001b[0;34m()\u001b[0m\n\u001b[1;32m     12\u001b[0m         \u001b[0mrow\u001b[0m \u001b[0;34m=\u001b[0m \u001b[0mnew_result\u001b[0m\u001b[0;34m[\u001b[0m\u001b[0mindex\u001b[0m\u001b[0;34m]\u001b[0m\u001b[0;34m\u001b[0m\u001b[0m\n\u001b[1;32m     13\u001b[0m \u001b[0;34m\u001b[0m\u001b[0m\n\u001b[0;32m---> 14\u001b[0;31m \u001b[0mtest\u001b[0m\u001b[0;34m(\u001b[0m\u001b[0malpha\u001b[0m\u001b[0;34m)\u001b[0m\u001b[0;34m\u001b[0m\u001b[0m\n\u001b[0m\u001b[1;32m     15\u001b[0m \u001b[0mtest_data\u001b[0m\u001b[0;34m.\u001b[0m\u001b[0mhead\u001b[0m\u001b[0;34m(\u001b[0m\u001b[0;34m)\u001b[0m\u001b[0;34m\u001b[0m\u001b[0m\n",
      "\u001b[0;32m<ipython-input-299-75b5c3c34b22>\u001b[0m in \u001b[0;36mtest\u001b[0;34m(alpha)\u001b[0m\n\u001b[1;32m      5\u001b[0m         \u001b[0mlst_text\u001b[0m \u001b[0;34m=\u001b[0m \u001b[0mtokenstring\u001b[0m\u001b[0;34m(\u001b[0m\u001b[0mrow\u001b[0m\u001b[0;34m)\u001b[0m\u001b[0;34m\u001b[0m\u001b[0m\n\u001b[1;32m      6\u001b[0m \u001b[0;31m#         print(lst_text)\u001b[0m\u001b[0;34m\u001b[0m\u001b[0;34m\u001b[0m\u001b[0m\n\u001b[0;32m----> 7\u001b[0;31m         \u001b[0mresult\u001b[0m \u001b[0;34m=\u001b[0m \u001b[0mclassify\u001b[0m\u001b[0;34m(\u001b[0m\u001b[0malpha\u001b[0m\u001b[0;34m)\u001b[0m\u001b[0;34m\u001b[0m\u001b[0m\n\u001b[0m\u001b[1;32m      8\u001b[0m         \u001b[0mnew_result\u001b[0m\u001b[0;34m.\u001b[0m\u001b[0mappend\u001b[0m\u001b[0;34m(\u001b[0m\u001b[0mresult\u001b[0m\u001b[0;34m)\u001b[0m\u001b[0;34m\u001b[0m\u001b[0m\n\u001b[1;32m      9\u001b[0m \u001b[0;31m#         print(result)\u001b[0m\u001b[0;34m\u001b[0m\u001b[0;34m\u001b[0m\u001b[0m\n",
      "\u001b[0;32m<ipython-input-294-70088faf8f90>\u001b[0m in \u001b[0;36mclassify\u001b[0;34m(lst_of_word)\u001b[0m\n\u001b[1;32m     20\u001b[0m     \u001b[0mpxy1\u001b[0m \u001b[0;34m=\u001b[0m \u001b[0;36m1\u001b[0m\u001b[0;34m\u001b[0m\u001b[0m\n\u001b[1;32m     21\u001b[0m     \u001b[0mpxy0\u001b[0m \u001b[0;34m=\u001b[0m \u001b[0;36m1\u001b[0m\u001b[0;34m\u001b[0m\u001b[0m\n\u001b[0;32m---> 22\u001b[0;31m     \u001b[0;32mfor\u001b[0m \u001b[0mword\u001b[0m \u001b[0;32min\u001b[0m \u001b[0mlst_of_word\u001b[0m\u001b[0;34m:\u001b[0m\u001b[0;34m\u001b[0m\u001b[0m\n\u001b[0m\u001b[1;32m     23\u001b[0m         \u001b[0;32mif\u001b[0m \u001b[0mword\u001b[0m \u001b[0;32min\u001b[0m \u001b[0mcounter_all\u001b[0m\u001b[0;34m:\u001b[0m\u001b[0;34m\u001b[0m\u001b[0m\n\u001b[1;32m     24\u001b[0m             \u001b[0mpxy1\u001b[0m \u001b[0;34m*=\u001b[0m  \u001b[0mprodict1\u001b[0m\u001b[0;34m[\u001b[0m\u001b[0mword\u001b[0m\u001b[0;34m]\u001b[0m\u001b[0;34m*\u001b[0m\u001b[0;34m(\u001b[0m\u001b[0;36m10\u001b[0m\u001b[0;34m**\u001b[0m\u001b[0;36m5\u001b[0m\u001b[0;34m)\u001b[0m\u001b[0;34m\u001b[0m\u001b[0m\n",
      "\u001b[0;31mTypeError\u001b[0m: 'float' object is not iterable"
     ]
    }
   ],
   "source": [
    "\n",
    "def test(alpha):\n",
    "    new_result = []\n",
    "    for row in test_data.Comment:\n",
    "        lst_text = tokenstring(row)\n",
    "#         print(lst_text)\n",
    "        result = classify(alpha)\n",
    "        new_result.append(result)\n",
    "#         print(result)\n",
    "    true = list(df1.Insult)\n",
    "\n",
    "        \n",
    "\n"
   ]
  },
  {
   "cell_type": "code",
   "execution_count": null,
   "metadata": {},
   "outputs": [],
   "source": []
  }
 ],
 "metadata": {
  "kernelspec": {
   "display_name": "Python 3",
   "language": "python",
   "name": "python3"
  },
  "language_info": {
   "codemirror_mode": {
    "name": "ipython",
    "version": 3
   },
   "file_extension": ".py",
   "mimetype": "text/x-python",
   "name": "python",
   "nbconvert_exporter": "python",
   "pygments_lexer": "ipython3",
   "version": "3.6.5"
  }
 },
 "nbformat": 4,
 "nbformat_minor": 2
}
