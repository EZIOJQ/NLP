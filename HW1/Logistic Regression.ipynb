{
 "cells": [
  {
   "cell_type": "code",
   "execution_count": 261,
   "metadata": {},
   "outputs": [],
   "source": [
    "from sklearn.metrics import f1_score\n",
    "import pandas as pd\n",
    "import numpy as np\n",
    "import re\n",
    "from collections import Counter\n",
    "from collections import defaultdict\n",
    "import copy\n",
    "\n",
    "from scipy.sparse import csr_matrix\n",
    "from sklearn.naive_bayes import BernoulliNB\n",
    "\n",
    "from  math import exp\n",
    "import random\n",
    "\n",
    "\n",
    "\n",
    "\n",
    "\n",
    "\n",
    "\n",
    "\n"
   ]
  },
  {
   "cell_type": "code",
   "execution_count": 447,
   "metadata": {},
   "outputs": [],
   "source": [
    "df1 = pd.read_csv(\"train.csv\")\n",
    "df2 = df1[df1.Insult == 0]\n",
    "df3 = df1[df1.Insult == 1]\n",
    "df0 = df1\n",
    "\n",
    "lst_of_0_token = tokenize(df2.Comment)\n",
    "counter_0 = Counter(lst_of_0_token)\n",
    "\n",
    "lst_of_1_token = tokenize(df3.Comment)\n",
    "counter_1 = Counter(lst_of_1_token)\n",
    "\n",
    "lst_of_all_token = tokenize(df1.Comment)\n",
    "counter_all = Counter(lst_of_all_token)\n",
    "\n",
    "\n"
   ]
  },
  {
   "cell_type": "code",
   "execution_count": 448,
   "metadata": {},
   "outputs": [
    {
     "name": "stdout",
     "output_type": "stream",
     "text": [
      "24882\n"
     ]
    }
   ],
   "source": [
    "print(len(counter_all))"
   ]
  },
  {
   "cell_type": "code",
   "execution_count": 449,
   "metadata": {},
   "outputs": [],
   "source": [
    "\n",
    "\n",
    "#     print(text)\n",
    "def tokenize(dataframe):\n",
    "    lst_of_token = []\n",
    "    for i in dataframe:\n",
    "        opt = i.lower()\n",
    "        opt = opt.replace('\"', '',1)\n",
    "        opt = opt.replace('\"',' ', -1)\n",
    "        text = opt.split()\n",
    "        lst_of_token += text\n",
    "    return lst_of_token\n",
    "# # print(type(text))\n",
    "# # all_df = df1\n",
    "# lst_of_all_token = tokenize(all_df.Comment[:5])\n",
    "# # df2 = df1[df1.Insult == 1]\n",
    "# lst_of_1_token = tokenize(df2.Comment[:5])\n",
    "    \n",
    "# print(lst_of_1_token)\n",
    "def tokenstring(i):\n",
    "    lst_of_token = []\n",
    "    opt = i.lower()\n",
    "    opt = opt.replace('\"', '',1)\n",
    "    opt = opt.replace('\"',' ', -1)\n",
    "    text = opt.split()\n",
    "    lst_of_token += text\n",
    "    return lst_of_token\n",
    "\n"
   ]
  },
  {
   "cell_type": "code",
   "execution_count": 450,
   "metadata": {},
   "outputs": [],
   "source": [
    "def sigmoid(X):\n",
    "    \n",
    "    result = 1 / (1+ math.exp(-X))\n",
    "    return result\n"
   ]
  },
  {
   "cell_type": "code",
   "execution_count": 451,
   "metadata": {},
   "outputs": [],
   "source": [
    "all_dict = counter_all\n",
    "all_dict = dict.fromkeys(all_dict,0)\n",
    "# print(all_dict)\n",
    "all_dict['BIAS'] = 1"
   ]
  },
  {
   "cell_type": "code",
   "execution_count": 452,
   "metadata": {},
   "outputs": [],
   "source": [
    "\n",
    "def make_comment_dict_lst():\n",
    "    lst_of_comment_dict = []\n",
    "    for i in df1.Comment:\n",
    "        lst_of_comment = tokenstring(i)\n",
    "        count_comment = Counter(lst_of_comment)\n",
    "        count_comment['BIAS'] = 1\n",
    "        lst_of_comment_dict.append(count_comment)\n",
    "#     print(lst_of_comment_dict[:1])\n",
    "    return lst_of_comment_dict"
   ]
  },
  {
   "cell_type": "code",
   "execution_count": 453,
   "metadata": {},
   "outputs": [],
   "source": [
    "comment_dict_lst = make_comment_dict_lst()"
   ]
  },
  {
   "cell_type": "code",
   "execution_count": 454,
   "metadata": {},
   "outputs": [
    {
     "data": {
      "text/plain": [
       "array([0., 0., 0., ..., 0., 0., 0.])"
      ]
     },
     "execution_count": 454,
     "metadata": {},
     "output_type": "execute_result"
    }
   ],
   "source": [
    "b = np.zeros(len(all_dict))\n",
    "# sparse_b = csr_matrix(b)\n",
    "default_b = b.T\n",
    "default_b"
   ]
  },
  {
   "cell_type": "code",
   "execution_count": 455,
   "metadata": {},
   "outputs": [],
   "source": [
    "\n",
    "def make_row_matrix(lst):\n",
    "\n",
    "    row_array_dict = {}\n",
    "    n = 0\n",
    "    for i in lst:\n",
    "        new_array_list = []\n",
    "        all_dict = counter_all\n",
    "        all_dict = dict.fromkeys(all_dict,0)\n",
    "        all_dict['BIAS'] = 1\n",
    "        for word in dict(i):\n",
    "    #         print(word)\n",
    "            all_dict[word] = i[word]\n",
    "        new_array = np.array(list(all_dict.values()))\n",
    "    #     print(new_array)\n",
    "        sparse_matrix = csr_matrix(new_array)\n",
    "    #     print(sparse_matrix)\n",
    "        row_array_dict[n] = sparse_matrix\n",
    "        n += 1\n",
    "#         print(array_dict)\n",
    "    return row_array_dict\n"
   ]
  },
  {
   "cell_type": "code",
   "execution_count": 456,
   "metadata": {},
   "outputs": [],
   "source": [
    "row_array_dict = make_row_matrix(comment_dict_lst)\n"
   ]
  },
  {
   "cell_type": "code",
   "execution_count": 457,
   "metadata": {},
   "outputs": [],
   "source": [
    "# print(row_array_dict)"
   ]
  },
  {
   "cell_type": "code",
   "execution_count": 458,
   "metadata": {},
   "outputs": [
    {
     "name": "stdout",
     "output_type": "stream",
     "text": [
      "{0: <1x24883 sparse matrix of type '<class 'numpy.int64'>'\n",
      "\twith 5 stored elements in Compressed Sparse Row format>}\n"
     ]
    }
   ],
   "source": [
    "test_dict = {}\n",
    "test_dict[0] = row_array_dict[0]\n",
    "print(test_dict)"
   ]
  },
  {
   "cell_type": "code",
   "execution_count": 461,
   "metadata": {},
   "outputs": [],
   "source": [
    "def make_X_dict(array_dict, b):\n",
    "    X_dict = {}\n",
    "    n = 0\n",
    "    for array in array_dict.values():\n",
    "        sumxb = array.dot(b)\n",
    "        X_dict[n]  =sumxb\n",
    "        n+=1\n",
    "    return X_dict\n",
    "\n",
    "    "
   ]
  },
  {
   "cell_type": "code",
   "execution_count": 462,
   "metadata": {},
   "outputs": [],
   "source": [
    "x_test = make_X_dict(test_dict,default_b)"
   ]
  },
  {
   "cell_type": "code",
   "execution_count": 463,
   "metadata": {},
   "outputs": [],
   "source": [
    "def make_true_value():\n",
    "    true_lst = []\n",
    "    for row in df1.Insult:\n",
    "        true_lst.append(row)\n",
    "    return true_lst\n"
   ]
  },
  {
   "cell_type": "code",
   "execution_count": 464,
   "metadata": {},
   "outputs": [],
   "source": [
    "true = make_true_value()"
   ]
  },
  {
   "cell_type": "code",
   "execution_count": 465,
   "metadata": {},
   "outputs": [],
   "source": [
    "def Likelihood(array, index, test_b):\n",
    "    sumxb = array.dot(test_b)\n",
    "#     print(type(sumxb))\n",
    "    sig  = sigmoid(sumxb)\n",
    "#     diff = true[index] - sig\n",
    "    return sig\n",
    "\n"
   ]
  },
  {
   "cell_type": "code",
   "execution_count": 466,
   "metadata": {},
   "outputs": [],
   "source": [
    "def FindF1(beta):\n",
    "    index = 0\n",
    "    pro = []\n",
    "    for i in row_array_dict.values():\n",
    "        sig = Likelihood(i,index, beta)\n",
    "        if sig > 0.5:\n",
    "            pro.append(1)\n",
    "        else:\n",
    "            pro.append(0)\n",
    "    f1 = f1_score(true, pro, average='micro')\n",
    "            \n",
    "    \n",
    "    \n",
    "    \n",
    "    \n",
    "    return f1\n",
    "\n",
    "# print(FindF1(default_b))\n",
    "    "
   ]
  },
  {
   "cell_type": "code",
   "execution_count": 467,
   "metadata": {},
   "outputs": [],
   "source": [
    "def descent(alpha):\n",
    "    b = np.zeros((len(all_dict),1))\n",
    "    round_num = 0\n",
    "    F1 = 0\n",
    "    while round_num < 89:\n",
    "#         i = numpy.random.random_integers(len(df1.Comment)-1)\n",
    "        print(\"round\", round_num)\n",
    "        for loop in range(len(df1.Comment)):\n",
    "#             print(\"loop\", i)\n",
    "            i = numpy.random.random_integers(len(df1.Comment)-1)\n",
    "            like = Likelihood(row_array_dict[i], i, b)\n",
    "\n",
    "#             print(like)\n",
    "            ara = alpha *(true[i] - like)*(row_array_dict[i].T)\n",
    "#             print(ara)\n",
    "    #         print(type(b))\n",
    "            b = b + ara\n",
    "        F1 = FindF1(b)\n",
    "        print(F1)\n",
    "        round_num += 1\n",
    "    #         print(b)\n",
    "#             if abs(FindF1(b) - F1 ) > 0.1:\n",
    "#                 F1 = FindF1(b)\n",
    "#                 print(F1)\n",
    "    return b,F1"
   ]
  },
  {
   "cell_type": "code",
   "execution_count": 468,
   "metadata": {
    "collapsed": true
   },
   "outputs": [
    {
     "name": "stdout",
     "output_type": "stream",
     "text": [
      "round 0\n"
     ]
    },
    {
     "name": "stderr",
     "output_type": "stream",
     "text": [
      "/anaconda3/lib/python3.6/site-packages/ipykernel_launcher.py:10: DeprecationWarning: This function is deprecated. Please call randint(1, 3946 + 1) instead\n",
      "  # Remove the CWD from sys.path while we load stuff.\n"
     ]
    },
    {
     "name": "stdout",
     "output_type": "stream",
     "text": [
      "0.7785659994932861\n",
      "round 1\n",
      "0.7945274892323283\n",
      "round 2\n",
      "0.827717253610337\n",
      "round 3\n",
      "0.8358246769698505\n",
      "round 4\n",
      "0.8406384595895617\n",
      "round 5\n",
      "0.8484925259690904\n",
      "round 6\n"
     ]
    },
    {
     "ename": "KeyboardInterrupt",
     "evalue": "",
     "output_type": "error",
     "traceback": [
      "\u001b[0;31m---------------------------------------------------------------------------\u001b[0m",
      "\u001b[0;31mKeyboardInterrupt\u001b[0m                         Traceback (most recent call last)",
      "\u001b[0;32m<ipython-input-468-4c8902080bd0>\u001b[0m in \u001b[0;36m<module>\u001b[0;34m()\u001b[0m\n\u001b[0;32m----> 1\u001b[0;31m \u001b[0mdescent\u001b[0m\u001b[0;34m(\u001b[0m\u001b[0;36m0.01\u001b[0m\u001b[0;34m)\u001b[0m\u001b[0;34m\u001b[0m\u001b[0m\n\u001b[0m",
      "\u001b[0;32m<ipython-input-467-9ff4cf4799b2>\u001b[0m in \u001b[0;36mdescent\u001b[0;34m(alpha)\u001b[0m\n\u001b[1;32m      8\u001b[0m         \u001b[0;32mfor\u001b[0m \u001b[0mloop\u001b[0m \u001b[0;32min\u001b[0m \u001b[0mrange\u001b[0m\u001b[0;34m(\u001b[0m\u001b[0mlen\u001b[0m\u001b[0;34m(\u001b[0m\u001b[0mdf1\u001b[0m\u001b[0;34m.\u001b[0m\u001b[0mComment\u001b[0m\u001b[0;34m)\u001b[0m\u001b[0;34m)\u001b[0m\u001b[0;34m:\u001b[0m\u001b[0;34m\u001b[0m\u001b[0m\n\u001b[1;32m      9\u001b[0m \u001b[0;31m#             print(\"loop\", i)\u001b[0m\u001b[0;34m\u001b[0m\u001b[0;34m\u001b[0m\u001b[0m\n\u001b[0;32m---> 10\u001b[0;31m             \u001b[0mi\u001b[0m \u001b[0;34m=\u001b[0m \u001b[0mnumpy\u001b[0m\u001b[0;34m.\u001b[0m\u001b[0mrandom\u001b[0m\u001b[0;34m.\u001b[0m\u001b[0mrandom_integers\u001b[0m\u001b[0;34m(\u001b[0m\u001b[0mlen\u001b[0m\u001b[0;34m(\u001b[0m\u001b[0mdf1\u001b[0m\u001b[0;34m.\u001b[0m\u001b[0mComment\u001b[0m\u001b[0;34m)\u001b[0m\u001b[0;34m-\u001b[0m\u001b[0;36m1\u001b[0m\u001b[0;34m)\u001b[0m\u001b[0;34m\u001b[0m\u001b[0m\n\u001b[0m\u001b[1;32m     11\u001b[0m             \u001b[0mlike\u001b[0m \u001b[0;34m=\u001b[0m \u001b[0mLikelihood\u001b[0m\u001b[0;34m(\u001b[0m\u001b[0mrow_array_dict\u001b[0m\u001b[0;34m[\u001b[0m\u001b[0mi\u001b[0m\u001b[0;34m]\u001b[0m\u001b[0;34m,\u001b[0m \u001b[0mi\u001b[0m\u001b[0;34m,\u001b[0m \u001b[0mb\u001b[0m\u001b[0;34m)\u001b[0m\u001b[0;34m\u001b[0m\u001b[0m\n\u001b[1;32m     12\u001b[0m \u001b[0;34m\u001b[0m\u001b[0m\n",
      "\u001b[0;32m/anaconda3/lib/python3.6/site-packages/pandas/core/series.py\u001b[0m in \u001b[0;36m__len__\u001b[0;34m(self)\u001b[0m\n\u001b[1;32m    563\u001b[0m         \u001b[0;32mreturn\u001b[0m \u001b[0mthe\u001b[0m \u001b[0mlength\u001b[0m \u001b[0mof\u001b[0m \u001b[0mthe\u001b[0m \u001b[0mSeries\u001b[0m\u001b[0;34m\u001b[0m\u001b[0m\n\u001b[1;32m    564\u001b[0m         \"\"\"\n\u001b[0;32m--> 565\u001b[0;31m         \u001b[0;32mreturn\u001b[0m \u001b[0mlen\u001b[0m\u001b[0;34m(\u001b[0m\u001b[0mself\u001b[0m\u001b[0;34m.\u001b[0m\u001b[0m_data\u001b[0m\u001b[0;34m)\u001b[0m\u001b[0;34m\u001b[0m\u001b[0m\n\u001b[0m\u001b[1;32m    566\u001b[0m \u001b[0;34m\u001b[0m\u001b[0m\n\u001b[1;32m    567\u001b[0m     \u001b[0;32mdef\u001b[0m \u001b[0mview\u001b[0m\u001b[0;34m(\u001b[0m\u001b[0mself\u001b[0m\u001b[0;34m,\u001b[0m \u001b[0mdtype\u001b[0m\u001b[0;34m=\u001b[0m\u001b[0;32mNone\u001b[0m\u001b[0;34m)\u001b[0m\u001b[0;34m:\u001b[0m\u001b[0;34m\u001b[0m\u001b[0m\n",
      "\u001b[0;32m/anaconda3/lib/python3.6/site-packages/pandas/core/internals.py\u001b[0m in \u001b[0;36m__len__\u001b[0;34m(self)\u001b[0m\n\u001b[1;32m   3472\u001b[0m \u001b[0;34m\u001b[0m\u001b[0m\n\u001b[1;32m   3473\u001b[0m     \u001b[0;32mdef\u001b[0m \u001b[0m__len__\u001b[0m\u001b[0;34m(\u001b[0m\u001b[0mself\u001b[0m\u001b[0;34m)\u001b[0m\u001b[0;34m:\u001b[0m\u001b[0;34m\u001b[0m\u001b[0m\n\u001b[0;32m-> 3474\u001b[0;31m         \u001b[0;32mreturn\u001b[0m \u001b[0mlen\u001b[0m\u001b[0;34m(\u001b[0m\u001b[0mself\u001b[0m\u001b[0;34m.\u001b[0m\u001b[0mitems\u001b[0m\u001b[0;34m)\u001b[0m\u001b[0;34m\u001b[0m\u001b[0m\n\u001b[0m\u001b[1;32m   3475\u001b[0m \u001b[0;34m\u001b[0m\u001b[0m\n\u001b[1;32m   3476\u001b[0m     \u001b[0;32mdef\u001b[0m \u001b[0m__unicode__\u001b[0m\u001b[0;34m(\u001b[0m\u001b[0mself\u001b[0m\u001b[0;34m)\u001b[0m\u001b[0;34m:\u001b[0m\u001b[0;34m\u001b[0m\u001b[0m\n",
      "\u001b[0;31mKeyboardInterrupt\u001b[0m: "
     ]
    }
   ],
   "source": [
    "descent(0.01)"
   ]
  },
  {
   "cell_type": "code",
   "execution_count": 368,
   "metadata": {},
   "outputs": [],
   "source": [
    "dev_df = pd.read_csv('dev.csv')"
   ]
  },
  {
   "cell_type": "code",
   "execution_count": 369,
   "metadata": {},
   "outputs": [
    {
     "data": {
      "text/html": [
       "<div>\n",
       "<style scoped>\n",
       "    .dataframe tbody tr th:only-of-type {\n",
       "        vertical-align: middle;\n",
       "    }\n",
       "\n",
       "    .dataframe tbody tr th {\n",
       "        vertical-align: top;\n",
       "    }\n",
       "\n",
       "    .dataframe thead th {\n",
       "        text-align: right;\n",
       "    }\n",
       "</style>\n",
       "<table border=\"1\" class=\"dataframe\">\n",
       "  <thead>\n",
       "    <tr style=\"text-align: right;\">\n",
       "      <th></th>\n",
       "      <th>Insult</th>\n",
       "      <th>Comment</th>\n",
       "    </tr>\n",
       "  </thead>\n",
       "  <tbody>\n",
       "    <tr>\n",
       "      <th>0</th>\n",
       "      <td>0</td>\n",
       "      <td>\"like this if you are a tribe fan\"</td>\n",
       "    </tr>\n",
       "    <tr>\n",
       "      <th>1</th>\n",
       "      <td>1</td>\n",
       "      <td>\"you're idiot.......................\"</td>\n",
       "    </tr>\n",
       "    <tr>\n",
       "      <th>2</th>\n",
       "      <td>1</td>\n",
       "      <td>\"I am a woman Babs, and the only \"war on women...</td>\n",
       "    </tr>\n",
       "    <tr>\n",
       "      <th>3</th>\n",
       "      <td>1</td>\n",
       "      <td>\"WOW &amp; YOU BENEFITTED SO MANY WINS THIS YEAR F...</td>\n",
       "    </tr>\n",
       "    <tr>\n",
       "      <th>4</th>\n",
       "      <td>1</td>\n",
       "      <td>\"haha green me red you now loser whos winning ...</td>\n",
       "    </tr>\n",
       "  </tbody>\n",
       "</table>\n",
       "</div>"
      ],
      "text/plain": [
       "   Insult                                            Comment\n",
       "0       0                 \"like this if you are a tribe fan\"\n",
       "1       1              \"you're idiot.......................\"\n",
       "2       1  \"I am a woman Babs, and the only \"war on women...\n",
       "3       1  \"WOW & YOU BENEFITTED SO MANY WINS THIS YEAR F...\n",
       "4       1  \"haha green me red you now loser whos winning ..."
      ]
     },
     "execution_count": 369,
     "metadata": {},
     "output_type": "execute_result"
    }
   ],
   "source": [
    "dev_df.head()"
   ]
  },
  {
   "cell_type": "code",
   "execution_count": null,
   "metadata": {},
   "outputs": [],
   "source": []
  },
  {
   "cell_type": "code",
   "execution_count": null,
   "metadata": {},
   "outputs": [],
   "source": []
  },
  {
   "cell_type": "code",
   "execution_count": null,
   "metadata": {},
   "outputs": [],
   "source": []
  },
  {
   "cell_type": "code",
   "execution_count": null,
   "metadata": {},
   "outputs": [],
   "source": []
  },
  {
   "cell_type": "code",
   "execution_count": null,
   "metadata": {},
   "outputs": [],
   "source": []
  },
  {
   "cell_type": "code",
   "execution_count": null,
   "metadata": {},
   "outputs": [],
   "source": []
  },
  {
   "cell_type": "code",
   "execution_count": null,
   "metadata": {},
   "outputs": [],
   "source": []
  }
 ],
 "metadata": {
  "kernelspec": {
   "display_name": "Python 3",
   "language": "python",
   "name": "python3"
  },
  "language_info": {
   "codemirror_mode": {
    "name": "ipython",
    "version": 3
   },
   "file_extension": ".py",
   "mimetype": "text/x-python",
   "name": "python",
   "nbconvert_exporter": "python",
   "pygments_lexer": "ipython3",
   "version": "3.6.5"
  }
 },
 "nbformat": 4,
 "nbformat_minor": 2
}
